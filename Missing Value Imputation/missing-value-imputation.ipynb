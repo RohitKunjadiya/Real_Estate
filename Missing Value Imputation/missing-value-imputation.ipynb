{
 "cells": [
  {
   "cell_type": "code",
   "execution_count": 1,
   "id": "62c0a942-5ae6-431d-89ee-f03cdf8e2eed",
   "metadata": {},
   "outputs": [],
   "source": [
    "import pandas as pd\n",
    "import numpy as np\n",
    "import matplotlib.pyplot as plt \n",
    "import seaborn as sns\n",
    "\n",
    "import missingno as msno "
   ]
  },
  {
   "cell_type": "code",
   "execution_count": 2,
   "id": "9ba40c02-8bfa-499e-9418-a8677fad6f60",
   "metadata": {},
   "outputs": [
    {
     "data": {
      "text/plain": [
       "(3228, 13)"
      ]
     },
     "execution_count": 2,
     "metadata": {},
     "output_type": "execute_result"
    }
   ],
   "source": [
    "df = pd.read_csv('surat_outlier.csv')\n",
    "\n",
    "df.shape"
   ]
  },
  {
   "cell_type": "code",
   "execution_count": 3,
   "id": "a482ec9b-14da-4c32-ab83-ffbb1e32ec94",
   "metadata": {},
   "outputs": [
    {
     "data": {
      "text/html": [
       "<div>\n",
       "<style scoped>\n",
       "    .dataframe tbody tr th:only-of-type {\n",
       "        vertical-align: middle;\n",
       "    }\n",
       "\n",
       "    .dataframe tbody tr th {\n",
       "        vertical-align: top;\n",
       "    }\n",
       "\n",
       "    .dataframe thead th {\n",
       "        text-align: right;\n",
       "    }\n",
       "</style>\n",
       "<table border=\"1\" class=\"dataframe\">\n",
       "  <thead>\n",
       "    <tr style=\"text-align: right;\">\n",
       "      <th></th>\n",
       "      <th>location</th>\n",
       "      <th>bhk</th>\n",
       "      <th>areaType</th>\n",
       "      <th>square_feet</th>\n",
       "      <th>transaction</th>\n",
       "      <th>status</th>\n",
       "      <th>floorNum</th>\n",
       "      <th>totalFloor</th>\n",
       "      <th>furnishing</th>\n",
       "      <th>facing</th>\n",
       "      <th>price_per_sqft</th>\n",
       "      <th>price</th>\n",
       "      <th>built_up_area</th>\n",
       "    </tr>\n",
       "  </thead>\n",
       "  <tbody>\n",
       "    <tr>\n",
       "      <th>0</th>\n",
       "      <td>palanpur</td>\n",
       "      <td>2</td>\n",
       "      <td>Super Area</td>\n",
       "      <td>1311</td>\n",
       "      <td>New Property</td>\n",
       "      <td>Under Construction</td>\n",
       "      <td>NaN</td>\n",
       "      <td>NaN</td>\n",
       "      <td>Unfurnished</td>\n",
       "      <td>NaN</td>\n",
       "      <td>4251.0</td>\n",
       "      <td>0.56</td>\n",
       "      <td>1311</td>\n",
       "    </tr>\n",
       "    <tr>\n",
       "      <th>1</th>\n",
       "      <td>palanpur</td>\n",
       "      <td>3</td>\n",
       "      <td>Super Area</td>\n",
       "      <td>1586</td>\n",
       "      <td>New Property</td>\n",
       "      <td>Undefined</td>\n",
       "      <td>NaN</td>\n",
       "      <td>NaN</td>\n",
       "      <td>Unfurnished</td>\n",
       "      <td>NaN</td>\n",
       "      <td>3751.0</td>\n",
       "      <td>0.59</td>\n",
       "      <td>1586</td>\n",
       "    </tr>\n",
       "    <tr>\n",
       "      <th>2</th>\n",
       "      <td>palanpur</td>\n",
       "      <td>2</td>\n",
       "      <td>Super Area</td>\n",
       "      <td>1185</td>\n",
       "      <td>New Property</td>\n",
       "      <td>Ready to Move</td>\n",
       "      <td>5.0</td>\n",
       "      <td>14.0</td>\n",
       "      <td>Unfurnished</td>\n",
       "      <td>East</td>\n",
       "      <td>3784.0</td>\n",
       "      <td>0.45</td>\n",
       "      <td>1185</td>\n",
       "    </tr>\n",
       "    <tr>\n",
       "      <th>3</th>\n",
       "      <td>dindoli</td>\n",
       "      <td>2</td>\n",
       "      <td>Carpet Area</td>\n",
       "      <td>644</td>\n",
       "      <td>New Property</td>\n",
       "      <td>Under Construction</td>\n",
       "      <td>5.0</td>\n",
       "      <td>10.0</td>\n",
       "      <td>Unfurnished</td>\n",
       "      <td>West</td>\n",
       "      <td>2891.0</td>\n",
       "      <td>0.34</td>\n",
       "      <td>708</td>\n",
       "    </tr>\n",
       "    <tr>\n",
       "      <th>4</th>\n",
       "      <td>palanpur</td>\n",
       "      <td>2</td>\n",
       "      <td>Super Area</td>\n",
       "      <td>1204</td>\n",
       "      <td>New Property</td>\n",
       "      <td>Under Construction</td>\n",
       "      <td>7.0</td>\n",
       "      <td>14.0</td>\n",
       "      <td>Unfurnished</td>\n",
       "      <td>East</td>\n",
       "      <td>3838.0</td>\n",
       "      <td>0.46</td>\n",
       "      <td>1204</td>\n",
       "    </tr>\n",
       "  </tbody>\n",
       "</table>\n",
       "</div>"
      ],
      "text/plain": [
       "   location  bhk     areaType  square_feet   transaction              status  \\\n",
       "0  palanpur    2   Super Area         1311  New Property  Under Construction   \n",
       "1  palanpur    3   Super Area         1586  New Property           Undefined   \n",
       "2  palanpur    2   Super Area         1185  New Property       Ready to Move   \n",
       "3   dindoli    2  Carpet Area          644  New Property  Under Construction   \n",
       "4  palanpur    2   Super Area         1204  New Property  Under Construction   \n",
       "\n",
       "   floorNum  totalFloor   furnishing facing  price_per_sqft  price  \\\n",
       "0       NaN         NaN  Unfurnished    NaN          4251.0   0.56   \n",
       "1       NaN         NaN  Unfurnished    NaN          3751.0   0.59   \n",
       "2       5.0        14.0  Unfurnished   East          3784.0   0.45   \n",
       "3       5.0        10.0  Unfurnished   West          2891.0   0.34   \n",
       "4       7.0        14.0  Unfurnished   East          3838.0   0.46   \n",
       "\n",
       "   built_up_area  \n",
       "0           1311  \n",
       "1           1586  \n",
       "2           1185  \n",
       "3            708  \n",
       "4           1204  "
      ]
     },
     "execution_count": 3,
     "metadata": {},
     "output_type": "execute_result"
    }
   ],
   "source": [
    "df.head()"
   ]
  },
  {
   "cell_type": "code",
   "execution_count": 4,
   "id": "ffc7cfef-cbb2-4952-80c0-0a2ae0b3bd95",
   "metadata": {},
   "outputs": [
    {
     "data": {
      "text/plain": [
       "0"
      ]
     },
     "execution_count": 4,
     "metadata": {},
     "output_type": "execute_result"
    }
   ],
   "source": [
    "df.duplicated().sum()"
   ]
  },
  {
   "cell_type": "code",
   "execution_count": 5,
   "id": "dd7749e0-575c-4443-abae-47389041ae64",
   "metadata": {},
   "outputs": [
    {
     "data": {
      "text/plain": [
       "location          240\n",
       "bhk                 0\n",
       "areaType            0\n",
       "square_feet         0\n",
       "transaction        14\n",
       "status              0\n",
       "floorNum          201\n",
       "totalFloor        201\n",
       "furnishing         22\n",
       "facing            824\n",
       "price_per_sqft    268\n",
       "price             170\n",
       "built_up_area       0\n",
       "dtype: int64"
      ]
     },
     "execution_count": 5,
     "metadata": {},
     "output_type": "execute_result"
    }
   ],
   "source": [
    "df.isna().sum()"
   ]
  },
  {
   "cell_type": "code",
   "execution_count": 6,
   "id": "728f2e19-8f7a-46f6-8b9b-eaf5d6434091",
   "metadata": {},
   "outputs": [
    {
     "data": {
      "text/plain": [
       "location           7.43\n",
       "bhk                0.00\n",
       "areaType           0.00\n",
       "square_feet        0.00\n",
       "transaction        0.43\n",
       "status             0.00\n",
       "floorNum           6.23\n",
       "totalFloor         6.23\n",
       "furnishing         0.68\n",
       "facing            25.53\n",
       "price_per_sqft     8.30\n",
       "price              5.27\n",
       "built_up_area      0.00\n",
       "dtype: float64"
      ]
     },
     "execution_count": 6,
     "metadata": {},
     "output_type": "execute_result"
    }
   ],
   "source": [
    "round(df.isna().mean()*100,2)"
   ]
  },
  {
   "cell_type": "code",
   "execution_count": 7,
   "id": "18713289-88d7-4831-a5b5-bf189fecb0f3",
   "metadata": {},
   "outputs": [
    {
     "data": {
      "image/png": "[encoded data removed]",
      "text/plain": [
       "<Figure size 2500x1000 with 3 Axes>"
      ]
     },
     "metadata": {},
     "output_type": "display_data"
    }
   ],
   "source": [
    "msno.bar(df)\n",
    "plt.show()"
   ]
  },
  {
   "cell_type": "code",
   "execution_count": 8,
   "id": "14fac8c1-1be6-4901-bc18-5e6335a5c97e",
   "metadata": {},
   "outputs": [
    {
     "data": {
      "image/png": "[encoded data removed]",
      "text/plain": [
       "<Figure size 2500x1000 with 2 Axes>"
      ]
     },
     "metadata": {},
     "output_type": "display_data"
    }
   ],
   "source": [
    "msno.matrix(df)\n",
    "plt.show()"
   ]
  },
  {
   "cell_type": "code",
   "execution_count": 9,
   "id": "fc70cf69-8875-4398-8055-0d12f96581a7",
   "metadata": {},
   "outputs": [],
   "source": [
    "# msno.heatmap(df)\n",
    "# plt.show()"
   ]
  },
  {
   "cell_type": "code",
   "execution_count": 10,
   "id": "e0860552-4275-4eb9-b6f4-bbddba25dfc9",
   "metadata": {},
   "outputs": [
    {
     "data": {
      "image/png": "[encoded data removed]",
      "text/plain": [
       "<Figure size 2500x1000 with 1 Axes>"
      ]
     },
     "metadata": {},
     "output_type": "display_data"
    }
   ],
   "source": [
    "# Dendrogram to visualize the hierarchical clustering of missing values\n",
    "msno.dendrogram(df)\n",
    "plt.show()"
   ]
  },
  {
   "cell_type": "markdown",
   "id": "032f9d33-2cf7-4c50-a536-cbaa91f8b39c",
   "metadata": {},
   "source": [
    "# Handling Missing values"
   ]
  },
  {
   "cell_type": "markdown",
   "id": "3884e626-e64a-49ca-9294-5e7fd824dcb5",
   "metadata": {},
   "source": [
    "# location Null Values Treatment"
   ]
  },
  {
   "cell_type": "code",
   "execution_count": 11,
   "id": "5f1c9525-cb9b-41d4-b7e2-31e4a22d53fe",
   "metadata": {},
   "outputs": [
    {
     "data": {
      "text/plain": [
       "location          240\n",
       "bhk                 0\n",
       "areaType            0\n",
       "square_feet         0\n",
       "transaction        14\n",
       "status              0\n",
       "floorNum          201\n",
       "totalFloor        201\n",
       "furnishing         22\n",
       "facing            824\n",
       "price_per_sqft    268\n",
       "price             170\n",
       "built_up_area       0\n",
       "dtype: int64"
      ]
     },
     "execution_count": 11,
     "metadata": {},
     "output_type": "execute_result"
    }
   ],
   "source": [
    "df.isna().sum()"
   ]
  },
  {
   "cell_type": "code",
   "execution_count": 12,
   "id": "8ea1ce91-5c96-49b8-b355-a3c96a42c0a2",
   "metadata": {},
   "outputs": [],
   "source": [
    "df = df[~((df['location'].isna()) & (df['price'].isna()))]"
   ]
  },
  {
   "cell_type": "code",
   "execution_count": 13,
   "id": "f253c799-668b-4948-b486-cd8bfe6cae0f",
   "metadata": {},
   "outputs": [
    {
     "data": {
      "text/plain": [
       "location\n",
       "vesu                 130\n",
       "dumas road/hazira     23\n",
       "athwalines            10\n",
       "pal                    6\n",
       "althan                 5\n",
       "adajan                 3\n",
       "Name: count, dtype: int64"
      ]
     },
     "execution_count": 13,
     "metadata": {},
     "output_type": "execute_result"
    }
   ],
   "source": [
    "df[df['price']>3]['location'].value_counts()"
   ]
  },
  {
   "cell_type": "code",
   "execution_count": 14,
   "id": "222dcae3-e9bc-466a-9560-aed7d3dbeada",
   "metadata": {},
   "outputs": [
    {
     "data": {
      "text/plain": [
       "location\n",
       "vesu                 151\n",
       "pal                   27\n",
       "dumas road/hazira     12\n",
       "adajan                 8\n",
       "althan                 5\n",
       "athwalines             2\n",
       "Name: count, dtype: int64"
      ]
     },
     "execution_count": 14,
     "metadata": {},
     "output_type": "execute_result"
    }
   ],
   "source": [
    "df[(df['price']>2) & (df['price'] <= 3)]['location'].value_counts()"
   ]
  },
  {
   "cell_type": "code",
   "execution_count": 15,
   "id": "01662799-1844-4190-a548-b0ad30069e4b",
   "metadata": {},
   "outputs": [
    {
     "data": {
      "text/plain": [
       "location\n",
       "vesu                 370\n",
       "pal                   95\n",
       "dumas road/hazira     57\n",
       "althan                48\n",
       "adajan                31\n",
       "athwalines            20\n",
       "palanpur              14\n",
       "sarthana/varachha      1\n",
       "dindoli                1\n",
       "jahangirpura           1\n",
       "katargam               1\n",
       "Name: count, dtype: int64"
      ]
     },
     "execution_count": 15,
     "metadata": {},
     "output_type": "execute_result"
    }
   ],
   "source": [
    "df[(df['price'] > 1) & (df['price'] <= 2)]['location'].value_counts()"
   ]
  },
  {
   "cell_type": "code",
   "execution_count": 16,
   "id": "01b34ba5-0231-41a5-bf08-e2561bc5a570",
   "metadata": {},
   "outputs": [
    {
     "data": {
      "text/plain": [
       "location\n",
       "palanpur                              412\n",
       "pal                                   210\n",
       "jahangirpura                          203\n",
       "althan                                192\n",
       "vesu                                  186\n",
       "adajan                                164\n",
       "dindoli                               113\n",
       "athwalines                             69\n",
       "dumas road/hazira                      60\n",
       "udhna                                  45\n",
       "amroli                                 37\n",
       "nanpura/gopipura/chauta/sagrampura     30\n",
       "sarthana/varachha                      27\n",
       "katargam                               26\n",
       "punagam                                19\n",
       "kamrej                                 11\n",
       "sachin                                  9\n",
       "kadodara                                8\n",
       "bardoli                                 4\n",
       "Name: count, dtype: int64"
      ]
     },
     "execution_count": 16,
     "metadata": {},
     "output_type": "execute_result"
    }
   ],
   "source": [
    "df[(df['price'] <= 1)]['location'].value_counts()"
   ]
  },
  {
   "cell_type": "code",
   "execution_count": 17,
   "id": "0161a8e3-c310-43fb-a3af-86d0d34847e5",
   "metadata": {},
   "outputs": [
    {
     "data": {
      "text/plain": [
       "location          212\n",
       "bhk                 0\n",
       "areaType            0\n",
       "square_feet         0\n",
       "transaction        12\n",
       "status              0\n",
       "floorNum          201\n",
       "totalFloor        201\n",
       "furnishing         22\n",
       "facing            799\n",
       "price_per_sqft    240\n",
       "price             142\n",
       "built_up_area       0\n",
       "dtype: int64"
      ]
     },
     "execution_count": 17,
     "metadata": {},
     "output_type": "execute_result"
    }
   ],
   "source": [
    "df.isna().sum()"
   ]
  },
  {
   "cell_type": "code",
   "execution_count": 18,
   "id": "059db2df-d522-49b2-9fad-eb295d4d69e0",
   "metadata": {},
   "outputs": [],
   "source": [
    "# Function to update 'location' based on 'price'\n",
    "def update_location(row):\n",
    "    if pd.isna(row['location']):\n",
    "        if row['price'] > 3:\n",
    "            return 'vesu'\n",
    "        elif 2 < row['price'] <= 3:\n",
    "            return 'vesu'\n",
    "        elif 1 < row['price'] <= 2:\n",
    "            return 'vesu'\n",
    "        else:\n",
    "            return 'palanpur'\n",
    "    return row['location']\n",
    "\n",
    "df['location'] = df.apply(update_location, axis=1)"
   ]
  },
  {
   "cell_type": "code",
   "execution_count": 19,
   "id": "fd315d3a-69b4-4382-b320-6f31e9a75a49",
   "metadata": {},
   "outputs": [
    {
     "data": {
      "text/plain": [
       "location\n",
       "vesu                                  881\n",
       "palanpur                              620\n",
       "pal                                   339\n",
       "althan                                261\n",
       "adajan                                210\n",
       "jahangirpura                          204\n",
       "dumas road/hazira                     157\n",
       "dindoli                               126\n",
       "athwalines                            106\n",
       "udhna                                  57\n",
       "amroli                                 53\n",
       "nanpura/gopipura/chauta/sagrampura     37\n",
       "katargam                               36\n",
       "sarthana/varachha                      30\n",
       "kamrej                                 25\n",
       "punagam                                22\n",
       "sachin                                 18\n",
       "kadodara                               12\n",
       "bardoli                                 6\n",
       "Name: count, dtype: int64"
      ]
     },
     "execution_count": 19,
     "metadata": {},
     "output_type": "execute_result"
    }
   ],
   "source": [
    "df['location'].value_counts()"
   ]
  },
  {
   "cell_type": "markdown",
   "id": "5c960ce3-e1ac-470c-8e80-33e2dee889e7",
   "metadata": {},
   "source": [
    "# Transaction & Furnishing"
   ]
  },
  {
   "cell_type": "code",
   "execution_count": 20,
   "id": "615e3a5e-2239-4119-b881-8d3f53a06283",
   "metadata": {},
   "outputs": [],
   "source": [
    "df = df[~((df['transaction'].isna()) & (df['price'].isna()))]\n",
    "df = df[~(df['furnishing'].isna())]\n",
    "\n",
    "df.reset_index(drop=True, inplace=True)"
   ]
  },
  {
   "cell_type": "code",
   "execution_count": 21,
   "id": "2ff69695-8e31-4f78-a6ff-0ce77d59ee97",
   "metadata": {},
   "outputs": [
    {
     "name": "stderr",
     "output_type": "stream",
     "text": [
      "C:\\Users\\HP\\anaconda3\\Lib\\site-packages\\seaborn\\_oldcore.py:1119: FutureWarning: use_inf_as_na option is deprecated and will be removed in a future version. Convert inf values to NaN before operating instead.\n",
      "  with pd.option_context('mode.use_inf_as_na', True):\n",
      "C:\\Users\\HP\\anaconda3\\Lib\\site-packages\\seaborn\\_oldcore.py:1119: FutureWarning: use_inf_as_na option is deprecated and will be removed in a future version. Convert inf values to NaN before operating instead.\n",
      "  with pd.option_context('mode.use_inf_as_na', True):\n",
      "C:\\Users\\HP\\anaconda3\\Lib\\site-packages\\seaborn\\_oldcore.py:1119: FutureWarning: use_inf_as_na option is deprecated and will be removed in a future version. Convert inf values to NaN before operating instead.\n",
      "  with pd.option_context('mode.use_inf_as_na', True):\n"
     ]
    },
    {
     "data": {
      "image/png": "[encoded data removed]",
      "text/plain": [
       "<Figure size 640x480 with 1 Axes>"
      ]
     },
     "metadata": {},
     "output_type": "display_data"
    }
   ],
   "source": [
    "sns.kdeplot(df[df['furnishing'] == 'Unfurnished']['price'], label='Unfurnished', fill=True)\n",
    "sns.kdeplot(df[df['furnishing'] == 'Furnished']['price'], label='Furnished', fill=True)\n",
    "sns.kdeplot(df[df['furnishing'] == 'Semi-Furnished']['price'], label='Semi-Furnished', fill=True)\n",
    "plt.title('Price Distribution by Funishing Category')\n",
    "plt.xlabel('price')\n",
    "plt.ylabel('Density')\n",
    "plt.legend()\n",
    "plt.show()"
   ]
  },
  {
   "cell_type": "code",
   "execution_count": 22,
   "id": "329d32ba-1f04-42da-9b22-ce64e1040b86",
   "metadata": {},
   "outputs": [
    {
     "data": {
      "text/plain": [
       "(3177, 13)"
      ]
     },
     "execution_count": 22,
     "metadata": {},
     "output_type": "execute_result"
    }
   ],
   "source": [
    "df.shape"
   ]
  },
  {
   "cell_type": "code",
   "execution_count": 23,
   "id": "16532640-a2e3-40f0-9840-83da4856ad7b",
   "metadata": {},
   "outputs": [
    {
     "data": {
      "text/html": [
       "<div>\n",
       "<style scoped>\n",
       "    .dataframe tbody tr th:only-of-type {\n",
       "        vertical-align: middle;\n",
       "    }\n",
       "\n",
       "    .dataframe tbody tr th {\n",
       "        vertical-align: top;\n",
       "    }\n",
       "\n",
       "    .dataframe thead th {\n",
       "        text-align: right;\n",
       "    }\n",
       "</style>\n",
       "<table border=\"1\" class=\"dataframe\">\n",
       "  <thead>\n",
       "    <tr style=\"text-align: right;\">\n",
       "      <th></th>\n",
       "      <th>location</th>\n",
       "      <th>bhk</th>\n",
       "      <th>areaType</th>\n",
       "      <th>square_feet</th>\n",
       "      <th>transaction</th>\n",
       "      <th>status</th>\n",
       "      <th>floorNum</th>\n",
       "      <th>totalFloor</th>\n",
       "      <th>furnishing</th>\n",
       "      <th>facing</th>\n",
       "      <th>price_per_sqft</th>\n",
       "      <th>price</th>\n",
       "      <th>built_up_area</th>\n",
       "    </tr>\n",
       "  </thead>\n",
       "  <tbody>\n",
       "    <tr>\n",
       "      <th>130</th>\n",
       "      <td>vesu</td>\n",
       "      <td>1</td>\n",
       "      <td>Carpet Area</td>\n",
       "      <td>500</td>\n",
       "      <td>NaN</td>\n",
       "      <td>Ready to Move</td>\n",
       "      <td>4.0</td>\n",
       "      <td>8.0</td>\n",
       "      <td>Unfurnished</td>\n",
       "      <td>NaN</td>\n",
       "      <td>NaN</td>\n",
       "      <td>0.16</td>\n",
       "      <td>550</td>\n",
       "    </tr>\n",
       "    <tr>\n",
       "      <th>152</th>\n",
       "      <td>palanpur</td>\n",
       "      <td>1</td>\n",
       "      <td>Carpet Area</td>\n",
       "      <td>700</td>\n",
       "      <td>NaN</td>\n",
       "      <td>Ready to Move</td>\n",
       "      <td>9.0</td>\n",
       "      <td>12.0</td>\n",
       "      <td>Unfurnished</td>\n",
       "      <td>NaN</td>\n",
       "      <td>NaN</td>\n",
       "      <td>0.54</td>\n",
       "      <td>770</td>\n",
       "    </tr>\n",
       "    <tr>\n",
       "      <th>254</th>\n",
       "      <td>dindoli</td>\n",
       "      <td>2</td>\n",
       "      <td>Carpet Area</td>\n",
       "      <td>897</td>\n",
       "      <td>NaN</td>\n",
       "      <td>Ready to Move</td>\n",
       "      <td>2.0</td>\n",
       "      <td>5.0</td>\n",
       "      <td>Furnished</td>\n",
       "      <td>NaN</td>\n",
       "      <td>NaN</td>\n",
       "      <td>0.23</td>\n",
       "      <td>987</td>\n",
       "    </tr>\n",
       "    <tr>\n",
       "      <th>278</th>\n",
       "      <td>palanpur</td>\n",
       "      <td>2</td>\n",
       "      <td>Carpet Area</td>\n",
       "      <td>1246</td>\n",
       "      <td>NaN</td>\n",
       "      <td>Ready to Move</td>\n",
       "      <td>4.0</td>\n",
       "      <td>12.0</td>\n",
       "      <td>Semi-Furnished</td>\n",
       "      <td>NaN</td>\n",
       "      <td>NaN</td>\n",
       "      <td>0.50</td>\n",
       "      <td>1371</td>\n",
       "    </tr>\n",
       "    <tr>\n",
       "      <th>441</th>\n",
       "      <td>adajan</td>\n",
       "      <td>2</td>\n",
       "      <td>Carpet Area</td>\n",
       "      <td>512</td>\n",
       "      <td>NaN</td>\n",
       "      <td>Ready to Move</td>\n",
       "      <td>2.0</td>\n",
       "      <td>13.0</td>\n",
       "      <td>Semi-Furnished</td>\n",
       "      <td>NaN</td>\n",
       "      <td>NaN</td>\n",
       "      <td>0.15</td>\n",
       "      <td>563</td>\n",
       "    </tr>\n",
       "    <tr>\n",
       "      <th>500</th>\n",
       "      <td>adajan</td>\n",
       "      <td>2</td>\n",
       "      <td>Carpet Area</td>\n",
       "      <td>1190</td>\n",
       "      <td>NaN</td>\n",
       "      <td>Ready to Move</td>\n",
       "      <td>7.0</td>\n",
       "      <td>7.0</td>\n",
       "      <td>Semi-Furnished</td>\n",
       "      <td>NaN</td>\n",
       "      <td>NaN</td>\n",
       "      <td>0.40</td>\n",
       "      <td>1309</td>\n",
       "    </tr>\n",
       "    <tr>\n",
       "      <th>548</th>\n",
       "      <td>adajan</td>\n",
       "      <td>2</td>\n",
       "      <td>Carpet Area</td>\n",
       "      <td>955</td>\n",
       "      <td>NaN</td>\n",
       "      <td>Ready to Move</td>\n",
       "      <td>3.0</td>\n",
       "      <td>7.0</td>\n",
       "      <td>Furnished</td>\n",
       "      <td>NaN</td>\n",
       "      <td>NaN</td>\n",
       "      <td>0.55</td>\n",
       "      <td>1050</td>\n",
       "    </tr>\n",
       "    <tr>\n",
       "      <th>899</th>\n",
       "      <td>udhna</td>\n",
       "      <td>1</td>\n",
       "      <td>Carpet Area</td>\n",
       "      <td>650</td>\n",
       "      <td>NaN</td>\n",
       "      <td>Ready to Move</td>\n",
       "      <td>4.0</td>\n",
       "      <td>4.0</td>\n",
       "      <td>Semi-Furnished</td>\n",
       "      <td>NaN</td>\n",
       "      <td>NaN</td>\n",
       "      <td>0.14</td>\n",
       "      <td>715</td>\n",
       "    </tr>\n",
       "    <tr>\n",
       "      <th>1458</th>\n",
       "      <td>vesu</td>\n",
       "      <td>3</td>\n",
       "      <td>Carpet Area</td>\n",
       "      <td>1919</td>\n",
       "      <td>NaN</td>\n",
       "      <td>Ready to Move</td>\n",
       "      <td>7.0</td>\n",
       "      <td>12.0</td>\n",
       "      <td>Unfurnished</td>\n",
       "      <td>NaN</td>\n",
       "      <td>NaN</td>\n",
       "      <td>1.00</td>\n",
       "      <td>2111</td>\n",
       "    </tr>\n",
       "    <tr>\n",
       "      <th>1509</th>\n",
       "      <td>vesu</td>\n",
       "      <td>3</td>\n",
       "      <td>Carpet Area</td>\n",
       "      <td>1934</td>\n",
       "      <td>NaN</td>\n",
       "      <td>Ready to Move</td>\n",
       "      <td>11.0</td>\n",
       "      <td>13.0</td>\n",
       "      <td>Furnished</td>\n",
       "      <td>NaN</td>\n",
       "      <td>NaN</td>\n",
       "      <td>1.25</td>\n",
       "      <td>2127</td>\n",
       "    </tr>\n",
       "    <tr>\n",
       "      <th>1533</th>\n",
       "      <td>palanpur</td>\n",
       "      <td>3</td>\n",
       "      <td>Carpet Area</td>\n",
       "      <td>1955</td>\n",
       "      <td>NaN</td>\n",
       "      <td>Ready to Move</td>\n",
       "      <td>10.0</td>\n",
       "      <td>14.0</td>\n",
       "      <td>Furnished</td>\n",
       "      <td>NaN</td>\n",
       "      <td>NaN</td>\n",
       "      <td>1.10</td>\n",
       "      <td>2150</td>\n",
       "    </tr>\n",
       "  </tbody>\n",
       "</table>\n",
       "</div>"
      ],
      "text/plain": [
       "      location  bhk     areaType  square_feet transaction         status  \\\n",
       "130       vesu    1  Carpet Area          500         NaN  Ready to Move   \n",
       "152   palanpur    1  Carpet Area          700         NaN  Ready to Move   \n",
       "254    dindoli    2  Carpet Area          897         NaN  Ready to Move   \n",
       "278   palanpur    2  Carpet Area         1246         NaN  Ready to Move   \n",
       "441     adajan    2  Carpet Area          512         NaN  Ready to Move   \n",
       "500     adajan    2  Carpet Area         1190         NaN  Ready to Move   \n",
       "548     adajan    2  Carpet Area          955         NaN  Ready to Move   \n",
       "899      udhna    1  Carpet Area          650         NaN  Ready to Move   \n",
       "1458      vesu    3  Carpet Area         1919         NaN  Ready to Move   \n",
       "1509      vesu    3  Carpet Area         1934         NaN  Ready to Move   \n",
       "1533  palanpur    3  Carpet Area         1955         NaN  Ready to Move   \n",
       "\n",
       "      floorNum  totalFloor      furnishing facing  price_per_sqft  price  \\\n",
       "130        4.0         8.0     Unfurnished    NaN             NaN   0.16   \n",
       "152        9.0        12.0     Unfurnished    NaN             NaN   0.54   \n",
       "254        2.0         5.0       Furnished    NaN             NaN   0.23   \n",
       "278        4.0        12.0  Semi-Furnished    NaN             NaN   0.50   \n",
       "441        2.0        13.0  Semi-Furnished    NaN             NaN   0.15   \n",
       "500        7.0         7.0  Semi-Furnished    NaN             NaN   0.40   \n",
       "548        3.0         7.0       Furnished    NaN             NaN   0.55   \n",
       "899        4.0         4.0  Semi-Furnished    NaN             NaN   0.14   \n",
       "1458       7.0        12.0     Unfurnished    NaN             NaN   1.00   \n",
       "1509      11.0        13.0       Furnished    NaN             NaN   1.25   \n",
       "1533      10.0        14.0       Furnished    NaN             NaN   1.10   \n",
       "\n",
       "      built_up_area  \n",
       "130             550  \n",
       "152             770  \n",
       "254             987  \n",
       "278            1371  \n",
       "441             563  \n",
       "500            1309  \n",
       "548            1050  \n",
       "899             715  \n",
       "1458           2111  \n",
       "1509           2127  \n",
       "1533           2150  "
      ]
     },
     "execution_count": 23,
     "metadata": {},
     "output_type": "execute_result"
    }
   ],
   "source": [
    "df[df['transaction'].isna()]"
   ]
  },
  {
   "cell_type": "code",
   "execution_count": 24,
   "id": "c7290c94-f4ff-426b-bc4c-85c390603c1d",
   "metadata": {},
   "outputs": [
    {
     "data": {
      "text/plain": [
       "status\n",
       "Ready to Move         1469\n",
       "Under Construction      81\n",
       "Undefined               29\n",
       "Name: count, dtype: int64"
      ]
     },
     "execution_count": 24,
     "metadata": {},
     "output_type": "execute_result"
    }
   ],
   "source": [
    "df[df['transaction'] == 'Resale']['status'].value_counts()"
   ]
  },
  {
   "cell_type": "code",
   "execution_count": 25,
   "id": "b8843824-d293-45ec-8326-6d83ca2be9a9",
   "metadata": {},
   "outputs": [
    {
     "data": {
      "text/plain": [
       "status\n",
       "Under Construction    948\n",
       "Ready to Move         616\n",
       "Undefined              23\n",
       "Name: count, dtype: int64"
      ]
     },
     "execution_count": 25,
     "metadata": {},
     "output_type": "execute_result"
    }
   ],
   "source": [
    "df[df['transaction'] == 'New Property']['status'].value_counts()"
   ]
  },
  {
   "cell_type": "code",
   "execution_count": 26,
   "id": "ef5798fd-8218-4375-a96e-660760c93b9f",
   "metadata": {},
   "outputs": [],
   "source": [
    "df['transaction'].fillna('Resale', inplace=True)"
   ]
  },
  {
   "cell_type": "markdown",
   "id": "1b33e932-81f2-49a8-acea-3ea4baff7caf",
   "metadata": {},
   "source": [
    "# FloorNum & TotalFloor"
   ]
  },
  {
   "cell_type": "code",
   "execution_count": 27,
   "id": "db9efdea-d71e-4f37-9113-05f492ff75fb",
   "metadata": {},
   "outputs": [
    {
     "data": {
      "text/plain": [
       "location            0\n",
       "bhk                 0\n",
       "areaType            0\n",
       "square_feet         0\n",
       "transaction         0\n",
       "status              0\n",
       "floorNum          184\n",
       "totalFloor        184\n",
       "furnishing          0\n",
       "facing            776\n",
       "price_per_sqft    235\n",
       "price             137\n",
       "built_up_area       0\n",
       "dtype: int64"
      ]
     },
     "execution_count": 27,
     "metadata": {},
     "output_type": "execute_result"
    }
   ],
   "source": [
    "df.isna().sum()"
   ]
  },
  {
   "cell_type": "code",
   "execution_count": 28,
   "id": "81174dcb-df98-4e25-944e-ceb6e59c0721",
   "metadata": {},
   "outputs": [],
   "source": [
    "df = df[~((df['floorNum'].isna()) & (df['price'].isna()))]\n",
    "df = df[~((df['floorNum'].isna()) & (df['totalFloor'].isna()) & (df['facing'].isna()))]\n",
    "\n",
    "df.reset_index(drop=True, inplace=True)"
   ]
  },
  {
   "cell_type": "code",
   "execution_count": 29,
   "id": "3d3aa2aa-1e1e-4c95-91b4-a8cd6927ffe1",
   "metadata": {},
   "outputs": [
    {
     "data": {
      "text/plain": [
       "5.0"
      ]
     },
     "execution_count": 29,
     "metadata": {},
     "output_type": "execute_result"
    }
   ],
   "source": [
    "df['floorNum'].median()"
   ]
  },
  {
   "cell_type": "code",
   "execution_count": 30,
   "id": "4bab32c6-a8c6-431c-95f3-8cba038d9107",
   "metadata": {},
   "outputs": [],
   "source": [
    "df['floorNum'].fillna(df['floorNum'].median(), inplace=True)\n",
    "df['totalFloor'].fillna(df['totalFloor'].median(), inplace=True)"
   ]
  },
  {
   "cell_type": "code",
   "execution_count": 31,
   "id": "bf07a6ca-9143-4d67-9fb5-13c9ed5a72bc",
   "metadata": {},
   "outputs": [
    {
     "data": {
      "text/plain": [
       "location            0\n",
       "bhk                 0\n",
       "areaType            0\n",
       "square_feet         0\n",
       "transaction         0\n",
       "status              0\n",
       "floorNum            0\n",
       "totalFloor          0\n",
       "furnishing          0\n",
       "facing            703\n",
       "price_per_sqft    225\n",
       "price             127\n",
       "built_up_area       0\n",
       "dtype: int64"
      ]
     },
     "execution_count": 31,
     "metadata": {},
     "output_type": "execute_result"
    }
   ],
   "source": [
    "df.isna().sum()"
   ]
  },
  {
   "cell_type": "markdown",
   "id": "5f2918cc-12b1-481e-8916-75e36a953391",
   "metadata": {},
   "source": [
    "# Facing"
   ]
  },
  {
   "cell_type": "code",
   "execution_count": 32,
   "id": "a924a561-73b1-42d7-9ffa-ecd31a02adcd",
   "metadata": {},
   "outputs": [
    {
     "data": {
      "text/html": [
       "<div>\n",
       "<style scoped>\n",
       "    .dataframe tbody tr th:only-of-type {\n",
       "        vertical-align: middle;\n",
       "    }\n",
       "\n",
       "    .dataframe tbody tr th {\n",
       "        vertical-align: top;\n",
       "    }\n",
       "\n",
       "    .dataframe thead th {\n",
       "        text-align: right;\n",
       "    }\n",
       "</style>\n",
       "<table border=\"1\" class=\"dataframe\">\n",
       "  <thead>\n",
       "    <tr style=\"text-align: right;\">\n",
       "      <th></th>\n",
       "      <th>location</th>\n",
       "      <th>bhk</th>\n",
       "      <th>areaType</th>\n",
       "      <th>square_feet</th>\n",
       "      <th>transaction</th>\n",
       "      <th>status</th>\n",
       "      <th>floorNum</th>\n",
       "      <th>totalFloor</th>\n",
       "      <th>furnishing</th>\n",
       "      <th>facing</th>\n",
       "      <th>price_per_sqft</th>\n",
       "      <th>price</th>\n",
       "      <th>built_up_area</th>\n",
       "    </tr>\n",
       "  </thead>\n",
       "  <tbody>\n",
       "    <tr>\n",
       "      <th>10</th>\n",
       "      <td>palanpur</td>\n",
       "      <td>2</td>\n",
       "      <td>Super Area</td>\n",
       "      <td>1150</td>\n",
       "      <td>Resale</td>\n",
       "      <td>Undefined</td>\n",
       "      <td>1.0</td>\n",
       "      <td>7.0</td>\n",
       "      <td>Unfurnished</td>\n",
       "      <td>NaN</td>\n",
       "      <td>3304.0</td>\n",
       "      <td>0.38</td>\n",
       "      <td>1150</td>\n",
       "    </tr>\n",
       "    <tr>\n",
       "      <th>18</th>\n",
       "      <td>pal</td>\n",
       "      <td>3</td>\n",
       "      <td>Carpet Area</td>\n",
       "      <td>1600</td>\n",
       "      <td>Resale</td>\n",
       "      <td>Ready to Move</td>\n",
       "      <td>2.0</td>\n",
       "      <td>13.0</td>\n",
       "      <td>Semi-Furnished</td>\n",
       "      <td>NaN</td>\n",
       "      <td>NaN</td>\n",
       "      <td>0.56</td>\n",
       "      <td>1760</td>\n",
       "    </tr>\n",
       "    <tr>\n",
       "      <th>36</th>\n",
       "      <td>palanpur</td>\n",
       "      <td>3</td>\n",
       "      <td>Super Area</td>\n",
       "      <td>1515</td>\n",
       "      <td>Resale</td>\n",
       "      <td>Ready to Move</td>\n",
       "      <td>3.0</td>\n",
       "      <td>5.0</td>\n",
       "      <td>Semi-Furnished</td>\n",
       "      <td>NaN</td>\n",
       "      <td>3960.0</td>\n",
       "      <td>0.60</td>\n",
       "      <td>1515</td>\n",
       "    </tr>\n",
       "    <tr>\n",
       "      <th>37</th>\n",
       "      <td>jahangirpura</td>\n",
       "      <td>2</td>\n",
       "      <td>Carpet Area</td>\n",
       "      <td>800</td>\n",
       "      <td>New Property</td>\n",
       "      <td>Under Construction</td>\n",
       "      <td>5.0</td>\n",
       "      <td>13.0</td>\n",
       "      <td>Unfurnished</td>\n",
       "      <td>NaN</td>\n",
       "      <td>2868.0</td>\n",
       "      <td>0.38</td>\n",
       "      <td>880</td>\n",
       "    </tr>\n",
       "    <tr>\n",
       "      <th>38</th>\n",
       "      <td>althan</td>\n",
       "      <td>2</td>\n",
       "      <td>Super Area</td>\n",
       "      <td>1173</td>\n",
       "      <td>Resale</td>\n",
       "      <td>Ready to Move</td>\n",
       "      <td>8.0</td>\n",
       "      <td>19.0</td>\n",
       "      <td>Unfurnished</td>\n",
       "      <td>NaN</td>\n",
       "      <td>4774.0</td>\n",
       "      <td>0.56</td>\n",
       "      <td>1173</td>\n",
       "    </tr>\n",
       "    <tr>\n",
       "      <th>...</th>\n",
       "      <td>...</td>\n",
       "      <td>...</td>\n",
       "      <td>...</td>\n",
       "      <td>...</td>\n",
       "      <td>...</td>\n",
       "      <td>...</td>\n",
       "      <td>...</td>\n",
       "      <td>...</td>\n",
       "      <td>...</td>\n",
       "      <td>...</td>\n",
       "      <td>...</td>\n",
       "      <td>...</td>\n",
       "      <td>...</td>\n",
       "    </tr>\n",
       "    <tr>\n",
       "      <th>2665</th>\n",
       "      <td>vesu</td>\n",
       "      <td>6</td>\n",
       "      <td>Super Area</td>\n",
       "      <td>6130</td>\n",
       "      <td>Resale</td>\n",
       "      <td>Ready to Move</td>\n",
       "      <td>11.0</td>\n",
       "      <td>12.0</td>\n",
       "      <td>Unfurnished</td>\n",
       "      <td>NaN</td>\n",
       "      <td>4486.0</td>\n",
       "      <td>2.75</td>\n",
       "      <td>6130</td>\n",
       "    </tr>\n",
       "    <tr>\n",
       "      <th>2667</th>\n",
       "      <td>vesu</td>\n",
       "      <td>3</td>\n",
       "      <td>Carpet Area</td>\n",
       "      <td>3000</td>\n",
       "      <td>New Property</td>\n",
       "      <td>Under Construction</td>\n",
       "      <td>4.0</td>\n",
       "      <td>9.0</td>\n",
       "      <td>Unfurnished</td>\n",
       "      <td>NaN</td>\n",
       "      <td>NaN</td>\n",
       "      <td>2.00</td>\n",
       "      <td>3300</td>\n",
       "    </tr>\n",
       "    <tr>\n",
       "      <th>2876</th>\n",
       "      <td>vesu</td>\n",
       "      <td>4</td>\n",
       "      <td>Super Area</td>\n",
       "      <td>3401</td>\n",
       "      <td>New Property</td>\n",
       "      <td>Under Construction</td>\n",
       "      <td>1.0</td>\n",
       "      <td>12.0</td>\n",
       "      <td>Unfurnished</td>\n",
       "      <td>NaN</td>\n",
       "      <td>5601.0</td>\n",
       "      <td>1.90</td>\n",
       "      <td>3401</td>\n",
       "    </tr>\n",
       "    <tr>\n",
       "      <th>2906</th>\n",
       "      <td>vesu</td>\n",
       "      <td>4</td>\n",
       "      <td>Super Area</td>\n",
       "      <td>4000</td>\n",
       "      <td>New Property</td>\n",
       "      <td>Ready to Move</td>\n",
       "      <td>12.0</td>\n",
       "      <td>12.0</td>\n",
       "      <td>Unfurnished</td>\n",
       "      <td>NaN</td>\n",
       "      <td>6500.0</td>\n",
       "      <td>2.60</td>\n",
       "      <td>4000</td>\n",
       "    </tr>\n",
       "    <tr>\n",
       "      <th>2912</th>\n",
       "      <td>vesu</td>\n",
       "      <td>3</td>\n",
       "      <td>Super Area</td>\n",
       "      <td>2565</td>\n",
       "      <td>New Property</td>\n",
       "      <td>Under Construction</td>\n",
       "      <td>4.0</td>\n",
       "      <td>13.0</td>\n",
       "      <td>Unfurnished</td>\n",
       "      <td>NaN</td>\n",
       "      <td>6570.0</td>\n",
       "      <td>1.68</td>\n",
       "      <td>2565</td>\n",
       "    </tr>\n",
       "  </tbody>\n",
       "</table>\n",
       "<p>703 rows × 13 columns</p>\n",
       "</div>"
      ],
      "text/plain": [
       "          location  bhk     areaType  square_feet   transaction  \\\n",
       "10        palanpur    2   Super Area         1150        Resale   \n",
       "18             pal    3  Carpet Area         1600        Resale   \n",
       "36        palanpur    3   Super Area         1515        Resale   \n",
       "37    jahangirpura    2  Carpet Area          800  New Property   \n",
       "38          althan    2   Super Area         1173        Resale   \n",
       "...            ...  ...          ...          ...           ...   \n",
       "2665          vesu    6   Super Area         6130        Resale   \n",
       "2667          vesu    3  Carpet Area         3000  New Property   \n",
       "2876          vesu    4   Super Area         3401  New Property   \n",
       "2906          vesu    4   Super Area         4000  New Property   \n",
       "2912          vesu    3   Super Area         2565  New Property   \n",
       "\n",
       "                  status  floorNum  totalFloor      furnishing facing  \\\n",
       "10             Undefined       1.0         7.0     Unfurnished    NaN   \n",
       "18         Ready to Move       2.0        13.0  Semi-Furnished    NaN   \n",
       "36         Ready to Move       3.0         5.0  Semi-Furnished    NaN   \n",
       "37    Under Construction       5.0        13.0     Unfurnished    NaN   \n",
       "38         Ready to Move       8.0        19.0     Unfurnished    NaN   \n",
       "...                  ...       ...         ...             ...    ...   \n",
       "2665       Ready to Move      11.0        12.0     Unfurnished    NaN   \n",
       "2667  Under Construction       4.0         9.0     Unfurnished    NaN   \n",
       "2876  Under Construction       1.0        12.0     Unfurnished    NaN   \n",
       "2906       Ready to Move      12.0        12.0     Unfurnished    NaN   \n",
       "2912  Under Construction       4.0        13.0     Unfurnished    NaN   \n",
       "\n",
       "      price_per_sqft  price  built_up_area  \n",
       "10            3304.0   0.38           1150  \n",
       "18               NaN   0.56           1760  \n",
       "36            3960.0   0.60           1515  \n",
       "37            2868.0   0.38            880  \n",
       "38            4774.0   0.56           1173  \n",
       "...              ...    ...            ...  \n",
       "2665          4486.0   2.75           6130  \n",
       "2667             NaN   2.00           3300  \n",
       "2876          5601.0   1.90           3401  \n",
       "2906          6500.0   2.60           4000  \n",
       "2912          6570.0   1.68           2565  \n",
       "\n",
       "[703 rows x 13 columns]"
      ]
     },
     "execution_count": 32,
     "metadata": {},
     "output_type": "execute_result"
    }
   ],
   "source": [
    "df[df['facing'].isna()]"
   ]
  },
  {
   "cell_type": "code",
   "execution_count": 33,
   "id": "953eaf50-805b-484d-ae3b-2c6a8653d155",
   "metadata": {},
   "outputs": [
    {
     "data": {
      "image/png": "[encoded data removed]",
      "text/plain": [
       "<Figure size 640x480 with 1 Axes>"
      ]
     },
     "metadata": {},
     "output_type": "display_data"
    }
   ],
   "source": [
    "df['facing'].value_counts().plot(kind='pie',autopct='%0.2f%%')\n",
    "plt.show()"
   ]
  },
  {
   "cell_type": "code",
   "execution_count": 34,
   "id": "9b06e6a6-b0ed-4d2c-983f-8dbac98d94c6",
   "metadata": {},
   "outputs": [
    {
     "data": {
      "text/plain": [
       "facing\n",
       "East            1528\n",
       "South -West      339\n",
       "North - East     257\n",
       "North             91\n",
       "West              81\n",
       "South - East      50\n",
       "South             29\n",
       "North - West      25\n",
       "Name: count, dtype: int64"
      ]
     },
     "execution_count": 34,
     "metadata": {},
     "output_type": "execute_result"
    }
   ],
   "source": [
    "df['facing'].value_counts()"
   ]
  },
  {
   "cell_type": "code",
   "execution_count": 35,
   "id": "9587cdd2-3d6e-4797-9fba-5d393392c4c7",
   "metadata": {},
   "outputs": [],
   "source": [
    "df['facing'].fillna('North - West', inplace=True)"
   ]
  },
  {
   "cell_type": "code",
   "execution_count": 36,
   "id": "8f38957b-7f50-45c1-82a3-16f77af57a18",
   "metadata": {},
   "outputs": [
    {
     "data": {
      "text/plain": [
       "facing\n",
       "East            1528\n",
       "North - West     728\n",
       "South -West      339\n",
       "North - East     257\n",
       "North             91\n",
       "West              81\n",
       "South - East      50\n",
       "South             29\n",
       "Name: count, dtype: int64"
      ]
     },
     "execution_count": 36,
     "metadata": {},
     "output_type": "execute_result"
    }
   ],
   "source": [
    "df['facing'].value_counts()"
   ]
  },
  {
   "cell_type": "code",
   "execution_count": 37,
   "id": "92c72b0a-1a37-4681-b9f3-5088becb13a0",
   "metadata": {},
   "outputs": [
    {
     "data": {
      "text/plain": [
       "(3103, 13)"
      ]
     },
     "execution_count": 37,
     "metadata": {},
     "output_type": "execute_result"
    }
   ],
   "source": [
    "df.shape"
   ]
  },
  {
   "cell_type": "markdown",
   "id": "1ad4fceb-d996-4536-961b-2c8bb361d6cf",
   "metadata": {},
   "source": [
    "# Price"
   ]
  },
  {
   "cell_type": "code",
   "execution_count": 38,
   "id": "3d103ff2-ef6c-4f0d-b6c9-d5c8b85c4e07",
   "metadata": {},
   "outputs": [
    {
     "data": {
      "text/plain": [
       "location            0\n",
       "bhk                 0\n",
       "areaType            0\n",
       "square_feet         0\n",
       "transaction         0\n",
       "status              0\n",
       "floorNum            0\n",
       "totalFloor          0\n",
       "furnishing          0\n",
       "facing              0\n",
       "price_per_sqft    225\n",
       "price             127\n",
       "built_up_area       0\n",
       "dtype: int64"
      ]
     },
     "execution_count": 38,
     "metadata": {},
     "output_type": "execute_result"
    }
   ],
   "source": [
    "df.isna().sum()"
   ]
  },
  {
   "cell_type": "code",
   "execution_count": 39,
   "id": "26055bbe-9eff-4653-94c0-9a0c22666dbc",
   "metadata": {},
   "outputs": [
    {
     "data": {
      "text/plain": [
       "location\n",
       "vesu                                  16\n",
       "amroli                                14\n",
       "kamrej                                13\n",
       "udhna                                 12\n",
       "althan                                10\n",
       "sachin                                 9\n",
       "katargam                               9\n",
       "dindoli                                8\n",
       "nanpura/gopipura/chauta/sagrampura     7\n",
       "dumas road/hazira                      5\n",
       "athwalines                             5\n",
       "kadodara                               4\n",
       "adajan                                 4\n",
       "punagam                                3\n",
       "palanpur                               3\n",
       "bardoli                                2\n",
       "sarthana/varachha                      2\n",
       "pal                                    1\n",
       "Name: count, dtype: int64"
      ]
     },
     "execution_count": 39,
     "metadata": {},
     "output_type": "execute_result"
    }
   ],
   "source": [
    "df[(df['price'].isna())]['location'].value_counts()"
   ]
  },
  {
   "cell_type": "code",
   "execution_count": 40,
   "id": "853f750f-d95e-429d-a6ca-33305c2f4e06",
   "metadata": {},
   "outputs": [
    {
     "data": {
      "text/plain": [
       "location\n",
       "adajan                                0.75\n",
       "althan                                0.88\n",
       "amroli                                0.36\n",
       "athwalines                            1.26\n",
       "bardoli                               0.15\n",
       "dindoli                               0.36\n",
       "dumas road/hazira                     1.80\n",
       "jahangirpura                          0.46\n",
       "kadodara                              0.15\n",
       "kamrej                                0.28\n",
       "katargam                              0.32\n",
       "nanpura/gopipura/chauta/sagrampura    0.29\n",
       "pal                                   1.07\n",
       "palanpur                              0.53\n",
       "punagam                               0.33\n",
       "sachin                                0.22\n",
       "sarthana/varachha                     0.45\n",
       "udhna                                 0.28\n",
       "vesu                                  1.88\n",
       "Name: price, dtype: float64"
      ]
     },
     "execution_count": 40,
     "metadata": {},
     "output_type": "execute_result"
    }
   ],
   "source": [
    "round(df.groupby('location')['price'].mean(), 2)"
   ]
  },
  {
   "cell_type": "code",
   "execution_count": 41,
   "id": "de297430-5497-4fee-a413-11e562e726a9",
   "metadata": {},
   "outputs": [],
   "source": [
    "# Function to fill missing 'price' values based on 'location' using mean values\n",
    "def fill_price(row):\n",
    "    if pd.isna(row['price']):\n",
    "        if row['location'] == 'vesu':\n",
    "            return 1.88\n",
    "        elif row['location'] == 'amroli':\n",
    "            return 0.36\n",
    "        elif row['location'] == 'kamrej':\n",
    "            return 0.28\n",
    "        elif row['location'] == 'udhna':\n",
    "            return 0.28\n",
    "        elif row['location'] == 'althan':\n",
    "            return 0.88\n",
    "        elif row['location'] == 'sachin':\n",
    "            return 0.22\n",
    "        elif row['location'] == 'katargam':\n",
    "            return 0.32\n",
    "        elif row['location'] == 'dindoli':\n",
    "            return 0.36\n",
    "        elif row['location'] == 'nanpura/gopipura/chauta/sagrampura':\n",
    "            return 0.36\n",
    "        elif row['location'] == 'dumas road/hazira':\n",
    "            return 1.8\n",
    "        elif row['location'] == 'athwalines':\n",
    "            return 1.26\n",
    "        elif row['location'] == 'kadodara':\n",
    "            return 0.15\n",
    "        elif row['location'] == 'adajan':\n",
    "            return 0.75\n",
    "        elif row['location'] == 'sarthana/varachha':\n",
    "            return 0.45\n",
    "        elif row['location'] == 'punagam':\n",
    "            return 0.32\n",
    "        elif row['location'] == 'palanpur':\n",
    "            return 0.54\n",
    "        elif row['location'] == 'bardoli':\n",
    "            return 0.15\n",
    "        elif row['location'] == 'pal':\n",
    "            return 1.07\n",
    "    return row['price']\n",
    "\n",
    "df['price'] = df.apply(fill_price, axis=1)"
   ]
  },
  {
   "cell_type": "markdown",
   "id": "3db42ebd-8254-4e4d-a8cc-06aa43f67584",
   "metadata": {},
   "source": [
    "# Price Per sqft"
   ]
  },
  {
   "cell_type": "code",
   "execution_count": 42,
   "id": "49a25199-1550-460a-8bc4-eac3195f26ca",
   "metadata": {},
   "outputs": [
    {
     "data": {
      "text/plain": [
       "location            0\n",
       "bhk                 0\n",
       "areaType            0\n",
       "square_feet         0\n",
       "transaction         0\n",
       "status              0\n",
       "floorNum            0\n",
       "totalFloor          0\n",
       "furnishing          0\n",
       "facing              0\n",
       "price_per_sqft    225\n",
       "price               0\n",
       "built_up_area       0\n",
       "dtype: int64"
      ]
     },
     "execution_count": 42,
     "metadata": {},
     "output_type": "execute_result"
    }
   ],
   "source": [
    "df.isna().sum()"
   ]
  },
  {
   "cell_type": "code",
   "execution_count": 43,
   "id": "120e86dc-4e3d-434a-946b-1a68ed9d24aa",
   "metadata": {},
   "outputs": [
    {
     "data": {
      "text/html": [
       "<div>\n",
       "<style scoped>\n",
       "    .dataframe tbody tr th:only-of-type {\n",
       "        vertical-align: middle;\n",
       "    }\n",
       "\n",
       "    .dataframe tbody tr th {\n",
       "        vertical-align: top;\n",
       "    }\n",
       "\n",
       "    .dataframe thead th {\n",
       "        text-align: right;\n",
       "    }\n",
       "</style>\n",
       "<table border=\"1\" class=\"dataframe\">\n",
       "  <thead>\n",
       "    <tr style=\"text-align: right;\">\n",
       "      <th></th>\n",
       "      <th>location</th>\n",
       "      <th>bhk</th>\n",
       "      <th>areaType</th>\n",
       "      <th>square_feet</th>\n",
       "      <th>transaction</th>\n",
       "      <th>status</th>\n",
       "      <th>floorNum</th>\n",
       "      <th>totalFloor</th>\n",
       "      <th>furnishing</th>\n",
       "      <th>facing</th>\n",
       "      <th>price_per_sqft</th>\n",
       "      <th>price</th>\n",
       "      <th>built_up_area</th>\n",
       "    </tr>\n",
       "  </thead>\n",
       "  <tbody>\n",
       "    <tr>\n",
       "      <th>18</th>\n",
       "      <td>pal</td>\n",
       "      <td>3</td>\n",
       "      <td>Carpet Area</td>\n",
       "      <td>1600</td>\n",
       "      <td>Resale</td>\n",
       "      <td>Ready to Move</td>\n",
       "      <td>2.0</td>\n",
       "      <td>13.0</td>\n",
       "      <td>Semi-Furnished</td>\n",
       "      <td>North - West</td>\n",
       "      <td>NaN</td>\n",
       "      <td>0.56</td>\n",
       "      <td>1760</td>\n",
       "    </tr>\n",
       "    <tr>\n",
       "      <th>35</th>\n",
       "      <td>althan</td>\n",
       "      <td>2</td>\n",
       "      <td>Carpet Area</td>\n",
       "      <td>850</td>\n",
       "      <td>Resale</td>\n",
       "      <td>Ready to Move</td>\n",
       "      <td>4.0</td>\n",
       "      <td>7.0</td>\n",
       "      <td>Furnished</td>\n",
       "      <td>South - East</td>\n",
       "      <td>NaN</td>\n",
       "      <td>0.45</td>\n",
       "      <td>935</td>\n",
       "    </tr>\n",
       "    <tr>\n",
       "      <th>45</th>\n",
       "      <td>jahangirpura</td>\n",
       "      <td>3</td>\n",
       "      <td>Carpet Area</td>\n",
       "      <td>80</td>\n",
       "      <td>Resale</td>\n",
       "      <td>Ready to Move</td>\n",
       "      <td>2.0</td>\n",
       "      <td>12.0</td>\n",
       "      <td>Unfurnished</td>\n",
       "      <td>East</td>\n",
       "      <td>NaN</td>\n",
       "      <td>0.36</td>\n",
       "      <td>88</td>\n",
       "    </tr>\n",
       "    <tr>\n",
       "      <th>54</th>\n",
       "      <td>jahangirpura</td>\n",
       "      <td>2</td>\n",
       "      <td>Carpet Area</td>\n",
       "      <td>1200</td>\n",
       "      <td>Resale</td>\n",
       "      <td>Ready to Move</td>\n",
       "      <td>2.0</td>\n",
       "      <td>14.0</td>\n",
       "      <td>Unfurnished</td>\n",
       "      <td>East</td>\n",
       "      <td>NaN</td>\n",
       "      <td>0.35</td>\n",
       "      <td>1320</td>\n",
       "    </tr>\n",
       "    <tr>\n",
       "      <th>89</th>\n",
       "      <td>palanpur</td>\n",
       "      <td>4</td>\n",
       "      <td>Carpet Area</td>\n",
       "      <td>1300</td>\n",
       "      <td>Resale</td>\n",
       "      <td>Ready to Move</td>\n",
       "      <td>0.0</td>\n",
       "      <td>2.0</td>\n",
       "      <td>Furnished</td>\n",
       "      <td>North - West</td>\n",
       "      <td>NaN</td>\n",
       "      <td>0.45</td>\n",
       "      <td>1430</td>\n",
       "    </tr>\n",
       "    <tr>\n",
       "      <th>...</th>\n",
       "      <td>...</td>\n",
       "      <td>...</td>\n",
       "      <td>...</td>\n",
       "      <td>...</td>\n",
       "      <td>...</td>\n",
       "      <td>...</td>\n",
       "      <td>...</td>\n",
       "      <td>...</td>\n",
       "      <td>...</td>\n",
       "      <td>...</td>\n",
       "      <td>...</td>\n",
       "      <td>...</td>\n",
       "      <td>...</td>\n",
       "    </tr>\n",
       "    <tr>\n",
       "      <th>3098</th>\n",
       "      <td>vesu</td>\n",
       "      <td>4</td>\n",
       "      <td>Carpet Area</td>\n",
       "      <td>1870</td>\n",
       "      <td>New Property</td>\n",
       "      <td>Under Construction</td>\n",
       "      <td>6.0</td>\n",
       "      <td>11.0</td>\n",
       "      <td>Unfurnished</td>\n",
       "      <td>North - East</td>\n",
       "      <td>NaN</td>\n",
       "      <td>1.88</td>\n",
       "      <td>2057</td>\n",
       "    </tr>\n",
       "    <tr>\n",
       "      <th>3099</th>\n",
       "      <td>althan</td>\n",
       "      <td>4</td>\n",
       "      <td>Super Area</td>\n",
       "      <td>3600</td>\n",
       "      <td>New Property</td>\n",
       "      <td>Under Construction</td>\n",
       "      <td>5.0</td>\n",
       "      <td>16.0</td>\n",
       "      <td>Unfurnished</td>\n",
       "      <td>South - East</td>\n",
       "      <td>NaN</td>\n",
       "      <td>0.88</td>\n",
       "      <td>3600</td>\n",
       "    </tr>\n",
       "    <tr>\n",
       "      <th>3100</th>\n",
       "      <td>vesu</td>\n",
       "      <td>4</td>\n",
       "      <td>Super Area</td>\n",
       "      <td>4500</td>\n",
       "      <td>New Property</td>\n",
       "      <td>Ready to Move</td>\n",
       "      <td>3.0</td>\n",
       "      <td>12.0</td>\n",
       "      <td>Unfurnished</td>\n",
       "      <td>North</td>\n",
       "      <td>NaN</td>\n",
       "      <td>1.88</td>\n",
       "      <td>4500</td>\n",
       "    </tr>\n",
       "    <tr>\n",
       "      <th>3101</th>\n",
       "      <td>vesu</td>\n",
       "      <td>5</td>\n",
       "      <td>Carpet Area</td>\n",
       "      <td>2250</td>\n",
       "      <td>New Property</td>\n",
       "      <td>Under Construction</td>\n",
       "      <td>7.0</td>\n",
       "      <td>13.0</td>\n",
       "      <td>Unfurnished</td>\n",
       "      <td>North - East</td>\n",
       "      <td>NaN</td>\n",
       "      <td>1.88</td>\n",
       "      <td>2475</td>\n",
       "    </tr>\n",
       "    <tr>\n",
       "      <th>3102</th>\n",
       "      <td>vesu</td>\n",
       "      <td>6</td>\n",
       "      <td>Carpet Area</td>\n",
       "      <td>3450</td>\n",
       "      <td>New Property</td>\n",
       "      <td>Ready to Move</td>\n",
       "      <td>7.0</td>\n",
       "      <td>18.0</td>\n",
       "      <td>Unfurnished</td>\n",
       "      <td>North - West</td>\n",
       "      <td>NaN</td>\n",
       "      <td>1.88</td>\n",
       "      <td>3795</td>\n",
       "    </tr>\n",
       "  </tbody>\n",
       "</table>\n",
       "<p>225 rows × 13 columns</p>\n",
       "</div>"
      ],
      "text/plain": [
       "          location  bhk     areaType  square_feet   transaction  \\\n",
       "18             pal    3  Carpet Area         1600        Resale   \n",
       "35          althan    2  Carpet Area          850        Resale   \n",
       "45    jahangirpura    3  Carpet Area           80        Resale   \n",
       "54    jahangirpura    2  Carpet Area         1200        Resale   \n",
       "89        palanpur    4  Carpet Area         1300        Resale   \n",
       "...            ...  ...          ...          ...           ...   \n",
       "3098          vesu    4  Carpet Area         1870  New Property   \n",
       "3099        althan    4   Super Area         3600  New Property   \n",
       "3100          vesu    4   Super Area         4500  New Property   \n",
       "3101          vesu    5  Carpet Area         2250  New Property   \n",
       "3102          vesu    6  Carpet Area         3450  New Property   \n",
       "\n",
       "                  status  floorNum  totalFloor      furnishing        facing  \\\n",
       "18         Ready to Move       2.0        13.0  Semi-Furnished  North - West   \n",
       "35         Ready to Move       4.0         7.0       Furnished  South - East   \n",
       "45         Ready to Move       2.0        12.0     Unfurnished          East   \n",
       "54         Ready to Move       2.0        14.0     Unfurnished          East   \n",
       "89         Ready to Move       0.0         2.0       Furnished  North - West   \n",
       "...                  ...       ...         ...             ...           ...   \n",
       "3098  Under Construction       6.0        11.0     Unfurnished  North - East   \n",
       "3099  Under Construction       5.0        16.0     Unfurnished  South - East   \n",
       "3100       Ready to Move       3.0        12.0     Unfurnished         North   \n",
       "3101  Under Construction       7.0        13.0     Unfurnished  North - East   \n",
       "3102       Ready to Move       7.0        18.0     Unfurnished  North - West   \n",
       "\n",
       "      price_per_sqft  price  built_up_area  \n",
       "18               NaN   0.56           1760  \n",
       "35               NaN   0.45            935  \n",
       "45               NaN   0.36             88  \n",
       "54               NaN   0.35           1320  \n",
       "89               NaN   0.45           1430  \n",
       "...              ...    ...            ...  \n",
       "3098             NaN   1.88           2057  \n",
       "3099             NaN   0.88           3600  \n",
       "3100             NaN   1.88           4500  \n",
       "3101             NaN   1.88           2475  \n",
       "3102             NaN   1.88           3795  \n",
       "\n",
       "[225 rows x 13 columns]"
      ]
     },
     "execution_count": 43,
     "metadata": {},
     "output_type": "execute_result"
    }
   ],
   "source": [
    "df[df['price_per_sqft'].isna()]"
   ]
  },
  {
   "cell_type": "code",
   "execution_count": 44,
   "id": "0b10ae77-c2b3-4d8b-90af-bd64cb06e2bb",
   "metadata": {},
   "outputs": [],
   "source": [
    "df.loc[df['price_per_sqft'].isna(), 'price_per_sqft'] = (df['price'] * 1e7) / df['square_feet']"
   ]
  },
  {
   "cell_type": "code",
   "execution_count": 45,
   "id": "d8e580d2-cce4-4ba8-9f5d-e8e33b76d107",
   "metadata": {},
   "outputs": [
    {
     "data": {
      "text/plain": [
       "location          0\n",
       "bhk               0\n",
       "areaType          0\n",
       "square_feet       0\n",
       "transaction       0\n",
       "status            0\n",
       "floorNum          0\n",
       "totalFloor        0\n",
       "furnishing        0\n",
       "facing            0\n",
       "price_per_sqft    0\n",
       "price             0\n",
       "built_up_area     0\n",
       "dtype: int64"
      ]
     },
     "execution_count": 45,
     "metadata": {},
     "output_type": "execute_result"
    }
   ],
   "source": [
    "df.isna().sum()"
   ]
  },
  {
   "cell_type": "code",
   "execution_count": 46,
   "id": "5dfb5302-5717-4636-9ac2-8ad6f75373b3",
   "metadata": {},
   "outputs": [
    {
     "data": {
      "text/plain": [
       "status\n",
       "Ready to Move         2093\n",
       "Under Construction     964\n",
       "Undefined               46\n",
       "Name: count, dtype: int64"
      ]
     },
     "execution_count": 46,
     "metadata": {},
     "output_type": "execute_result"
    }
   ],
   "source": [
    "df['status'].value_counts()"
   ]
  },
  {
   "cell_type": "code",
   "execution_count": 47,
   "id": "74c567b4-050e-4002-9ee5-f9366c2e928f",
   "metadata": {},
   "outputs": [],
   "source": [
    "x = df[(df['status'] == 'Undefined') & (df['transaction'] == 'Resale')]\n",
    "\n",
    "df.loc[x.index, df.columns[5]] = 'Ready to Move'\n",
    "\n",
    "y = df[(df['status'] == 'Undefined') & (df['transaction'] == 'New Property')]\n",
    "\n",
    "df.loc[y.index, df.columns[5]] = 'Under Construction'"
   ]
  },
  {
   "cell_type": "code",
   "execution_count": 48,
   "id": "ad46bd89-281f-4735-b71c-5ccfc11a359b",
   "metadata": {},
   "outputs": [
    {
     "data": {
      "text/plain": [
       "status\n",
       "Ready to Move         2121\n",
       "Under Construction     982\n",
       "Name: count, dtype: int64"
      ]
     },
     "execution_count": 48,
     "metadata": {},
     "output_type": "execute_result"
    }
   ],
   "source": [
    "df['status'].value_counts()"
   ]
  },
  {
   "cell_type": "markdown",
   "id": "d1225ae7-d80f-44b3-93f8-5436d6c10a47",
   "metadata": {},
   "source": [
    "# Export Dataset"
   ]
  },
  {
   "cell_type": "code",
   "execution_count": 49,
   "id": "8f6b15a8-8414-4026-9dbe-c0874b4b0277",
   "metadata": {},
   "outputs": [],
   "source": [
    "df.to_csv('surat_mvi.csv', index=False)"
   ]
  },
  {
   "cell_type": "code",
   "execution_count": null,
   "id": "33403dc4-d1ef-4cd5-bc85-1e66e42c8d67",
   "metadata": {},
   "outputs": [],
   "source": []
  }
 ],
 "metadata": {
  "kernelspec": {
   "display_name": "Python 3 (ipykernel)",
   "language": "python",
   "name": "python3"
  },
  "language_info": {
   "codemirror_mode": {
    "name": "ipython",
    "version": 3
   },
   "file_extension": ".py",
   "mimetype": "text/x-python",
   "name": "python",
   "nbconvert_exporter": "python",
   "pygments_lexer": "ipython3",
   "version": "3.11.7"
  }
 },
 "nbformat": 4,
 "nbformat_minor": 5
}
