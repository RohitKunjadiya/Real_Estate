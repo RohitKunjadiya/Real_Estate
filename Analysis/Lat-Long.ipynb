{
 "cells": [
  {
   "cell_type": "code",
   "execution_count": 13,
   "id": "e7010105-9722-45d3-b646-5559af57a32b",
   "metadata": {},
   "outputs": [],
   "source": [
    "import numpy as np\n",
    "import pandas as pd\n",
    "from matplotlib import pyplot as plt\n",
    "import seaborn as sns"
   ]
  },
  {
   "cell_type": "code",
   "execution_count": 14,
   "id": "296ebd50-9e17-49cc-904a-a4324356e31c",
   "metadata": {},
   "outputs": [
    {
     "data": {
      "text/plain": [
       "(3108, 13)"
      ]
     },
     "execution_count": 14,
     "metadata": {},
     "output_type": "execute_result"
    }
   ],
   "source": [
    "df = pd.read_csv('surat_mvi.csv')\n",
    "\n",
    "df.shape"
   ]
  },
  {
   "cell_type": "code",
   "execution_count": 15,
   "id": "1bd3f992-9afe-4d8b-8a20-27c9e6b2a653",
   "metadata": {},
   "outputs": [
    {
     "name": "stdout",
     "output_type": "stream",
     "text": [
      "<class 'pandas.core.frame.DataFrame'>\n",
      "RangeIndex: 3108 entries, 0 to 3107\n",
      "Data columns (total 13 columns):\n",
      " #   Column          Non-Null Count  Dtype  \n",
      "---  ------          --------------  -----  \n",
      " 0   location        3108 non-null   object \n",
      " 1   bhk             3108 non-null   int64  \n",
      " 2   areaType        3108 non-null   object \n",
      " 3   square_feet     3108 non-null   int64  \n",
      " 4   transaction     3108 non-null   object \n",
      " 5   status          3108 non-null   object \n",
      " 6   floorNum        3108 non-null   float64\n",
      " 7   totalFloor      3108 non-null   float64\n",
      " 8   furnishing      3108 non-null   object \n",
      " 9   facing          3108 non-null   object \n",
      " 10  price_per_sqft  3108 non-null   float64\n",
      " 11  price           3108 non-null   float64\n",
      " 12  bathroom        3108 non-null   int64  \n",
      "dtypes: float64(4), int64(3), object(6)\n",
      "memory usage: 315.8+ KB\n"
     ]
    }
   ],
   "source": [
    "df.info()"
   ]
  },
  {
   "cell_type": "code",
   "execution_count": 17,
   "id": "25711b64-21c5-47d4-a8df-2371acfcbe6b",
   "metadata": {},
   "outputs": [],
   "source": [
    "df.duplicated().sum()\n",
    "\n",
    "df.drop_duplicates(inplace=True)"
   ]
  },
  {
   "cell_type": "code",
   "execution_count": 5,
   "id": "6c82245b-06d4-4fc4-9bea-e251a1f2fd27",
   "metadata": {},
   "outputs": [
    {
     "data": {
      "text/plain": [
       "location\n",
       "vesu                                  820\n",
       "palanpur                              574\n",
       "pal                                   322\n",
       "althan                                254\n",
       "adajan                                196\n",
       "jahangirpura                          193\n",
       "dumas road/hazira                     136\n",
       "dindoli                               121\n",
       "athwalines                            104\n",
       "udhna                                  54\n",
       "amroli                                 51\n",
       "nanpura/gopipura/chauta/sagrampura     38\n",
       "katargam                               36\n",
       "sarthana/varachha                      29\n",
       "kamrej                                 24\n",
       "punagam                                22\n",
       "sachin                                 18\n",
       "kadodara                               12\n",
       "bardoli                                 6\n",
       "Name: count, dtype: int64"
      ]
     },
     "execution_count": 5,
     "metadata": {},
     "output_type": "execute_result"
    }
   ],
   "source": [
    "df['location'].value_counts()"
   ]
  },
  {
   "cell_type": "code",
   "execution_count": 6,
   "id": "4dc23265-080e-463d-b641-a46a58058e5b",
   "metadata": {},
   "outputs": [
    {
     "data": {
      "text/plain": [
       "array(['palanpur', 'dindoli', 'pal', 'jahangirpura', 'althan',\n",
       "       'athwalines', 'amroli', 'adajan', 'dumas road/hazira', 'vesu',\n",
       "       'kamrej', 'udhna', 'katargam',\n",
       "       'nanpura/gopipura/chauta/sagrampura', 'sarthana/varachha',\n",
       "       'punagam', 'sachin', 'bardoli', 'kadodara'], dtype=object)"
      ]
     },
     "execution_count": 6,
     "metadata": {},
     "output_type": "execute_result"
    }
   ],
   "source": [
    "df['location'].unique()"
   ]
  },
  {
   "cell_type": "code",
   "execution_count": 7,
   "id": "670bd9f9-069e-4298-a891-35175cc5d5a3",
   "metadata": {},
   "outputs": [
    {
     "name": "stdout",
     "output_type": "stream",
     "text": [
      "Requirement already satisfied: geopy in c:\\users\\hp\\anaconda3\\lib\\site-packages (2.4.1)\n",
      "Requirement already satisfied: geographiclib<3,>=1.52 in c:\\users\\hp\\anaconda3\\lib\\site-packages (from geopy) (2.0)\n"
     ]
    }
   ],
   "source": [
    "!pip install geopy"
   ]
  },
  {
   "cell_type": "code",
   "execution_count": 8,
   "id": "648be02d-316d-4d30-942b-1e94eaaadbf9",
   "metadata": {},
   "outputs": [],
   "source": [
    "# from geopy.geocoders import Nominatim\n",
    "\n",
    "# locations = ['palanpur', 'dindoli', 'pal', 'jahangirpura', 'althan',\n",
    "#        'athwalines', 'amroli', 'adajan', 'dumas road/hazira', 'vesu',\n",
    "#        'kamrej', 'udhna', 'katargam',\n",
    "#        'nanpura/gopipura/chauta/sagrampura', 'sarthana/varachha',\n",
    "#        'punagam', 'sachin', 'bardoli', 'kadodara']\n",
    "\n",
    "# geolocator = Nominatim(user_agent='geo_locator')\n",
    "\n",
    "# # Creating a DataFrame to store location and coordinates\n",
    "# location_data = []\n",
    "\n",
    "# for location in locations:\n",
    "#     try:\n",
    "#         # Geocode the location\n",
    "#         geocode_result = geolocator.geocode(location + \", Surat, India\")\n",
    "#         if geocode_result:\n",
    "#             location_data.append({\n",
    "#                 \"location\": location,\n",
    "#                 \"latitude\": geocode_result.latitude,\n",
    "#                 \"longitude\": geocode_result.longitude\n",
    "#             })\n",
    "#         else:\n",
    "#             print(f\"Coordinates not found for location: {location}\")\n",
    "#             location_data.append({\n",
    "#                 \"location\": location,\n",
    "#                 \"latitude\": None,\n",
    "#                 \"longitude\": None\n",
    "#             })\n",
    "#     except Exception as e:\n",
    "#         print(f\"Error occurred for location {location}: {e}\")\n",
    "#         location_data.append({\n",
    "#             \"location\": location,\n",
    "#             \"latitude\": None,\n",
    "#             \"longitude\": None\n",
    "#         })\n",
    "\n",
    "# # Convert results into a DataFrame\n",
    "# df_coordinates = pd.DataFrame(location_data)\n",
    "# print(df_coordinates)"
   ]
  },
  {
   "cell_type": "code",
   "execution_count": 9,
   "id": "efc8f6f0-2c2d-42ea-abb5-4c8d6d132b0e",
   "metadata": {
    "scrolled": true
   },
   "outputs": [
    {
     "name": "stdout",
     "output_type": "stream",
     "text": [
      "Coordinates not found for main area: punagam\n",
      "                     original_location     main_area   latitude  longitude\n",
      "0                             palanpur      palanpur  21.218493  72.777798\n",
      "1                              dindoli       dindoli  21.152321  72.872486\n",
      "2                                  pal           pal  21.196768  72.778272\n",
      "3                         jahangirpura  jahangirpura  21.231651  72.790804\n",
      "4                               althan        althan  21.146873  72.808955\n",
      "5                           athwalines    athwalines  21.170026  72.788361\n",
      "6                               amroli        amroli  21.237549  72.850577\n",
      "7                               adajan        adajan  21.265120  72.849913\n",
      "8                    dumas road/hazira    dumas road  21.082445  72.717249\n",
      "9                                 vesu          vesu  21.137157  72.788747\n",
      "10                              kamrej        kamrej  21.279777  72.948269\n",
      "11                               udhna         udhna  21.163772  72.861264\n",
      "12                            katargam      katargam  21.228822  72.825308\n",
      "13  nanpura/gopipura/chauta/sagrampura       nanpura  21.189893  72.815368\n",
      "14                   sarthana/varachha      sarthana  21.230133  72.900819\n",
      "15                             punagam       punagam        NaN        NaN\n",
      "16                              sachin        sachin  21.077878  72.874464\n",
      "17                             bardoli       bardoli  21.133829  73.105390\n",
      "18                            kadodara      kadodara  21.173694  72.958149\n"
     ]
    }
   ],
   "source": [
    "from geopy.geocoders import Nominatim\n",
    "import pandas as pd\n",
    "import re\n",
    "\n",
    "locations = ['palanpur', 'dindoli', 'pal', 'jahangirpura', 'althan',\n",
    "       'athwalines', 'amroli', 'adajan', 'dumas road/hazira', 'vesu',\n",
    "       'kamrej', 'udhna', 'katargam',\n",
    "       'nanpura/gopipura/chauta/sagrampura', 'sarthana/varachha',\n",
    "       'punagam', 'sachin', 'bardoli', 'kadodara']\n",
    "\n",
    "geolocator = Nominatim(user_agent=\"geo_locator\")\n",
    "\n",
    "location_data = []\n",
    "\n",
    "for location in locations:\n",
    "    # Extract the first main area\n",
    "    main_area = re.split(r'[\\/|-]', location)[0].strip()\n",
    "    try:\n",
    "        # Attempt to get coordinates using main area\n",
    "        geocode_result = geolocator.geocode(main_area + \", Surat, India\")\n",
    "        if geocode_result:\n",
    "            location_data.append({\n",
    "                \"original_location\": location,\n",
    "                \"main_area\": main_area,\n",
    "                \"latitude\": geocode_result.latitude,\n",
    "                \"longitude\": geocode_result.longitude\n",
    "            })\n",
    "        else:\n",
    "            print(f\"Coordinates not found for main area: {main_area}\")\n",
    "            location_data.append({\n",
    "                \"original_location\": location,\n",
    "                \"main_area\": main_area,\n",
    "                \"latitude\": None,\n",
    "                \"longitude\": None\n",
    "            })\n",
    "    except Exception as e:\n",
    "        print(f\"Error for {main_area}: {e}\")\n",
    "        location_data.append({\n",
    "            \"original_location\": location,\n",
    "            \"main_area\": main_area,\n",
    "            \"latitude\": None,\n",
    "            \"longitude\": None\n",
    "        })\n",
    "\n",
    "# Convert to DataFrame\n",
    "df_coordinates = pd.DataFrame(location_data)\n",
    "print(df_coordinates)"
   ]
  },
  {
   "cell_type": "code",
   "execution_count": 10,
   "id": "97c7239f-369b-4fdc-b113-b7cfe75fdc0e",
   "metadata": {},
   "outputs": [],
   "source": [
    "# Find the index for the specific location\n",
    "index_to_update = df_coordinates[df_coordinates['original_location'] == 'punagam'].index\n",
    "\n",
    "# Update the latitude and longitude using loc\n",
    "df_coordinates.loc[index_to_update, 'latitude'] = 21.204674\n",
    "df_coordinates.loc[index_to_update, 'longitude'] = 72.873991"
   ]
  },
  {
   "cell_type": "code",
   "execution_count": 11,
   "id": "d46b17a7-79c0-4128-ad3d-5931da2e0744",
   "metadata": {},
   "outputs": [
    {
     "data": {
      "text/html": [
       "<div>\n",
       "<style scoped>\n",
       "    .dataframe tbody tr th:only-of-type {\n",
       "        vertical-align: middle;\n",
       "    }\n",
       "\n",
       "    .dataframe tbody tr th {\n",
       "        vertical-align: top;\n",
       "    }\n",
       "\n",
       "    .dataframe thead th {\n",
       "        text-align: right;\n",
       "    }\n",
       "</style>\n",
       "<table border=\"1\" class=\"dataframe\">\n",
       "  <thead>\n",
       "    <tr style=\"text-align: right;\">\n",
       "      <th></th>\n",
       "      <th>original_location</th>\n",
       "      <th>main_area</th>\n",
       "      <th>latitude</th>\n",
       "      <th>longitude</th>\n",
       "    </tr>\n",
       "  </thead>\n",
       "  <tbody>\n",
       "    <tr>\n",
       "      <th>0</th>\n",
       "      <td>palanpur</td>\n",
       "      <td>palanpur</td>\n",
       "      <td>21.218493</td>\n",
       "      <td>72.777798</td>\n",
       "    </tr>\n",
       "    <tr>\n",
       "      <th>1</th>\n",
       "      <td>dindoli</td>\n",
       "      <td>dindoli</td>\n",
       "      <td>21.152321</td>\n",
       "      <td>72.872486</td>\n",
       "    </tr>\n",
       "    <tr>\n",
       "      <th>2</th>\n",
       "      <td>pal</td>\n",
       "      <td>pal</td>\n",
       "      <td>21.196768</td>\n",
       "      <td>72.778272</td>\n",
       "    </tr>\n",
       "    <tr>\n",
       "      <th>3</th>\n",
       "      <td>jahangirpura</td>\n",
       "      <td>jahangirpura</td>\n",
       "      <td>21.231651</td>\n",
       "      <td>72.790804</td>\n",
       "    </tr>\n",
       "    <tr>\n",
       "      <th>4</th>\n",
       "      <td>althan</td>\n",
       "      <td>althan</td>\n",
       "      <td>21.146873</td>\n",
       "      <td>72.808955</td>\n",
       "    </tr>\n",
       "    <tr>\n",
       "      <th>5</th>\n",
       "      <td>athwalines</td>\n",
       "      <td>athwalines</td>\n",
       "      <td>21.170026</td>\n",
       "      <td>72.788361</td>\n",
       "    </tr>\n",
       "    <tr>\n",
       "      <th>6</th>\n",
       "      <td>amroli</td>\n",
       "      <td>amroli</td>\n",
       "      <td>21.237549</td>\n",
       "      <td>72.850577</td>\n",
       "    </tr>\n",
       "    <tr>\n",
       "      <th>7</th>\n",
       "      <td>adajan</td>\n",
       "      <td>adajan</td>\n",
       "      <td>21.265120</td>\n",
       "      <td>72.849913</td>\n",
       "    </tr>\n",
       "    <tr>\n",
       "      <th>8</th>\n",
       "      <td>dumas road/hazira</td>\n",
       "      <td>dumas road</td>\n",
       "      <td>21.082445</td>\n",
       "      <td>72.717249</td>\n",
       "    </tr>\n",
       "    <tr>\n",
       "      <th>9</th>\n",
       "      <td>vesu</td>\n",
       "      <td>vesu</td>\n",
       "      <td>21.137157</td>\n",
       "      <td>72.788747</td>\n",
       "    </tr>\n",
       "    <tr>\n",
       "      <th>10</th>\n",
       "      <td>kamrej</td>\n",
       "      <td>kamrej</td>\n",
       "      <td>21.279777</td>\n",
       "      <td>72.948269</td>\n",
       "    </tr>\n",
       "    <tr>\n",
       "      <th>11</th>\n",
       "      <td>udhna</td>\n",
       "      <td>udhna</td>\n",
       "      <td>21.163772</td>\n",
       "      <td>72.861264</td>\n",
       "    </tr>\n",
       "    <tr>\n",
       "      <th>12</th>\n",
       "      <td>katargam</td>\n",
       "      <td>katargam</td>\n",
       "      <td>21.228822</td>\n",
       "      <td>72.825308</td>\n",
       "    </tr>\n",
       "    <tr>\n",
       "      <th>13</th>\n",
       "      <td>nanpura/gopipura/chauta/sagrampura</td>\n",
       "      <td>nanpura</td>\n",
       "      <td>21.189893</td>\n",
       "      <td>72.815368</td>\n",
       "    </tr>\n",
       "    <tr>\n",
       "      <th>14</th>\n",
       "      <td>sarthana/varachha</td>\n",
       "      <td>sarthana</td>\n",
       "      <td>21.230133</td>\n",
       "      <td>72.900819</td>\n",
       "    </tr>\n",
       "    <tr>\n",
       "      <th>15</th>\n",
       "      <td>punagam</td>\n",
       "      <td>punagam</td>\n",
       "      <td>21.204674</td>\n",
       "      <td>72.873991</td>\n",
       "    </tr>\n",
       "    <tr>\n",
       "      <th>16</th>\n",
       "      <td>sachin</td>\n",
       "      <td>sachin</td>\n",
       "      <td>21.077878</td>\n",
       "      <td>72.874464</td>\n",
       "    </tr>\n",
       "    <tr>\n",
       "      <th>17</th>\n",
       "      <td>bardoli</td>\n",
       "      <td>bardoli</td>\n",
       "      <td>21.133829</td>\n",
       "      <td>73.105390</td>\n",
       "    </tr>\n",
       "    <tr>\n",
       "      <th>18</th>\n",
       "      <td>kadodara</td>\n",
       "      <td>kadodara</td>\n",
       "      <td>21.173694</td>\n",
       "      <td>72.958149</td>\n",
       "    </tr>\n",
       "  </tbody>\n",
       "</table>\n",
       "</div>"
      ],
      "text/plain": [
       "                     original_location     main_area   latitude  longitude\n",
       "0                             palanpur      palanpur  21.218493  72.777798\n",
       "1                              dindoli       dindoli  21.152321  72.872486\n",
       "2                                  pal           pal  21.196768  72.778272\n",
       "3                         jahangirpura  jahangirpura  21.231651  72.790804\n",
       "4                               althan        althan  21.146873  72.808955\n",
       "5                           athwalines    athwalines  21.170026  72.788361\n",
       "6                               amroli        amroli  21.237549  72.850577\n",
       "7                               adajan        adajan  21.265120  72.849913\n",
       "8                    dumas road/hazira    dumas road  21.082445  72.717249\n",
       "9                                 vesu          vesu  21.137157  72.788747\n",
       "10                              kamrej        kamrej  21.279777  72.948269\n",
       "11                               udhna         udhna  21.163772  72.861264\n",
       "12                            katargam      katargam  21.228822  72.825308\n",
       "13  nanpura/gopipura/chauta/sagrampura       nanpura  21.189893  72.815368\n",
       "14                   sarthana/varachha      sarthana  21.230133  72.900819\n",
       "15                             punagam       punagam  21.204674  72.873991\n",
       "16                              sachin        sachin  21.077878  72.874464\n",
       "17                             bardoli       bardoli  21.133829  73.105390\n",
       "18                            kadodara      kadodara  21.173694  72.958149"
      ]
     },
     "execution_count": 11,
     "metadata": {},
     "output_type": "execute_result"
    }
   ],
   "source": [
    "df_coordinates"
   ]
  },
  {
   "cell_type": "code",
   "execution_count": 12,
   "id": "5efabfff-2279-44e9-9e75-3239b385e388",
   "metadata": {},
   "outputs": [],
   "source": [
    "df_coordinates.rename(columns={'original_location' : 'location'},inplace=True)\n",
    "\n",
    "df_coordinates = df_coordinates[['location','latitude','longitude']]\n",
    "\n",
    "df_coordinates.to_csv(\"surat_lat_long.csv\", index=False)"
   ]
  },
  {
   "cell_type": "code",
   "execution_count": null,
   "id": "f66dbf47-f466-44a2-89cc-38ced75ce949",
   "metadata": {},
   "outputs": [],
   "source": []
  }
 ],
 "metadata": {
  "kernelspec": {
   "display_name": "Python 3 (ipykernel)",
   "language": "python",
   "name": "python3"
  },
  "language_info": {
   "codemirror_mode": {
    "name": "ipython",
    "version": 3
   },
   "file_extension": ".py",
   "mimetype": "text/x-python",
   "name": "python",
   "nbconvert_exporter": "python",
   "pygments_lexer": "ipython3",
   "version": "3.11.7"
  }
 },
 "nbformat": 4,
 "nbformat_minor": 5
}
