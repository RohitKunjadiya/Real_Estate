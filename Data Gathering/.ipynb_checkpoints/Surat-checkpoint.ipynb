{
 "cells": [
  {
   "cell_type": "code",
   "execution_count": 1,
   "id": "84e73175",
   "metadata": {},
   "outputs": [],
   "source": [
    "import numpy as np\n",
    "import pandas as pd\n",
    "from bs4 import BeautifulSoup"
   ]
  },
  {
   "cell_type": "code",
   "execution_count": 2,
   "id": "544ccb35-0e5d-47fa-95d0-9cc278771a93",
   "metadata": {},
   "outputs": [],
   "source": [
    "# container = soup.find_all('div',class_=\"mb-srp__card__container\")\n",
    "# container1 = soup.find_all('div',class_='mb-srp__card__estimate')"
   ]
  },
  {
   "cell_type": "code",
   "execution_count": 3,
   "id": "6cb5fdd8-a6eb-4085-8dd9-b7f5662e1404",
   "metadata": {},
   "outputs": [],
   "source": [
    "def scraping(file):\n",
    "\n",
    "    soup = BeautifulSoup(file,'lxml')\n",
    "    \n",
    "    container = soup.find_all('div',class_=\"mb-srp__card__container\")\n",
    "    container1 = soup.find_all('div',class_='mb-srp__card__estimate')\n",
    "\n",
    "    title = []\n",
    "    typeArea = []\n",
    "    sqft = []\n",
    "    transaction = []\n",
    "    status = []\n",
    "    floor = []\n",
    "    furnishing = []\n",
    "    facing = []\n",
    "    price = []\n",
    "    price_per_sqft = []\n",
    "    description = []\n",
    "    # link = []\n",
    "    \n",
    "    for i in container:\n",
    "        #title\n",
    "        try:\n",
    "            title.append(i.find('h2',class_='mb-srp__card--title').text)\n",
    "        except:\n",
    "            title.append(np.nan)\n",
    "    \n",
    "        #link\n",
    "        # try:\n",
    "        #     link.append(i.find_all('img')['src'])\n",
    "        # except:\n",
    "        #     link.append(np.nan)\n",
    "    \n",
    "        #type of area\n",
    "        try:\n",
    "            typeArea.append(i.find_all('div',class_='mb-srp__card__summary--label')[0].text)\n",
    "        except:\n",
    "            typeArea.append(np.nan)\n",
    "    \n",
    "        #square feet\n",
    "        try:\n",
    "            sqft.append(i.find_all('div',class_='mb-srp__card__summary--value')[0].text)\n",
    "        except:\n",
    "            sqft.append(np.nan)\n",
    "    \n",
    "        #transaction\n",
    "        try:\n",
    "            transaction.append(i.find_all('div',class_='mb-srp__card__summary--value')[3].text)\n",
    "        except:\n",
    "            transaction.append(np.nan)\n",
    "    \n",
    "        #status\n",
    "        try:\n",
    "            status.append(i.find_all('div',class_='mb-srp__card__summary--value')[1].text)\n",
    "        except:\n",
    "            status.append(np.nan)    \n",
    "    \n",
    "        #floor\n",
    "        try:\n",
    "            floor.append(i.find_all('div',class_='mb-srp__card__summary--value')[2].text)\n",
    "        except:\n",
    "            floor.append(np.nan)\n",
    "    \n",
    "        #furnishing\n",
    "        try:\n",
    "            furnishing.append(i.find_all('div',class_='mb-srp__card__summary--value')[4].text)\n",
    "        except:\n",
    "            furnishing.append(np.nan)\n",
    "    \n",
    "        #facing\n",
    "        try:\n",
    "            facing.append(i.find_all('div',class_='mb-srp__card__summary--value')[5].text)\n",
    "        except:\n",
    "            facing.append(np.nan)    \n",
    "    \n",
    "        #description\n",
    "        try:\n",
    "            description.append(i.find('div',class_='mb-srp__card--desc--text').text)\n",
    "        except:\n",
    "            description.append(np.nan)  \n",
    "        \n",
    "    for j in container1:\n",
    "        #price\n",
    "        try:\n",
    "            price.append(j.find('div',class_='mb-srp__card__price--amount').text)\n",
    "        except:\n",
    "            price.append(np.nan)    \n",
    "            \n",
    "        #price_per_sqft\n",
    "        try:\n",
    "            price_per_sqft.append(j.find('div',class_='mb-srp__card__price--size').text)\n",
    "        except:\n",
    "            price_per_sqft.append(np.nan)    \n",
    "    \n",
    "    # title = []\n",
    "    # typeArea = []\n",
    "    # sqft = []\n",
    "    # transaction = []\n",
    "    # status = []\n",
    "    # floor = []\n",
    "    # furnishing = []\n",
    "    # facing = []\n",
    "    # price = []\n",
    "    # price_per_sqft = []\n",
    "    # description = []\n",
    "    \n",
    "    df = pd.DataFrame({\n",
    "        'property_name' : title,\n",
    "        'areaWithType' : typeArea,\n",
    "        'square_feet' : sqft,\n",
    "        'transaction' : transaction,\n",
    "        'status' : status,\n",
    "        'floor' : floor,\n",
    "        'furnishing' : furnishing,\n",
    "        'facing' : facing,\n",
    "        'description' : description,\n",
    "        'price_per_sqft' : price_per_sqft,\n",
    "        'price' : price\n",
    "    })\n",
    "\n",
    "    return df"
   ]
  },
  {
   "cell_type": "code",
   "execution_count": 4,
   "id": "133bf5fb-da90-41fb-9c5a-cf4f982294a0",
   "metadata": {},
   "outputs": [],
   "source": [
    "with open('surat-1.html','r',encoding='utf-8') as f:\n",
    "    surat1 = f.read()\n",
    "    \n",
    "data1 = scraping(surat1)"
   ]
  },
  {
   "cell_type": "code",
   "execution_count": 5,
   "id": "19e4463d-0651-4d75-9c37-dd63c6b177b0",
   "metadata": {},
   "outputs": [],
   "source": [
    "with open('surat-2.html','r',encoding='utf-8') as f:\n",
    "    surat2 = f.read()\n",
    "    \n",
    "data2 = scraping(surat2)"
   ]
  },
  {
   "cell_type": "code",
   "execution_count": 6,
   "id": "e9bcfb63-32b0-4ba6-9cb7-9f95cf038e43",
   "metadata": {},
   "outputs": [],
   "source": [
    "with open('surat-3.html','r',encoding='utf-8') as f:\n",
    "    surat3 = f.read()\n",
    "    \n",
    "data3 = scraping(surat3)"
   ]
  },
  {
   "cell_type": "code",
   "execution_count": 7,
   "id": "7f9453f0-cf9d-4291-a355-fa61ee56095a",
   "metadata": {},
   "outputs": [
    {
     "name": "stdout",
     "output_type": "stream",
     "text": [
      "(1450, 11)\n",
      "(1349, 11)\n",
      "(599, 11)\n"
     ]
    }
   ],
   "source": [
    "print(data1.shape)\n",
    "print(data2.shape)\n",
    "print(data3.shape)"
   ]
  },
  {
   "cell_type": "code",
   "execution_count": 8,
   "id": "e463d3ed-be76-4ef3-b437-a32b6fc498aa",
   "metadata": {},
   "outputs": [],
   "source": [
    "data1.duplicated().sum()\n",
    "\n",
    "data1.drop_duplicates(inplace=True)"
   ]
  },
  {
   "cell_type": "code",
   "execution_count": 9,
   "id": "3276473f-a395-4809-896a-97654612afd9",
   "metadata": {},
   "outputs": [],
   "source": [
    "data2.duplicated().sum()\n",
    "\n",
    "data2.drop_duplicates(inplace=True)"
   ]
  },
  {
   "cell_type": "code",
   "execution_count": 10,
   "id": "9f6d0cae-6168-4308-a117-c2b8bdbfe673",
   "metadata": {},
   "outputs": [],
   "source": [
    "data3.duplicated().sum()\n",
    "\n",
    "data3.drop_duplicates(inplace=True)"
   ]
  },
  {
   "cell_type": "code",
   "execution_count": 11,
   "id": "f4842c04-b8bc-4b9e-9ee6-844473d44b2e",
   "metadata": {},
   "outputs": [
    {
     "name": "stdout",
     "output_type": "stream",
     "text": [
      "(1446, 11)\n",
      "(1341, 11)\n",
      "(594, 11)\n"
     ]
    }
   ],
   "source": [
    "print(data1.shape)\n",
    "print(data2.shape)\n",
    "print(data3.shape)"
   ]
  },
  {
   "cell_type": "code",
   "execution_count": 12,
   "id": "cbd86343-c4a4-427d-9d8a-1be3bc4bb068",
   "metadata": {},
   "outputs": [],
   "source": [
    "df = pd.concat([data1,data2,data3],ignore_index=True)"
   ]
  },
  {
   "cell_type": "code",
   "execution_count": 13,
   "id": "31b56b8a-21b3-46ef-84fe-2f0662b4f58d",
   "metadata": {},
   "outputs": [
    {
     "name": "stdout",
     "output_type": "stream",
     "text": [
      "<class 'pandas.core.frame.DataFrame'>\n",
      "RangeIndex: 3381 entries, 0 to 3380\n",
      "Data columns (total 11 columns):\n",
      " #   Column          Non-Null Count  Dtype \n",
      "---  ------          --------------  ----- \n",
      " 0   property_name   3381 non-null   object\n",
      " 1   areaWithType    3380 non-null   object\n",
      " 2   square_feet     3380 non-null   object\n",
      " 3   transaction     3332 non-null   object\n",
      " 4   status          3370 non-null   object\n",
      " 5   floor           3351 non-null   object\n",
      " 6   furnishing      3319 non-null   object\n",
      " 7   facing          3287 non-null   object\n",
      " 8   description     2456 non-null   object\n",
      " 9   price_per_sqft  3056 non-null   object\n",
      " 10  price           3381 non-null   object\n",
      "dtypes: object(11)\n",
      "memory usage: 290.7+ KB\n"
     ]
    }
   ],
   "source": [
    "df.info()"
   ]
  },
  {
   "cell_type": "code",
   "execution_count": 14,
   "id": "69b9ee54-73d6-4b10-b062-7fe9ee5f2933",
   "metadata": {},
   "outputs": [
    {
     "data": {
      "text/plain": [
       "property_name       0\n",
       "areaWithType        1\n",
       "square_feet         1\n",
       "transaction        49\n",
       "status             11\n",
       "floor              30\n",
       "furnishing         62\n",
       "facing             94\n",
       "description       925\n",
       "price_per_sqft    325\n",
       "price               0\n",
       "dtype: int64"
      ]
     },
     "execution_count": 14,
     "metadata": {},
     "output_type": "execute_result"
    }
   ],
   "source": [
    "df.isnull().sum()"
   ]
  },
  {
   "cell_type": "code",
   "execution_count": 15,
   "id": "7e2c5d40-e471-425e-9928-3d1830df0d8f",
   "metadata": {},
   "outputs": [],
   "source": [
    "df.to_csv('surat.csv',index=False)"
   ]
  }
 ],
 "metadata": {
  "kernelspec": {
   "display_name": "Python 3 (ipykernel)",
   "language": "python",
   "name": "python3"
  },
  "language_info": {
   "codemirror_mode": {
    "name": "ipython",
    "version": 3
   },
   "file_extension": ".py",
   "mimetype": "text/x-python",
   "name": "python",
   "nbconvert_exporter": "python",
   "pygments_lexer": "ipython3",
   "version": "3.11.9"
  }
 },
 "nbformat": 4,
 "nbformat_minor": 5
}
