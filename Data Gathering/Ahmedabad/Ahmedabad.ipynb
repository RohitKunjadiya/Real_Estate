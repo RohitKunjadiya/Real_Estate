{
 "cells": [
  {
   "cell_type": "code",
   "execution_count": 1,
   "id": "f2824977-51b4-43e6-a243-458b502e2691",
   "metadata": {},
   "outputs": [],
   "source": [
    "import numpy as np\n",
    "import pandas as pd\n",
    "from bs4 import BeautifulSoup"
   ]
  },
  {
   "cell_type": "code",
   "execution_count": 2,
   "id": "a58a77cb-e75f-455c-a748-eae7e1676d20",
   "metadata": {},
   "outputs": [],
   "source": [
    "def scraping(file):\n",
    "\n",
    "    soup = BeautifulSoup(file,'lxml')\n",
    "    \n",
    "    container = soup.find_all('div',class_=\"mb-srp__card__container\")\n",
    "    container1 = soup.find_all('div',class_='mb-srp__card__estimate')\n",
    "\n",
    "    title = []\n",
    "    typeArea = []\n",
    "    sqft = []\n",
    "    transaction = []\n",
    "    status = []\n",
    "    floor = []\n",
    "    furnishing = []\n",
    "    facing = []\n",
    "    price = []\n",
    "    price_per_sqft = []\n",
    "    description = []\n",
    "    # link = []\n",
    "    \n",
    "    for i in container:\n",
    "        #title\n",
    "        try:\n",
    "            title.append(i.find('h2',class_='mb-srp__card--title').text)\n",
    "        except:\n",
    "            title.append(np.nan)\n",
    "    \n",
    "        #link\n",
    "        # try:\n",
    "        #     link.append(i.find_all('img')['src'])\n",
    "        # except:\n",
    "        #     link.append(np.nan)\n",
    "    \n",
    "        #type of area\n",
    "        try:\n",
    "            typeArea.append(i.find_all('div',class_='mb-srp__card__summary--label')[0].text)\n",
    "        except:\n",
    "            typeArea.append(np.nan)\n",
    "    \n",
    "        #square feet\n",
    "        try:\n",
    "            sqft.append(i.find_all('div',class_='mb-srp__card__summary--value')[0].text)\n",
    "        except:\n",
    "            sqft.append(np.nan)\n",
    "    \n",
    "        #transaction\n",
    "        try:\n",
    "            transaction.append(i.find_all('div',class_='mb-srp__card__summary--value')[3].text)\n",
    "        except:\n",
    "            transaction.append(np.nan)\n",
    "    \n",
    "        #status\n",
    "        try:\n",
    "            status.append(i.find_all('div',class_='mb-srp__card__summary--value')[1].text)\n",
    "        except:\n",
    "            status.append(np.nan)    \n",
    "    \n",
    "        #floor\n",
    "        try:\n",
    "            floor.append(i.find_all('div',class_='mb-srp__card__summary--value')[2].text)\n",
    "        except:\n",
    "            floor.append(np.nan)\n",
    "    \n",
    "        #furnishing\n",
    "        try:\n",
    "            furnishing.append(i.find_all('div',class_='mb-srp__card__summary--value')[4].text)\n",
    "        except:\n",
    "            furnishing.append(np.nan)\n",
    "    \n",
    "        #facing\n",
    "        try:\n",
    "            facing.append(i.find_all('div',class_='mb-srp__card__summary--value')[5].text)\n",
    "        except:\n",
    "            facing.append(np.nan)    \n",
    "    \n",
    "        #description\n",
    "        try:\n",
    "            description.append(i.find('div',class_='mb-srp__card--desc--text').text)\n",
    "        except:\n",
    "            description.append(np.nan)  \n",
    "        \n",
    "    for j in container1:\n",
    "        #price\n",
    "        try:\n",
    "            price.append(j.find('div',class_='mb-srp__card__price--amount').text)\n",
    "        except:\n",
    "            price.append(np.nan)    \n",
    "            \n",
    "        #price_per_sqft\n",
    "        try:\n",
    "            price_per_sqft.append(j.find('div',class_='mb-srp__card__price--size').text)\n",
    "        except:\n",
    "            price_per_sqft.append(np.nan)    \n",
    "    \n",
    "    # title = []\n",
    "    # typeArea = []\n",
    "    # sqft = []\n",
    "    # transaction = []\n",
    "    # status = []\n",
    "    # floor = []\n",
    "    # furnishing = []\n",
    "    # facing = []\n",
    "    # price = []\n",
    "    # price_per_sqft = []\n",
    "    # description = []\n",
    "    \n",
    "    df = pd.DataFrame({\n",
    "        'property_name' : title,\n",
    "        'areaWithType' : typeArea,\n",
    "        'square_feet' : sqft,\n",
    "        'transaction' : transaction,\n",
    "        'status' : status,\n",
    "        'floor' : floor,\n",
    "        'furnishing' : furnishing,\n",
    "        'facing' : facing,\n",
    "        'description' : description,\n",
    "        'price_per_sqft' : price_per_sqft,\n",
    "        'price' : price\n",
    "    })\n",
    "\n",
    "    return df"
   ]
  },
  {
   "cell_type": "code",
   "execution_count": 3,
   "id": "5306b5b0-8922-4006-8367-3058d445360c",
   "metadata": {},
   "outputs": [],
   "source": [
    "with open('ahmedabad-1.html','r',encoding='utf-8') as f:\n",
    "    ahmedabad1 = f.read()\n",
    "    \n",
    "data1 = scraping(ahmedabad1)"
   ]
  },
  {
   "cell_type": "code",
   "execution_count": 4,
   "id": "f264c353-7bc6-4d81-91d9-cf7013c3b722",
   "metadata": {},
   "outputs": [],
   "source": [
    "with open('ahmedabad-2.html','r',encoding='utf-8') as f:\n",
    "    ahmedabad2 = f.read()\n",
    "    \n",
    "data2 = scraping(ahmedabad2)"
   ]
  },
  {
   "cell_type": "code",
   "execution_count": 5,
   "id": "ea8c82c0-8516-4782-a5bd-b1a6a501e48e",
   "metadata": {},
   "outputs": [],
   "source": [
    "with open('ahmedabad-3.html','r',encoding='utf-8') as f:\n",
    "    ahmedabad3 = f.read()\n",
    "    \n",
    "data3 = scraping(ahmedabad3)"
   ]
  },
  {
   "cell_type": "code",
   "execution_count": 6,
   "id": "5515f4f4-147f-44a1-8c86-e7ce9e152201",
   "metadata": {},
   "outputs": [],
   "source": [
    "with open('ahmedabad-4.html','r',encoding='utf-8') as f:\n",
    "    ahmedabad4 = f.read()\n",
    "    \n",
    "data4 = scraping(ahmedabad4)"
   ]
  },
  {
   "cell_type": "code",
   "execution_count": 7,
   "id": "62f20deb-a0f7-4eaf-867a-15aca20bb3bf",
   "metadata": {},
   "outputs": [],
   "source": [
    "with open('ahmedabad-5.html','r',encoding='utf-8') as f:\n",
    "    ahmedabad5 = f.read()\n",
    "    \n",
    "data5 = scraping(ahmedabad5)"
   ]
  },
  {
   "cell_type": "code",
   "execution_count": 8,
   "id": "7ced9619-eb92-4b14-bc75-f3587a7a64af",
   "metadata": {},
   "outputs": [],
   "source": [
    "with open('ahmedabad-6.html','r',encoding='utf-8') as f:\n",
    "    ahmedabad6 = f.read()\n",
    "    \n",
    "data6 = scraping(ahmedabad6)"
   ]
  },
  {
   "cell_type": "code",
   "execution_count": 9,
   "id": "2d9f54f1-289d-4b16-a897-9bc4d00be553",
   "metadata": {},
   "outputs": [],
   "source": [
    "with open('ahmedabad-7.html','r',encoding='utf-8') as f:\n",
    "    ahmedabad7 = f.read()\n",
    "    \n",
    "data7 = scraping(ahmedabad7)"
   ]
  },
  {
   "cell_type": "code",
   "execution_count": 10,
   "id": "717f111f-8761-4c99-af13-ecf80acf845f",
   "metadata": {},
   "outputs": [],
   "source": [
    "with open('ahmedabad-8.html','r',encoding='utf-8') as f:\n",
    "    ahmedabad8 = f.read()\n",
    "    \n",
    "data8 = scraping(ahmedabad8)"
   ]
  },
  {
   "cell_type": "code",
   "execution_count": 11,
   "id": "3a5b6d13-51a4-4740-959f-845392557b1a",
   "metadata": {},
   "outputs": [],
   "source": [
    "with open('ahmedabad-9.html','r',encoding='utf-8') as f:\n",
    "    ahmedabad9 = f.read()\n",
    "    \n",
    "data9 = scraping(ahmedabad9)"
   ]
  },
  {
   "cell_type": "code",
   "execution_count": 12,
   "id": "f864cb8e-1fbd-4800-a6ac-08a8aa865c66",
   "metadata": {},
   "outputs": [],
   "source": [
    "with open('ahmedabad-10.html','r',encoding='utf-8') as f:\n",
    "    ahmedabad10 = f.read()\n",
    "    \n",
    "data10 = scraping(ahmedabad10)"
   ]
  },
  {
   "cell_type": "code",
   "execution_count": 13,
   "id": "8c0ed1a5-dbe7-44de-a875-fda30e3c7c1b",
   "metadata": {},
   "outputs": [],
   "source": [
    "with open('ahmedabad-11.html','r',encoding='utf-8') as f:\n",
    "    ahmedabad11 = f.read()\n",
    "    \n",
    "data11 = scraping(ahmedabad11)"
   ]
  },
  {
   "cell_type": "code",
   "execution_count": 14,
   "id": "453e7f1d-4b1b-47b4-8c7b-f6ed23bee854",
   "metadata": {},
   "outputs": [],
   "source": [
    "with open('ahmedabad-12.html','r',encoding='utf-8') as f:\n",
    "    ahmedabad12 = f.read()\n",
    "    \n",
    "data12 = scraping(ahmedabad12)"
   ]
  },
  {
   "cell_type": "code",
   "execution_count": 15,
   "id": "81dd487d-7727-43d6-92f6-68620debf11b",
   "metadata": {},
   "outputs": [],
   "source": [
    "with open('ahmedabad-13.html','r',encoding='utf-8') as f:\n",
    "    ahmedabad13 = f.read()\n",
    "    \n",
    "data13 = scraping(ahmedabad13)"
   ]
  },
  {
   "cell_type": "code",
   "execution_count": 16,
   "id": "8287f974-8fd1-4827-9b15-a0c7aaeff7d7",
   "metadata": {},
   "outputs": [],
   "source": [
    "with open('ahmedabad-14.html','r',encoding='utf-8') as f:\n",
    "    ahmedabad14 = f.read()\n",
    "data14 = scraping(ahmedabad14)"
   ]
  },
  {
   "cell_type": "code",
   "execution_count": 17,
   "id": "c48ac1bd-fb33-4574-b65f-4d94b4287934",
   "metadata": {},
   "outputs": [],
   "source": [
    "with open('ahmedabad-15.html','r',encoding='utf-8') as f:\n",
    "    ahmedabad15 = f.read()\n",
    "data15 = scraping(ahmedabad15)"
   ]
  },
  {
   "cell_type": "code",
   "execution_count": 18,
   "id": "9e1c77c7-8ce2-453f-acf4-126e595aecd0",
   "metadata": {},
   "outputs": [],
   "source": [
    "with open('ahmedabad-16.html','r',encoding='utf-8') as f:\n",
    "    ahmedabad16 = f.read()\n",
    "data16 = scraping(ahmedabad16)"
   ]
  },
  {
   "cell_type": "code",
   "execution_count": 19,
   "id": "671a40d3-65ef-4d99-89d4-ad524b18f3d5",
   "metadata": {},
   "outputs": [],
   "source": [
    "with open('ahmedabad-17.html','r',encoding='utf-8') as f:\n",
    "    ahmedabad17 = f.read()\n",
    "data17 = scraping(ahmedabad17)"
   ]
  },
  {
   "cell_type": "code",
   "execution_count": 20,
   "id": "b0bdab24-b3a0-49ee-8866-fe8776e91d95",
   "metadata": {},
   "outputs": [],
   "source": [
    "with open('ahmedabad-18.html','r',encoding='utf-8') as f:\n",
    "    ahmedabad18 = f.read()\n",
    "data18 = scraping(ahmedabad18)"
   ]
  },
  {
   "cell_type": "code",
   "execution_count": 21,
   "id": "197c9c64-7911-4138-b318-c2861c8a2eed",
   "metadata": {},
   "outputs": [
    {
     "name": "stdout",
     "output_type": "stream",
     "text": [
      "(1470, 11)\n",
      "(1020, 11)\n",
      "(960, 11)\n",
      "(1175, 11)\n",
      "(1461, 11)\n",
      "(1401, 11)\n",
      "(1020, 11)\n",
      "(1020, 11)\n",
      "(1500, 11)\n",
      "(1230, 11)\n",
      "(1410, 11)\n",
      "(1380, 11)\n",
      "(1243, 11)\n",
      "(1500, 11)\n",
      "(1339, 11)\n",
      "(1428, 11)\n",
      "(696, 11)\n",
      "(1214, 11)\n"
     ]
    }
   ],
   "source": [
    "print(data1.shape)\n",
    "print(data2.shape)\n",
    "print(data3.shape)\n",
    "print(data4.shape)\n",
    "print(data5.shape)\n",
    "print(data6.shape)\n",
    "print(data7.shape)\n",
    "print(data8.shape)\n",
    "print(data9.shape)\n",
    "print(data10.shape)\n",
    "print(data11.shape)\n",
    "print(data12.shape)\n",
    "print(data13.shape)\n",
    "print(data14.shape)\n",
    "print(data15.shape)\n",
    "print(data16.shape)\n",
    "print(data17.shape)\n",
    "print(data18.shape)"
   ]
  },
  {
   "cell_type": "code",
   "execution_count": 22,
   "id": "e4ebffe4-b138-45ab-a5f6-98483006e5da",
   "metadata": {},
   "outputs": [
    {
     "name": "stdout",
     "output_type": "stream",
     "text": [
      "22\n",
      "3\n",
      "13\n",
      "21\n",
      "13\n",
      "25\n",
      "9\n",
      "11\n",
      "22\n",
      "17\n",
      "29\n",
      "32\n",
      "26\n",
      "39\n",
      "45\n",
      "42\n",
      "14\n",
      "19\n"
     ]
    }
   ],
   "source": [
    "print(data1.duplicated().sum())\n",
    "print(data2.duplicated().sum())\n",
    "print(data3.duplicated().sum())\n",
    "print(data4.duplicated().sum())\n",
    "print(data5.duplicated().sum())\n",
    "print(data6.duplicated().sum())\n",
    "print(data7.duplicated().sum())\n",
    "print(data8.duplicated().sum())\n",
    "print(data9.duplicated().sum())\n",
    "print(data10.duplicated().sum())\n",
    "print(data11.duplicated().sum())\n",
    "print(data12.duplicated().sum())\n",
    "print(data13.duplicated().sum())\n",
    "print(data14.duplicated().sum())\n",
    "print(data15.duplicated().sum())\n",
    "print(data16.duplicated().sum())\n",
    "print(data17.duplicated().sum())\n",
    "print(data18.duplicated().sum())"
   ]
  },
  {
   "cell_type": "code",
   "execution_count": 23,
   "id": "42eecac1-efd8-4dc0-8a67-a0adf7b60cb2",
   "metadata": {},
   "outputs": [],
   "source": [
    "data1.drop_duplicates(inplace=True)\n",
    "data2.drop_duplicates(inplace=True)\n",
    "data3.drop_duplicates(inplace=True)\n",
    "data4.drop_duplicates(inplace=True)\n",
    "data5.drop_duplicates(inplace=True)\n",
    "data6.drop_duplicates(inplace=True)\n",
    "data7.drop_duplicates(inplace=True)\n",
    "data8.drop_duplicates(inplace=True)\n",
    "data9.drop_duplicates(inplace=True)\n",
    "data10.drop_duplicates(inplace=True)\n",
    "data11.drop_duplicates(inplace=True)\n",
    "data12.drop_duplicates(inplace=True)\n",
    "data13.drop_duplicates(inplace=True)\n",
    "data14.drop_duplicates(inplace=True)\n",
    "data15.drop_duplicates(inplace=True)\n",
    "data16.drop_duplicates(inplace=True)\n",
    "data17.drop_duplicates(inplace=True)\n",
    "data18.drop_duplicates(inplace=True)"
   ]
  },
  {
   "cell_type": "code",
   "execution_count": 24,
   "id": "c838b1da-b2de-4414-a692-34098dd3e236",
   "metadata": {},
   "outputs": [
    {
     "name": "stdout",
     "output_type": "stream",
     "text": [
      "0\n",
      "0\n",
      "0\n",
      "0\n",
      "0\n",
      "0\n",
      "0\n",
      "0\n",
      "0\n",
      "0\n",
      "0\n",
      "0\n",
      "0\n",
      "0\n",
      "0\n",
      "0\n",
      "0\n",
      "0\n"
     ]
    }
   ],
   "source": [
    "print(data1.duplicated().sum())\n",
    "print(data2.duplicated().sum())\n",
    "print(data3.duplicated().sum())\n",
    "print(data4.duplicated().sum())\n",
    "print(data5.duplicated().sum())\n",
    "print(data6.duplicated().sum())\n",
    "print(data7.duplicated().sum())\n",
    "print(data8.duplicated().sum())\n",
    "print(data9.duplicated().sum())\n",
    "print(data10.duplicated().sum())\n",
    "print(data11.duplicated().sum())\n",
    "print(data12.duplicated().sum())\n",
    "print(data13.duplicated().sum())\n",
    "print(data14.duplicated().sum())\n",
    "print(data15.duplicated().sum())\n",
    "print(data16.duplicated().sum())\n",
    "print(data17.duplicated().sum())\n",
    "print(data18.duplicated().sum())"
   ]
  },
  {
   "cell_type": "code",
   "execution_count": 25,
   "id": "26b82120-fb22-4e74-bd57-286081944e40",
   "metadata": {},
   "outputs": [
    {
     "name": "stdout",
     "output_type": "stream",
     "text": [
      "(1448, 11)\n",
      "(1017, 11)\n",
      "(947, 11)\n",
      "(1154, 11)\n",
      "(1448, 11)\n",
      "(1376, 11)\n",
      "(1011, 11)\n",
      "(1009, 11)\n",
      "(1478, 11)\n",
      "(1213, 11)\n",
      "(1381, 11)\n",
      "(1348, 11)\n",
      "(1217, 11)\n",
      "(1461, 11)\n",
      "(1294, 11)\n",
      "(1386, 11)\n",
      "(682, 11)\n",
      "(1195, 11)\n"
     ]
    }
   ],
   "source": [
    "print(data1.shape)\n",
    "print(data2.shape)\n",
    "print(data3.shape)\n",
    "print(data4.shape)\n",
    "print(data5.shape)\n",
    "print(data6.shape)\n",
    "print(data7.shape)\n",
    "print(data8.shape)\n",
    "print(data9.shape)\n",
    "print(data10.shape)\n",
    "print(data11.shape)\n",
    "print(data12.shape)\n",
    "print(data13.shape)\n",
    "print(data14.shape)\n",
    "print(data15.shape)\n",
    "print(data16.shape)\n",
    "print(data17.shape)\n",
    "print(data18.shape)"
   ]
  },
  {
   "cell_type": "code",
   "execution_count": 26,
   "id": "d035338a-95de-4615-a4d2-e82aa2035bb6",
   "metadata": {},
   "outputs": [],
   "source": [
    "df = pd.concat([data1,data2,data3,data4,data5,data6,data7,data8,data9,data10,data11,data12,data13,data14,data15,data16,data17,data18],ignore_index=True)"
   ]
  },
  {
   "cell_type": "code",
   "execution_count": 27,
   "id": "6353dda9-6a58-490e-ae06-92b39db1ae39",
   "metadata": {},
   "outputs": [
    {
     "data": {
      "text/plain": [
       "(22065, 11)"
      ]
     },
     "execution_count": 27,
     "metadata": {},
     "output_type": "execute_result"
    }
   ],
   "source": [
    "df.shape"
   ]
  },
  {
   "cell_type": "code",
   "execution_count": 28,
   "id": "65840e08-0239-4b4b-a876-0cb1aaa664f8",
   "metadata": {},
   "outputs": [
    {
     "data": {
      "text/plain": [
       "3367"
      ]
     },
     "execution_count": 28,
     "metadata": {},
     "output_type": "execute_result"
    }
   ],
   "source": [
    "df.duplicated().sum()"
   ]
  },
  {
   "cell_type": "code",
   "execution_count": 29,
   "id": "12935ff1-f7c0-491a-ba93-c5e9a713a872",
   "metadata": {},
   "outputs": [],
   "source": [
    "df.drop_duplicates(inplace=True)"
   ]
  },
  {
   "cell_type": "code",
   "execution_count": 30,
   "id": "70768b2a-8a5d-45da-bcb1-8ff966455649",
   "metadata": {},
   "outputs": [
    {
     "data": {
      "text/plain": [
       "(18698, 11)"
      ]
     },
     "execution_count": 30,
     "metadata": {},
     "output_type": "execute_result"
    }
   ],
   "source": [
    "df.shape"
   ]
  },
  {
   "cell_type": "code",
   "execution_count": 31,
   "id": "ad66b12b-67b5-4b41-b78e-448effbefe00",
   "metadata": {},
   "outputs": [],
   "source": [
    "df.to_csv('ahmedabad.csv',index=False)"
   ]
  },
  {
   "cell_type": "code",
   "execution_count": 32,
   "id": "4a8d8b05-a0c9-468e-8770-a83e645b2ae0",
   "metadata": {},
   "outputs": [
    {
     "name": "stdout",
     "output_type": "stream",
     "text": [
      "<class 'pandas.core.frame.DataFrame'>\n",
      "Index: 18698 entries, 0 to 22064\n",
      "Data columns (total 11 columns):\n",
      " #   Column          Non-Null Count  Dtype \n",
      "---  ------          --------------  ----- \n",
      " 0   property_name   18698 non-null  object\n",
      " 1   areaWithType    18694 non-null  object\n",
      " 2   square_feet     18694 non-null  object\n",
      " 3   transaction     18499 non-null  object\n",
      " 4   status          18644 non-null  object\n",
      " 5   floor           18546 non-null  object\n",
      " 6   furnishing      18472 non-null  object\n",
      " 7   facing          18397 non-null  object\n",
      " 8   description     15668 non-null  object\n",
      " 9   price_per_sqft  16798 non-null  object\n",
      " 10  price           18698 non-null  object\n",
      "dtypes: object(11)\n",
      "memory usage: 1.7+ MB\n"
     ]
    }
   ],
   "source": [
    "df.info()"
   ]
  },
  {
   "cell_type": "code",
   "execution_count": null,
   "id": "1777ec5b-7b2a-4eed-9357-860ec7143fb0",
   "metadata": {},
   "outputs": [],
   "source": []
  }
 ],
 "metadata": {
  "kernelspec": {
   "display_name": "Python 3 (ipykernel)",
   "language": "python",
   "name": "python3"
  },
  "language_info": {
   "codemirror_mode": {
    "name": "ipython",
    "version": 3
   },
   "file_extension": ".py",
   "mimetype": "text/x-python",
   "name": "python",
   "nbconvert_exporter": "python",
   "pygments_lexer": "ipython3",
   "version": "3.11.7"
  }
 },
 "nbformat": 4,
 "nbformat_minor": 5
}
