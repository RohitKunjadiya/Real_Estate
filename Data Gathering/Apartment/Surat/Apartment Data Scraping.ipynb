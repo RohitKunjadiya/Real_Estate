{
 "cells": [
  {
   "cell_type": "code",
   "execution_count": 1,
   "id": "6625d5bf-49e6-495a-a7be-872289badd74",
   "metadata": {},
   "outputs": [],
   "source": [
    "import numpy as np\n",
    "import pandas as pd\n",
    "\n",
    "import time\n",
    "import re\n",
    "\n",
    "import requests\n",
    "from bs4 import BeautifulSoup"
   ]
  },
  {
   "cell_type": "code",
   "execution_count": 2,
   "id": "10884ceb-40c5-4c6c-bb40-f5b3b035e609",
   "metadata": {},
   "outputs": [],
   "source": [
    "webpage = requests.get('https://housing.com/rent/apartments-for-rent-in-surat-gujarat-M1P20drlq24mltepds2?page=1').text\n",
    "soup = BeautifulSoup(webpage, 'lxml')\n",
    "all_divs = soup.find_all('div', class_=\"t17qvo1u _biqgdtch _1la84ssf _156v13i4 _axkb7n _9s1txw _j61sew T_82a3537f\")"
   ]
  },
  {
   "cell_type": "code",
   "execution_count": 3,
   "id": "02dcefcd-5ccb-4a00-9619-c0152994bd81",
   "metadata": {},
   "outputs": [],
   "source": [
    "highlights = []\n",
    "pattern = re.compile(r'(_l8ftgi _vy1osq _c81fwx _gdnqgrho _1q731fwx _4okudlk8 .*? highlights)')\n",
    "\n",
    "for i in all_divs:\n",
    "    \n",
    "    try:\n",
    "        highlights.append(i.find(\"div\", class_=re.compile(r'(_l8ftgi _vy1osq _c81fwx _gdnqgrho _1q731fwx _4okudlk8 .*? highlights)')).text)\n",
    "    except:\n",
    "        highlights.append(np.nan)"
   ]
  },
  {
   "cell_type": "code",
   "execution_count": 7,
   "id": "3dca620f-13f4-4f6c-9c6a-1ebba2c7cf83",
   "metadata": {},
   "outputs": [
    {
     "data": {
      "text/html": [
       "<div>\n",
       "<style scoped>\n",
       "    .dataframe tbody tr th:only-of-type {\n",
       "        vertical-align: middle;\n",
       "    }\n",
       "\n",
       "    .dataframe tbody tr th {\n",
       "        vertical-align: top;\n",
       "    }\n",
       "\n",
       "    .dataframe thead th {\n",
       "        text-align: right;\n",
       "    }\n",
       "</style>\n",
       "<table border=\"1\" class=\"dataframe\">\n",
       "  <thead>\n",
       "    <tr style=\"text-align: right;\">\n",
       "      <th></th>\n",
       "      <th>SocietyName</th>\n",
       "      <th>BHK</th>\n",
       "      <th>Furnishing</th>\n",
       "      <th>BuiltUpArea</th>\n",
       "      <th>Locality</th>\n",
       "      <th>NearbyPlace_1</th>\n",
       "      <th>DistanceAway_1</th>\n",
       "      <th>NearbyPlace_2</th>\n",
       "      <th>DistanceAway_2</th>\n",
       "      <th>Description</th>\n",
       "      <th>Highlights</th>\n",
       "    </tr>\n",
       "  </thead>\n",
       "  <tbody>\n",
       "    <tr>\n",
       "      <th>0</th>\n",
       "      <td>Aston Homes</td>\n",
       "      <td>3 BHK Flat for rent in Palanpur, Surat</td>\n",
       "      <td>Semi Furnished</td>\n",
       "      <td>2200 sq.ft</td>\n",
       "      <td>3 BHK Flat for rent in Palanpur, Surat</td>\n",
       "      <td>L P Savani School</td>\n",
       "      <td>is 0.2 km away</td>\n",
       "      <td>BACHPAN Children hospital</td>\n",
       "      <td>is 0.4 km away</td>\n",
       "      <td>Your search for a spacious home at affordable ...</td>\n",
       "      <td>Property Highlights24x7 SecurityChildren Play ...</td>\n",
       "    </tr>\n",
       "    <tr>\n",
       "      <th>1</th>\n",
       "      <td>Raghuvir Spectrum</td>\n",
       "      <td>3 BHK Flat for rent in Bhimrad, Surat</td>\n",
       "      <td>Unfurnished</td>\n",
       "      <td>1775 sq.ft</td>\n",
       "      <td>3 BHK Flat for rent in Bhimrad, Surat</td>\n",
       "      <td>Agarwal Vidya Vihar</td>\n",
       "      <td>is 0.7 km away</td>\n",
       "      <td>Amritam Multispeciality Hospital</td>\n",
       "      <td>is 0.9 km away</td>\n",
       "      <td>If you are looking for a modern house on rent ...</td>\n",
       "      <td>Property HighlightsClose to AirportClose to AT...</td>\n",
       "    </tr>\n",
       "    <tr>\n",
       "      <th>2</th>\n",
       "      <td>Ramaa Residency</td>\n",
       "      <td>2 BHK Flat for rent in Dahin Nagar, Surat</td>\n",
       "      <td>Semi Furnished</td>\n",
       "      <td>1278 sq.ft</td>\n",
       "      <td>2 BHK Flat for rent in Dahin Nagar, Surat</td>\n",
       "      <td>The Radiant International School</td>\n",
       "      <td>is 1.3 km away</td>\n",
       "      <td>Ortho Plus Hospital</td>\n",
       "      <td>is 0.9 km away</td>\n",
       "      <td>Its a 2 BHK UNUSED Semi Furnished Flat Availab...</td>\n",
       "      <td>Property Highlights24x7 SecurityGated Communit...</td>\n",
       "    </tr>\n",
       "    <tr>\n",
       "      <th>3</th>\n",
       "      <td>Swagat Clifton</td>\n",
       "      <td>2 BHK Flat for rent in Dundi, Surat</td>\n",
       "      <td>Semi Furnished</td>\n",
       "      <td>1252 sq.ft</td>\n",
       "      <td>2 BHK Flat for rent in Dundi, Surat</td>\n",
       "      <td>Bhagwan Mahavir International School</td>\n",
       "      <td>is 0.1 km away</td>\n",
       "      <td>Shraddha Clinic - Dr. Khushbu Patel Jani</td>\n",
       "      <td>is 2.5 km away</td>\n",
       "      <td>A spacious home designed for families aspiring...</td>\n",
       "      <td>Property Highlights24x7 SecurityChildren Play ...</td>\n",
       "    </tr>\n",
       "    <tr>\n",
       "      <th>4</th>\n",
       "      <td>Shyam Enclave Building A B C</td>\n",
       "      <td>2 BHK Flat for rent in Dahin Nagar, Surat</td>\n",
       "      <td>Unfurnished</td>\n",
       "      <td>1254 sq.ft</td>\n",
       "      <td>2 BHK Flat for rent in Dahin Nagar, Surat</td>\n",
       "      <td>Shishukunj Vidya Vihar &amp; L B Contractor School</td>\n",
       "      <td>is 1.5 km away</td>\n",
       "      <td>Ortho Plus Hospital</td>\n",
       "      <td>is 1.4 km away</td>\n",
       "      <td>This is a well-designed 2 BHK Apartment availa...</td>\n",
       "      <td>NaN</td>\n",
       "    </tr>\n",
       "  </tbody>\n",
       "</table>\n",
       "</div>"
      ],
      "text/plain": [
       "                    SocietyName                                        BHK  \\\n",
       "0                   Aston Homes     3 BHK Flat for rent in Palanpur, Surat   \n",
       "1             Raghuvir Spectrum      3 BHK Flat for rent in Bhimrad, Surat   \n",
       "2               Ramaa Residency  2 BHK Flat for rent in Dahin Nagar, Surat   \n",
       "3                Swagat Clifton        2 BHK Flat for rent in Dundi, Surat   \n",
       "4  Shyam Enclave Building A B C  2 BHK Flat for rent in Dahin Nagar, Surat   \n",
       "\n",
       "       Furnishing BuiltUpArea                                   Locality  \\\n",
       "0  Semi Furnished  2200 sq.ft     3 BHK Flat for rent in Palanpur, Surat   \n",
       "1     Unfurnished  1775 sq.ft      3 BHK Flat for rent in Bhimrad, Surat   \n",
       "2  Semi Furnished  1278 sq.ft  2 BHK Flat for rent in Dahin Nagar, Surat   \n",
       "3  Semi Furnished  1252 sq.ft        2 BHK Flat for rent in Dundi, Surat   \n",
       "4     Unfurnished  1254 sq.ft  2 BHK Flat for rent in Dahin Nagar, Surat   \n",
       "\n",
       "                                    NearbyPlace_1  DistanceAway_1  \\\n",
       "0                               L P Savani School  is 0.2 km away   \n",
       "1                             Agarwal Vidya Vihar  is 0.7 km away   \n",
       "2                The Radiant International School  is 1.3 km away   \n",
       "3            Bhagwan Mahavir International School  is 0.1 km away   \n",
       "4  Shishukunj Vidya Vihar & L B Contractor School  is 1.5 km away   \n",
       "\n",
       "                              NearbyPlace_2  DistanceAway_2  \\\n",
       "0                 BACHPAN Children hospital  is 0.4 km away   \n",
       "1          Amritam Multispeciality Hospital  is 0.9 km away   \n",
       "2                       Ortho Plus Hospital  is 0.9 km away   \n",
       "3  Shraddha Clinic - Dr. Khushbu Patel Jani  is 2.5 km away   \n",
       "4                       Ortho Plus Hospital  is 1.4 km away   \n",
       "\n",
       "                                         Description  \\\n",
       "0  Your search for a spacious home at affordable ...   \n",
       "1  If you are looking for a modern house on rent ...   \n",
       "2  Its a 2 BHK UNUSED Semi Furnished Flat Availab...   \n",
       "3  A spacious home designed for families aspiring...   \n",
       "4  This is a well-designed 2 BHK Apartment availa...   \n",
       "\n",
       "                                          Highlights  \n",
       "0  Property Highlights24x7 SecurityChildren Play ...  \n",
       "1  Property HighlightsClose to AirportClose to AT...  \n",
       "2  Property Highlights24x7 SecurityGated Communit...  \n",
       "3  Property Highlights24x7 SecurityChildren Play ...  \n",
       "4                                                NaN  "
      ]
     },
     "execution_count": 7,
     "metadata": {},
     "output_type": "execute_result"
    }
   ],
   "source": [
    "data_frames = []\n",
    "\n",
    "for i in range(1, 31):\n",
    "    webpage = requests.get(f'https://housing.com/rent/apartments-for-rent-in-surat-gujarat-M1P20drlq24mltepds2?page={i}').text\n",
    "    soup = BeautifulSoup(webpage, 'lxml')\n",
    "    all_divs = soup.find_all('div', class_=\"t17qvo1u _biqgdtch _1la84ssf _156v13i4 _axkb7n _9s1txw _j61sew T_82a3537f\")\n",
    "\n",
    "    # Lists for collecting data for each property\n",
    "    society_name = []\n",
    "    bhk = []\n",
    "    description = []\n",
    "    highlights = []\n",
    "    furnishing = []\n",
    "    built_up_area = []\n",
    "    locality = []\n",
    "    nearby_place1 = []\n",
    "    distance_away1 = []\n",
    "    nearby_place2 = []\n",
    "    distance_away2 = []\n",
    "\n",
    "    # Loop through each div containing property info\n",
    "    for j in all_divs:\n",
    "        try:\n",
    "            society_name.append(j.find(\"a\", class_=\"value\").text)\n",
    "        except:\n",
    "            society_name.append(np.nan)\n",
    "\n",
    "        try:\n",
    "            bhk.append(j.find(\"div\", class_=\"T_091c165f _sq1l2s _vv1q9c _ks15vq T_3d3547ab _7s5wglyw _5vy24jg8 _blas1v10 new-title\").text)\n",
    "        except:\n",
    "            bhk.append(np.nan)\n",
    "\n",
    "        try:\n",
    "            description.append(j.find(\"span\", class_=\"T_091c165f _sq1l2s _vv1q9c _ks15vq T_3b18a44b _w41hna _7l14la _g3dlk8 _c81fwx\").text)\n",
    "        except:\n",
    "            description.append(np.nan)\n",
    "\n",
    "        try:\n",
    "            highlights.append(j.find(\"div\", class_=re.compile(r'(_l8ftgi _vy1osq _c81fwx _gdnqgrho _1q731fwx _4okudlk8 .*? highlights)')).text)\n",
    "        except:\n",
    "            highlights.append(np.nan)\n",
    "        \n",
    "        x = j.find_all(\"div\", class_=\"T_091c165f _sq1l2s _vv1q9c _ks15vq T_efe231cd _vy1ipv _7ltvct _g3dlk8 _c81fwx _cs1nn1 value\")\n",
    "\n",
    "        # Try to extract each attribute if it exists\n",
    "        try: furnishing.append(x[0].text)\n",
    "        except: furnishing.append(np.nan)\n",
    "        try: built_up_area.append(x[1].text)\n",
    "        except: built_up_area.append(np.nan)\n",
    "        try:locality.append(j.a.get_text())\n",
    "        except:locality.append(np.nan)\n",
    "\n",
    "        y = j.find_all(\"div\", class_=\"T_091c165f _sq1l2s _vv1q9c _ks15vq T_7e22db16 _gz14y2 _j3r5k8 _7l5yda _g3dlk8 _c81fwx\")\n",
    "\n",
    "        try: nearby_place1.append(y[0].text)\n",
    "        except: nearby_place1.append(np.nan)\n",
    "        try: nearby_place2.append(y[1].text)\n",
    "        except: nearby_place2.append(np.nan)\n",
    "\n",
    "        z = j.find_all(\"div\", class_=\"_c81fwx _g3dlk8 _7l11ef _gz1l7b _vy1ris T_b1c2c114\")\n",
    "\n",
    "        try: distance_away1.append(z[0].text)\n",
    "        except: distance_away1.append(np.nan)\n",
    "        try: distance_away2.append(z[1].text)\n",
    "        except: distance_away2.append(np.nan)\n",
    "\n",
    "    # Create a DataFrame for the current page and append it to the list\n",
    "    df = pd.DataFrame({\n",
    "        'SocietyName': society_name,\n",
    "        'BHK': bhk,\n",
    "        'Furnishing': furnishing,\n",
    "        'BuiltUpArea': built_up_area,\n",
    "        'Locality': locality,\n",
    "        'NearbyPlace_1': nearby_place1,\n",
    "        'DistanceAway_1': distance_away1,\n",
    "        'NearbyPlace_2': nearby_place2,\n",
    "        'DistanceAway_2': distance_away2,\n",
    "        'Description': description,\n",
    "        'Highlights': highlights\n",
    "    })\n",
    "    \n",
    "    data_frames.append(df)  # Add the current page DataFrame to the list\n",
    "\n",
    "    time.sleep(6)\n",
    "\n",
    "# Concatenate all DataFrames into a single DataFrame\n",
    "final_df = pd.concat(data_frames, ignore_index=True)\n",
    "\n",
    "# Save the final DataFrame to a CSV file\n",
    "final_df.to_csv(\"apartment.csv\", index=False)\n",
    "\n",
    "# Display the first few rows of the final DataFrame\n",
    "final_df.head()"
   ]
  },
  {
   "cell_type": "code",
   "execution_count": 8,
   "id": "989d7553-4e07-49ed-bddd-a5072b57edcc",
   "metadata": {},
   "outputs": [
    {
     "data": {
      "text/plain": [
       "(620, 11)"
      ]
     },
     "execution_count": 8,
     "metadata": {},
     "output_type": "execute_result"
    }
   ],
   "source": [
    "final_df.shape"
   ]
  },
  {
   "cell_type": "code",
   "execution_count": 9,
   "id": "00ab5568-8b38-420f-9f1f-47795d8499f2",
   "metadata": {},
   "outputs": [
    {
     "data": {
      "text/plain": [
       "55"
      ]
     },
     "execution_count": 9,
     "metadata": {},
     "output_type": "execute_result"
    }
   ],
   "source": [
    "final_df.duplicated().sum()"
   ]
  },
  {
   "cell_type": "code",
   "execution_count": 10,
   "id": "ee87ef1f-4628-43f6-a150-7d2eed0aaf6a",
   "metadata": {},
   "outputs": [
    {
     "data": {
      "text/plain": [
       "SocietyName       237\n",
       "BHK                 0\n",
       "Furnishing          0\n",
       "BuiltUpArea         0\n",
       "Locality            0\n",
       "NearbyPlace_1       1\n",
       "DistanceAway_1      1\n",
       "NearbyPlace_2       1\n",
       "DistanceAway_2      1\n",
       "Description         0\n",
       "Highlights        483\n",
       "dtype: int64"
      ]
     },
     "execution_count": 10,
     "metadata": {},
     "output_type": "execute_result"
    }
   ],
   "source": [
    "final_df.isna().sum()"
   ]
  },
  {
   "cell_type": "code",
   "execution_count": 11,
   "id": "ab9d2472-5716-43ee-9d40-fd659180bee4",
   "metadata": {},
   "outputs": [
    {
     "data": {
      "text/plain": [
       "Furnishing\n",
       "Fully Furnished    291\n",
       "Unfurnished        184\n",
       "Semi Furnished     145\n",
       "Name: count, dtype: int64"
      ]
     },
     "execution_count": 11,
     "metadata": {},
     "output_type": "execute_result"
    }
   ],
   "source": [
    "final_df['Furnishing'].value_counts()"
   ]
  },
  {
   "cell_type": "code",
   "execution_count": 12,
   "id": "4fbd398d-27d1-4a3f-ac12-9265886f3625",
   "metadata": {},
   "outputs": [],
   "source": [
    "# loop\n",
    "# 21: shape: 590\n",
    "#     duplicated: 21\n",
    "\n",
    "# 31: shape: 620\n",
    "#     duplicated: 55\n",
    "\n",
    "# 41: shape: 650\n",
    "#     duplicated: 85\n",
    "\n",
    "# 51: shape: 680\n",
    "#     duplicated: 115"
   ]
  },
  {
   "cell_type": "code",
   "execution_count": null,
   "id": "b57fd4ce-8c56-44ba-b9c0-ce737eff2ee7",
   "metadata": {},
   "outputs": [],
   "source": []
  }
 ],
 "metadata": {
  "kernelspec": {
   "display_name": "Python 3 (ipykernel)",
   "language": "python",
   "name": "python3"
  },
  "language_info": {
   "codemirror_mode": {
    "name": "ipython",
    "version": 3
   },
   "file_extension": ".py",
   "mimetype": "text/x-python",
   "name": "python",
   "nbconvert_exporter": "python",
   "pygments_lexer": "ipython3",
   "version": "3.11.7"
  }
 },
 "nbformat": 4,
 "nbformat_minor": 5
}
