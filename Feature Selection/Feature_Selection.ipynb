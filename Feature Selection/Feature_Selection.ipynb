{
 "cells": [
  {
   "cell_type": "code",
   "execution_count": 1,
   "id": "9e0412b2-5c5f-4904-9359-b38e82045df8",
   "metadata": {},
   "outputs": [],
   "source": [
    "import numpy as np\n",
    "import pandas as pd\n",
    "from matplotlib import pyplot as plt\n",
    "import seaborn as sns"
   ]
  },
  {
   "cell_type": "code",
   "execution_count": 2,
   "id": "b3352c49-a469-40ac-9d66-1fc46a96b511",
   "metadata": {
    "scrolled": true
   },
   "outputs": [
    {
     "data": {
      "text/plain": [
       "(3103, 13)"
      ]
     },
     "execution_count": 2,
     "metadata": {},
     "output_type": "execute_result"
    }
   ],
   "source": [
    "df = pd.read_csv('surat_mvi.csv')\n",
    "\n",
    "df.shape"
   ]
  },
  {
   "cell_type": "code",
   "execution_count": 3,
   "id": "4b50fe7b-a0e5-447d-9a88-f35dc8369f0e",
   "metadata": {},
   "outputs": [
    {
     "data": {
      "text/plain": [
       "2"
      ]
     },
     "execution_count": 3,
     "metadata": {},
     "output_type": "execute_result"
    }
   ],
   "source": [
    "df.duplicated().sum()"
   ]
  },
  {
   "cell_type": "code",
   "execution_count": 4,
   "id": "9a6caf94-16e2-42b0-9042-2588418e6090",
   "metadata": {},
   "outputs": [],
   "source": [
    "df.drop_duplicates(inplace=True)"
   ]
  },
  {
   "cell_type": "code",
   "execution_count": 5,
   "id": "28ec07fc-f6f4-4470-96ec-ce09b9c645b3",
   "metadata": {},
   "outputs": [
    {
     "data": {
      "text/plain": [
       "location          0\n",
       "bhk               0\n",
       "areaType          0\n",
       "square_feet       0\n",
       "transaction       0\n",
       "status            0\n",
       "floorNum          0\n",
       "totalFloor        0\n",
       "furnishing        0\n",
       "facing            0\n",
       "price_per_sqft    0\n",
       "price             0\n",
       "built_up_area     0\n",
       "dtype: int64"
      ]
     },
     "execution_count": 5,
     "metadata": {},
     "output_type": "execute_result"
    }
   ],
   "source": [
    "df.isna().sum()"
   ]
  },
  {
   "cell_type": "code",
   "execution_count": 6,
   "id": "e7ae1f4f-1e47-460b-8234-76401aada03e",
   "metadata": {},
   "outputs": [],
   "source": [
    "train_df = df.drop(columns=['square_feet','areaType', 'price_per_sqft', 'totalFloor'])"
   ]
  },
  {
   "cell_type": "code",
   "execution_count": 7,
   "id": "3388dc2a-99dd-48a9-abef-6101bb7876be",
   "metadata": {},
   "outputs": [
    {
     "data": {
      "text/html": [
       "<div>\n",
       "<style scoped>\n",
       "    .dataframe tbody tr th:only-of-type {\n",
       "        vertical-align: middle;\n",
       "    }\n",
       "\n",
       "    .dataframe tbody tr th {\n",
       "        vertical-align: top;\n",
       "    }\n",
       "\n",
       "    .dataframe thead th {\n",
       "        text-align: right;\n",
       "    }\n",
       "</style>\n",
       "<table border=\"1\" class=\"dataframe\">\n",
       "  <thead>\n",
       "    <tr style=\"text-align: right;\">\n",
       "      <th></th>\n",
       "      <th>location</th>\n",
       "      <th>bhk</th>\n",
       "      <th>transaction</th>\n",
       "      <th>status</th>\n",
       "      <th>floorNum</th>\n",
       "      <th>furnishing</th>\n",
       "      <th>facing</th>\n",
       "      <th>price</th>\n",
       "      <th>built_up_area</th>\n",
       "    </tr>\n",
       "  </thead>\n",
       "  <tbody>\n",
       "    <tr>\n",
       "      <th>0</th>\n",
       "      <td>palanpur</td>\n",
       "      <td>2</td>\n",
       "      <td>New Property</td>\n",
       "      <td>Ready to Move</td>\n",
       "      <td>5.0</td>\n",
       "      <td>Unfurnished</td>\n",
       "      <td>East</td>\n",
       "      <td>0.45</td>\n",
       "      <td>1185</td>\n",
       "    </tr>\n",
       "    <tr>\n",
       "      <th>1</th>\n",
       "      <td>dindoli</td>\n",
       "      <td>2</td>\n",
       "      <td>New Property</td>\n",
       "      <td>Under Construction</td>\n",
       "      <td>5.0</td>\n",
       "      <td>Unfurnished</td>\n",
       "      <td>West</td>\n",
       "      <td>0.34</td>\n",
       "      <td>708</td>\n",
       "    </tr>\n",
       "    <tr>\n",
       "      <th>2</th>\n",
       "      <td>palanpur</td>\n",
       "      <td>2</td>\n",
       "      <td>New Property</td>\n",
       "      <td>Under Construction</td>\n",
       "      <td>7.0</td>\n",
       "      <td>Unfurnished</td>\n",
       "      <td>East</td>\n",
       "      <td>0.46</td>\n",
       "      <td>1204</td>\n",
       "    </tr>\n",
       "    <tr>\n",
       "      <th>3</th>\n",
       "      <td>palanpur</td>\n",
       "      <td>2</td>\n",
       "      <td>New Property</td>\n",
       "      <td>Under Construction</td>\n",
       "      <td>6.0</td>\n",
       "      <td>Unfurnished</td>\n",
       "      <td>East</td>\n",
       "      <td>0.55</td>\n",
       "      <td>767</td>\n",
       "    </tr>\n",
       "    <tr>\n",
       "      <th>4</th>\n",
       "      <td>pal</td>\n",
       "      <td>2</td>\n",
       "      <td>New Property</td>\n",
       "      <td>Under Construction</td>\n",
       "      <td>5.0</td>\n",
       "      <td>Unfurnished</td>\n",
       "      <td>South -West</td>\n",
       "      <td>0.57</td>\n",
       "      <td>1351</td>\n",
       "    </tr>\n",
       "  </tbody>\n",
       "</table>\n",
       "</div>"
      ],
      "text/plain": [
       "   location  bhk   transaction              status  floorNum   furnishing  \\\n",
       "0  palanpur    2  New Property       Ready to Move       5.0  Unfurnished   \n",
       "1   dindoli    2  New Property  Under Construction       5.0  Unfurnished   \n",
       "2  palanpur    2  New Property  Under Construction       7.0  Unfurnished   \n",
       "3  palanpur    2  New Property  Under Construction       6.0  Unfurnished   \n",
       "4       pal    2  New Property  Under Construction       5.0  Unfurnished   \n",
       "\n",
       "        facing  price  built_up_area  \n",
       "0         East   0.45           1185  \n",
       "1         West   0.34            708  \n",
       "2         East   0.46           1204  \n",
       "3         East   0.55            767  \n",
       "4  South -West   0.57           1351  "
      ]
     },
     "execution_count": 7,
     "metadata": {},
     "output_type": "execute_result"
    }
   ],
   "source": [
    "train_df.head()"
   ]
  },
  {
   "cell_type": "markdown",
   "id": "f0a09464-2159-4b8a-b4a7-5751fd9344e9",
   "metadata": {},
   "source": [
    "# FloorNum"
   ]
  },
  {
   "cell_type": "code",
   "execution_count": 8,
   "id": "9bb68a7d-20cd-48a5-8017-1f1a72a426a1",
   "metadata": {},
   "outputs": [],
   "source": [
    "train_df = train_df[~(train_df['floorNum'] < 0)]"
   ]
  },
  {
   "cell_type": "code",
   "execution_count": 9,
   "id": "f385fd12-4eb6-4c11-b810-1302286bdf61",
   "metadata": {},
   "outputs": [
    {
     "data": {
      "image/png": "[encoded data removed]",
      "text/plain": [
       "<Figure size 640x480 with 1 Axes>"
      ]
     },
     "metadata": {},
     "output_type": "display_data"
    }
   ],
   "source": [
    "sns.boxplot(train_df['floorNum'])\n",
    "plt.show()"
   ]
  },
  {
   "cell_type": "code",
   "execution_count": 10,
   "id": "433816e6-f242-428f-8ed0-00dce5cd6c37",
   "metadata": {},
   "outputs": [],
   "source": [
    "def categorize_floor(floor):\n",
    "    if 0 <= floor <= 2:\n",
    "        return \"Low Floor\"\n",
    "    elif 3 <= floor <= 10:\n",
    "        return \"Mid Floor\"\n",
    "    elif 11 <= floor <= 51:\n",
    "        return \"High Floor\"\n",
    "    else:\n",
    "        return None  # or \"Undefined\" or any other label for floors outside the defined bins\n",
    "\n",
    "train_df['floor_category'] = train_df['floorNum'].apply(categorize_floor)"
   ]
  },
  {
   "cell_type": "markdown",
   "id": "0f2162d0-9934-43a6-a86e-97c00e7106e2",
   "metadata": {},
   "source": [
    "# bathroom"
   ]
  },
  {
   "cell_type": "code",
   "execution_count": 11,
   "id": "d57f7657-9c18-4eea-80a7-d3b4042f4c46",
   "metadata": {},
   "outputs": [],
   "source": [
    "train_df['bathroom'] = train_df['bhk'].apply(lambda x: max(1, x - 1))"
   ]
  },
  {
   "cell_type": "markdown",
   "id": "d1a52317-e809-4836-aa10-a75b2f9361e7",
   "metadata": {},
   "source": [
    "# Luxury Score"
   ]
  },
  {
   "cell_type": "code",
   "execution_count": 12,
   "id": "33ca8f95-ddec-446d-9b81-c201371a13f3",
   "metadata": {},
   "outputs": [],
   "source": [
    "def calculate_luxury_score(row):\n",
    "    score = 0\n",
    "    \n",
    "    score += row['bhk'] * 10\n",
    "    \n",
    "    score += row['built_up_area'] // 100  # 1 point for every 100 sq ft\n",
    "    \n",
    "    score += row['price'] // 1e6  # 1 point for every million\n",
    "    \n",
    "    if row['furnishing'] == 'Furnished':\n",
    "        score += 15\n",
    "    elif row['furnishing'] == 'Semi-Furnished':\n",
    "        score += 10\n",
    "    else:\n",
    "        score += 5\n",
    "    \n",
    "    score += row['bathroom'] * 5\n",
    "    \n",
    "    if row['floor_category'] == 'High Floor':\n",
    "        score += 15\n",
    "    elif row['floor_category'] == 'Mid Floor':\n",
    "        score += 10\n",
    "    else:\n",
    "        score += 5\n",
    "    \n",
    "    return score\n",
    "\n",
    "train_df['luxury_score'] = train_df.apply(calculate_luxury_score, axis=1)"
   ]
  },
  {
   "cell_type": "code",
   "execution_count": 13,
   "id": "5cbcdc2c-4ec9-41c5-b629-6d8389fdc71f",
   "metadata": {},
   "outputs": [
    {
     "data": {
      "text/plain": [
       "count    3089.000000\n",
       "mean       70.545484\n",
       "std        25.233327\n",
       "min        25.000000\n",
       "25%        52.000000\n",
       "50%        68.000000\n",
       "75%        80.000000\n",
       "max       208.000000\n",
       "Name: luxury_score, dtype: float64"
      ]
     },
     "execution_count": 13,
     "metadata": {},
     "output_type": "execute_result"
    }
   ],
   "source": [
    "train_df['luxury_score'].describe()"
   ]
  },
  {
   "cell_type": "code",
   "execution_count": 14,
   "id": "7dda0df2-5255-4284-b8d1-fbe8576f9681",
   "metadata": {},
   "outputs": [
    {
     "data": {
      "text/plain": [
       "<Axes: xlabel='luxury_score'>"
      ]
     },
     "execution_count": 14,
     "metadata": {},
     "output_type": "execute_result"
    },
    {
     "data": {
      "image/png": "[encoded data removed]",
      "text/plain": [
       "<Figure size 640x480 with 1 Axes>"
      ]
     },
     "metadata": {},
     "output_type": "display_data"
    }
   ],
   "source": [
    "sns.boxplot(x=train_df['luxury_score'])"
   ]
  },
  {
   "cell_type": "code",
   "execution_count": 15,
   "id": "165b5904-9b80-4c6c-89c9-9abed1ffec50",
   "metadata": {},
   "outputs": [],
   "source": [
    "def categorize_luxury(score):\n",
    "    if 0 <= score <= 50:\n",
    "        return \"Low\"\n",
    "    elif 50 < score <= 150:\n",
    "        return \"Medium\"\n",
    "    elif 150 < score <= 200:\n",
    "        return \"High\"\n",
    "    else:\n",
    "        return None     \n",
    "\n",
    "train_df['luxury_category'] = train_df['luxury_score'].apply(categorize_luxury)"
   ]
  },
  {
   "cell_type": "code",
   "execution_count": 16,
   "id": "4ff40775-742c-4038-ab69-af36e281ca81",
   "metadata": {},
   "outputs": [
    {
     "data": {
      "text/plain": [
       "luxury_category\n",
       "Medium    2398\n",
       "Low        648\n",
       "High        42\n",
       "Name: count, dtype: int64"
      ]
     },
     "execution_count": 16,
     "metadata": {},
     "output_type": "execute_result"
    }
   ],
   "source": [
    "train_df['luxury_category'].value_counts()"
   ]
  },
  {
   "cell_type": "code",
   "execution_count": 17,
   "id": "965cf9ce-05b1-4543-982c-8dac845423a3",
   "metadata": {},
   "outputs": [],
   "source": [
    "train_df.drop(columns=['floorNum','luxury_score'],inplace=True)"
   ]
  },
  {
   "cell_type": "code",
   "execution_count": 18,
   "id": "5e736eb9-3eae-453b-ac9a-7a47e426b314",
   "metadata": {},
   "outputs": [
    {
     "data": {
      "text/plain": [
       "Index(['location', 'bhk', 'transaction', 'status', 'furnishing', 'facing',\n",
       "       'price', 'built_up_area', 'floor_category', 'bathroom',\n",
       "       'luxury_category'],\n",
       "      dtype='object')"
      ]
     },
     "execution_count": 18,
     "metadata": {},
     "output_type": "execute_result"
    }
   ],
   "source": [
    "train_df.columns"
   ]
  },
  {
   "cell_type": "code",
   "execution_count": null,
   "id": "bf14ebce-42b7-4603-b453-a18c0bbec5db",
   "metadata": {},
   "outputs": [],
   "source": []
  },
  {
   "cell_type": "markdown",
   "id": "b2549021-34c0-477d-b045-6493a68abc1e",
   "metadata": {},
   "source": [
    "ordinal encoding with unordered categories can work well with tree-based models, as these models can handle the ordinal values without interpreting them as actual \"order.\" Tree-based models can effectively split on different levels without making assumptions about ordinal relationships."
   ]
  },
  {
   "cell_type": "code",
   "execution_count": 19,
   "id": "a65928ac-5a0a-4450-8474-5b25a1b56951",
   "metadata": {},
   "outputs": [
    {
     "name": "stdout",
     "output_type": "stream",
     "text": [
      "[array(['adajan', 'althan', 'amroli', 'athwalines', 'bardoli', 'dindoli',\n",
      "       'dumas road/hazira', 'jahangirpura', 'kadodara', 'kamrej',\n",
      "       'katargam', 'nanpura/gopipura/chauta/sagrampura', 'pal',\n",
      "       'palanpur', 'punagam', 'sachin', 'sarthana/varachha', 'udhna',\n",
      "       'vesu'], dtype=object)]\n",
      "[array(['New Property', 'Resale'], dtype=object)]\n",
      "[array(['Ready to Move', 'Under Construction'], dtype=object)]\n",
      "[array(['Furnished', 'Semi-Furnished', 'Unfurnished'], dtype=object)]\n",
      "[array(['East', 'North', 'North - East', 'North - West', 'South',\n",
      "       'South - East', 'South -West', 'West'], dtype=object)]\n",
      "[array(['High Floor', 'Low Floor', 'Mid Floor'], dtype=object)]\n",
      "[array(['High', 'Low', 'Medium', None], dtype=object)]\n"
     ]
    }
   ],
   "source": [
    "from sklearn.preprocessing import OrdinalEncoder\n",
    "\n",
    "# Create a copy of the original data for label encoding\n",
    "data_label_encoded = train_df.copy()\n",
    "\n",
    "categorical_cols = train_df.select_dtypes(include=['object']).columns\n",
    "\n",
    "# Apply label encoding to categorical columns\n",
    "for col in categorical_cols:\n",
    "    oe = OrdinalEncoder()\n",
    "    data_label_encoded[col] = oe.fit_transform(data_label_encoded[[col]])\n",
    "    print(oe.categories_)\n",
    "\n",
    "# Splitting the dataset into training and testing sets\n",
    "X_label = data_label_encoded.drop('price', axis=1)\n",
    "y_label = data_label_encoded['price']"
   ]
  },
  {
   "cell_type": "code",
   "execution_count": 20,
   "id": "195b2dda-326b-4310-98a2-480d7a7ea360",
   "metadata": {},
   "outputs": [
    {
     "data": {
      "text/html": [
       "<div>\n",
       "<style scoped>\n",
       "    .dataframe tbody tr th:only-of-type {\n",
       "        vertical-align: middle;\n",
       "    }\n",
       "\n",
       "    .dataframe tbody tr th {\n",
       "        vertical-align: top;\n",
       "    }\n",
       "\n",
       "    .dataframe thead th {\n",
       "        text-align: right;\n",
       "    }\n",
       "</style>\n",
       "<table border=\"1\" class=\"dataframe\">\n",
       "  <thead>\n",
       "    <tr style=\"text-align: right;\">\n",
       "      <th></th>\n",
       "      <th>location</th>\n",
       "      <th>bhk</th>\n",
       "      <th>transaction</th>\n",
       "      <th>status</th>\n",
       "      <th>furnishing</th>\n",
       "      <th>facing</th>\n",
       "      <th>built_up_area</th>\n",
       "      <th>floor_category</th>\n",
       "      <th>bathroom</th>\n",
       "      <th>luxury_category</th>\n",
       "    </tr>\n",
       "  </thead>\n",
       "  <tbody>\n",
       "    <tr>\n",
       "      <th>0</th>\n",
       "      <td>13.0</td>\n",
       "      <td>2</td>\n",
       "      <td>0.0</td>\n",
       "      <td>0.0</td>\n",
       "      <td>2.0</td>\n",
       "      <td>0.0</td>\n",
       "      <td>1185</td>\n",
       "      <td>2.0</td>\n",
       "      <td>1</td>\n",
       "      <td>2.0</td>\n",
       "    </tr>\n",
       "    <tr>\n",
       "      <th>1</th>\n",
       "      <td>5.0</td>\n",
       "      <td>2</td>\n",
       "      <td>0.0</td>\n",
       "      <td>1.0</td>\n",
       "      <td>2.0</td>\n",
       "      <td>7.0</td>\n",
       "      <td>708</td>\n",
       "      <td>2.0</td>\n",
       "      <td>1</td>\n",
       "      <td>1.0</td>\n",
       "    </tr>\n",
       "    <tr>\n",
       "      <th>2</th>\n",
       "      <td>13.0</td>\n",
       "      <td>2</td>\n",
       "      <td>0.0</td>\n",
       "      <td>1.0</td>\n",
       "      <td>2.0</td>\n",
       "      <td>0.0</td>\n",
       "      <td>1204</td>\n",
       "      <td>2.0</td>\n",
       "      <td>1</td>\n",
       "      <td>2.0</td>\n",
       "    </tr>\n",
       "    <tr>\n",
       "      <th>3</th>\n",
       "      <td>13.0</td>\n",
       "      <td>2</td>\n",
       "      <td>0.0</td>\n",
       "      <td>1.0</td>\n",
       "      <td>2.0</td>\n",
       "      <td>0.0</td>\n",
       "      <td>767</td>\n",
       "      <td>2.0</td>\n",
       "      <td>1</td>\n",
       "      <td>1.0</td>\n",
       "    </tr>\n",
       "    <tr>\n",
       "      <th>4</th>\n",
       "      <td>12.0</td>\n",
       "      <td>2</td>\n",
       "      <td>0.0</td>\n",
       "      <td>1.0</td>\n",
       "      <td>2.0</td>\n",
       "      <td>6.0</td>\n",
       "      <td>1351</td>\n",
       "      <td>2.0</td>\n",
       "      <td>1</td>\n",
       "      <td>2.0</td>\n",
       "    </tr>\n",
       "    <tr>\n",
       "      <th>...</th>\n",
       "      <td>...</td>\n",
       "      <td>...</td>\n",
       "      <td>...</td>\n",
       "      <td>...</td>\n",
       "      <td>...</td>\n",
       "      <td>...</td>\n",
       "      <td>...</td>\n",
       "      <td>...</td>\n",
       "      <td>...</td>\n",
       "      <td>...</td>\n",
       "    </tr>\n",
       "    <tr>\n",
       "      <th>3098</th>\n",
       "      <td>18.0</td>\n",
       "      <td>4</td>\n",
       "      <td>0.0</td>\n",
       "      <td>1.0</td>\n",
       "      <td>2.0</td>\n",
       "      <td>2.0</td>\n",
       "      <td>2057</td>\n",
       "      <td>2.0</td>\n",
       "      <td>3</td>\n",
       "      <td>2.0</td>\n",
       "    </tr>\n",
       "    <tr>\n",
       "      <th>3099</th>\n",
       "      <td>1.0</td>\n",
       "      <td>4</td>\n",
       "      <td>0.0</td>\n",
       "      <td>1.0</td>\n",
       "      <td>2.0</td>\n",
       "      <td>5.0</td>\n",
       "      <td>3600</td>\n",
       "      <td>2.0</td>\n",
       "      <td>3</td>\n",
       "      <td>2.0</td>\n",
       "    </tr>\n",
       "    <tr>\n",
       "      <th>3100</th>\n",
       "      <td>18.0</td>\n",
       "      <td>4</td>\n",
       "      <td>0.0</td>\n",
       "      <td>0.0</td>\n",
       "      <td>2.0</td>\n",
       "      <td>1.0</td>\n",
       "      <td>4500</td>\n",
       "      <td>2.0</td>\n",
       "      <td>3</td>\n",
       "      <td>2.0</td>\n",
       "    </tr>\n",
       "    <tr>\n",
       "      <th>3101</th>\n",
       "      <td>18.0</td>\n",
       "      <td>5</td>\n",
       "      <td>0.0</td>\n",
       "      <td>1.0</td>\n",
       "      <td>2.0</td>\n",
       "      <td>2.0</td>\n",
       "      <td>2475</td>\n",
       "      <td>2.0</td>\n",
       "      <td>4</td>\n",
       "      <td>2.0</td>\n",
       "    </tr>\n",
       "    <tr>\n",
       "      <th>3102</th>\n",
       "      <td>18.0</td>\n",
       "      <td>6</td>\n",
       "      <td>0.0</td>\n",
       "      <td>0.0</td>\n",
       "      <td>2.0</td>\n",
       "      <td>3.0</td>\n",
       "      <td>3795</td>\n",
       "      <td>2.0</td>\n",
       "      <td>5</td>\n",
       "      <td>2.0</td>\n",
       "    </tr>\n",
       "  </tbody>\n",
       "</table>\n",
       "<p>3089 rows × 10 columns</p>\n",
       "</div>"
      ],
      "text/plain": [
       "      location  bhk  transaction  status  furnishing  facing  built_up_area  \\\n",
       "0         13.0    2          0.0     0.0         2.0     0.0           1185   \n",
       "1          5.0    2          0.0     1.0         2.0     7.0            708   \n",
       "2         13.0    2          0.0     1.0         2.0     0.0           1204   \n",
       "3         13.0    2          0.0     1.0         2.0     0.0            767   \n",
       "4         12.0    2          0.0     1.0         2.0     6.0           1351   \n",
       "...        ...  ...          ...     ...         ...     ...            ...   \n",
       "3098      18.0    4          0.0     1.0         2.0     2.0           2057   \n",
       "3099       1.0    4          0.0     1.0         2.0     5.0           3600   \n",
       "3100      18.0    4          0.0     0.0         2.0     1.0           4500   \n",
       "3101      18.0    5          0.0     1.0         2.0     2.0           2475   \n",
       "3102      18.0    6          0.0     0.0         2.0     3.0           3795   \n",
       "\n",
       "      floor_category  bathroom  luxury_category  \n",
       "0                2.0         1              2.0  \n",
       "1                2.0         1              1.0  \n",
       "2                2.0         1              2.0  \n",
       "3                2.0         1              1.0  \n",
       "4                2.0         1              2.0  \n",
       "...              ...       ...              ...  \n",
       "3098             2.0         3              2.0  \n",
       "3099             2.0         3              2.0  \n",
       "3100             2.0         3              2.0  \n",
       "3101             2.0         4              2.0  \n",
       "3102             2.0         5              2.0  \n",
       "\n",
       "[3089 rows x 10 columns]"
      ]
     },
     "execution_count": 20,
     "metadata": {},
     "output_type": "execute_result"
    }
   ],
   "source": [
    "X_label"
   ]
  },
  {
   "cell_type": "code",
   "execution_count": 21,
   "id": "dca3b74a-fa22-4dc7-8f13-83e40cfc6643",
   "metadata": {},
   "outputs": [
    {
     "data": {
      "text/plain": [
       "0       0.45\n",
       "1       0.34\n",
       "2       0.46\n",
       "3       0.55\n",
       "4       0.57\n",
       "        ... \n",
       "3098    1.88\n",
       "3099    0.88\n",
       "3100    1.88\n",
       "3101    1.88\n",
       "3102    1.88\n",
       "Name: price, Length: 3089, dtype: float64"
      ]
     },
     "execution_count": 21,
     "metadata": {},
     "output_type": "execute_result"
    }
   ],
   "source": [
    "y_label"
   ]
  },
  {
   "cell_type": "markdown",
   "id": "060ac866-d7d8-4b2b-8e1d-0dc7d914b5a6",
   "metadata": {},
   "source": [
    "# Technique 1 - Correlation Analysis"
   ]
  },
  {
   "cell_type": "code",
   "execution_count": 22,
   "id": "c4884c7c-f056-458c-84db-6944843cd481",
   "metadata": {},
   "outputs": [
    {
     "data": {
      "text/plain": [
       "<Axes: >"
      ]
     },
     "execution_count": 22,
     "metadata": {},
     "output_type": "execute_result"
    },
    {
     "data": {
      "image/png": "[encoded data removed]",
      "text/plain": [
       "<Figure size 640x480 with 2 Axes>"
      ]
     },
     "metadata": {},
     "output_type": "display_data"
    }
   ],
   "source": [
    "sns.heatmap(data_label_encoded.corr())"
   ]
  },
  {
   "cell_type": "code",
   "execution_count": 23,
   "id": "2216017a-8791-4ebc-b900-734f6c5dd967",
   "metadata": {},
   "outputs": [
    {
     "data": {
      "text/html": [
       "<div>\n",
       "<style scoped>\n",
       "    .dataframe tbody tr th:only-of-type {\n",
       "        vertical-align: middle;\n",
       "    }\n",
       "\n",
       "    .dataframe tbody tr th {\n",
       "        vertical-align: top;\n",
       "    }\n",
       "\n",
       "    .dataframe thead th {\n",
       "        text-align: right;\n",
       "    }\n",
       "</style>\n",
       "<table border=\"1\" class=\"dataframe\">\n",
       "  <thead>\n",
       "    <tr style=\"text-align: right;\">\n",
       "      <th></th>\n",
       "      <th>feature</th>\n",
       "      <th>corr_coeff</th>\n",
       "    </tr>\n",
       "  </thead>\n",
       "  <tbody>\n",
       "    <tr>\n",
       "      <th>0</th>\n",
       "      <td>bhk</td>\n",
       "      <td>0.758309</td>\n",
       "    </tr>\n",
       "    <tr>\n",
       "      <th>1</th>\n",
       "      <td>transaction</td>\n",
       "      <td>-0.332182</td>\n",
       "    </tr>\n",
       "    <tr>\n",
       "      <th>2</th>\n",
       "      <td>status</td>\n",
       "      <td>0.320258</td>\n",
       "    </tr>\n",
       "    <tr>\n",
       "      <th>3</th>\n",
       "      <td>furnishing</td>\n",
       "      <td>0.187341</td>\n",
       "    </tr>\n",
       "    <tr>\n",
       "      <th>4</th>\n",
       "      <td>facing</td>\n",
       "      <td>-0.064526</td>\n",
       "    </tr>\n",
       "    <tr>\n",
       "      <th>5</th>\n",
       "      <td>price</td>\n",
       "      <td>1.000000</td>\n",
       "    </tr>\n",
       "    <tr>\n",
       "      <th>6</th>\n",
       "      <td>built_up_area</td>\n",
       "      <td>0.892522</td>\n",
       "    </tr>\n",
       "    <tr>\n",
       "      <th>7</th>\n",
       "      <td>floor_category</td>\n",
       "      <td>-0.003711</td>\n",
       "    </tr>\n",
       "    <tr>\n",
       "      <th>8</th>\n",
       "      <td>bathroom</td>\n",
       "      <td>0.791298</td>\n",
       "    </tr>\n",
       "    <tr>\n",
       "      <th>9</th>\n",
       "      <td>luxury_category</td>\n",
       "      <td>0.020831</td>\n",
       "    </tr>\n",
       "  </tbody>\n",
       "</table>\n",
       "</div>"
      ],
      "text/plain": [
       "           feature  corr_coeff\n",
       "0              bhk    0.758309\n",
       "1      transaction   -0.332182\n",
       "2           status    0.320258\n",
       "3       furnishing    0.187341\n",
       "4           facing   -0.064526\n",
       "5            price    1.000000\n",
       "6    built_up_area    0.892522\n",
       "7   floor_category   -0.003711\n",
       "8         bathroom    0.791298\n",
       "9  luxury_category    0.020831"
      ]
     },
     "execution_count": 23,
     "metadata": {},
     "output_type": "execute_result"
    }
   ],
   "source": [
    "fi_df1 = data_label_encoded.corr()['price'].iloc[1:].to_frame().reset_index().rename(columns={'index':'feature','price':'corr_coeff'})\n",
    "fi_df1"
   ]
  },
  {
   "cell_type": "markdown",
   "id": "e71e0270-926e-4503-aab2-4a113ac758b9",
   "metadata": {},
   "source": [
    "# Technique 2 - Random Forest Feature Importance"
   ]
  },
  {
   "cell_type": "code",
   "execution_count": 24,
   "id": "c3217ac7-1aae-46cf-9ab3-2b59db4a4a1c",
   "metadata": {},
   "outputs": [
    {
     "data": {
      "text/html": [
       "<div>\n",
       "<style scoped>\n",
       "    .dataframe tbody tr th:only-of-type {\n",
       "        vertical-align: middle;\n",
       "    }\n",
       "\n",
       "    .dataframe tbody tr th {\n",
       "        vertical-align: top;\n",
       "    }\n",
       "\n",
       "    .dataframe thead th {\n",
       "        text-align: right;\n",
       "    }\n",
       "</style>\n",
       "<table border=\"1\" class=\"dataframe\">\n",
       "  <thead>\n",
       "    <tr style=\"text-align: right;\">\n",
       "      <th></th>\n",
       "      <th>feature</th>\n",
       "      <th>rf_importance</th>\n",
       "    </tr>\n",
       "  </thead>\n",
       "  <tbody>\n",
       "    <tr>\n",
       "      <th>6</th>\n",
       "      <td>built_up_area</td>\n",
       "      <td>0.616001</td>\n",
       "    </tr>\n",
       "    <tr>\n",
       "      <th>1</th>\n",
       "      <td>bhk</td>\n",
       "      <td>0.149726</td>\n",
       "    </tr>\n",
       "    <tr>\n",
       "      <th>8</th>\n",
       "      <td>bathroom</td>\n",
       "      <td>0.145065</td>\n",
       "    </tr>\n",
       "    <tr>\n",
       "      <th>0</th>\n",
       "      <td>location</td>\n",
       "      <td>0.035580</td>\n",
       "    </tr>\n",
       "    <tr>\n",
       "      <th>9</th>\n",
       "      <td>luxury_category</td>\n",
       "      <td>0.020361</td>\n",
       "    </tr>\n",
       "    <tr>\n",
       "      <th>5</th>\n",
       "      <td>facing</td>\n",
       "      <td>0.010972</td>\n",
       "    </tr>\n",
       "    <tr>\n",
       "      <th>7</th>\n",
       "      <td>floor_category</td>\n",
       "      <td>0.007437</td>\n",
       "    </tr>\n",
       "    <tr>\n",
       "      <th>2</th>\n",
       "      <td>transaction</td>\n",
       "      <td>0.005407</td>\n",
       "    </tr>\n",
       "    <tr>\n",
       "      <th>4</th>\n",
       "      <td>furnishing</td>\n",
       "      <td>0.005264</td>\n",
       "    </tr>\n",
       "    <tr>\n",
       "      <th>3</th>\n",
       "      <td>status</td>\n",
       "      <td>0.004187</td>\n",
       "    </tr>\n",
       "  </tbody>\n",
       "</table>\n",
       "</div>"
      ],
      "text/plain": [
       "           feature  rf_importance\n",
       "6    built_up_area       0.616001\n",
       "1              bhk       0.149726\n",
       "8         bathroom       0.145065\n",
       "0         location       0.035580\n",
       "9  luxury_category       0.020361\n",
       "5           facing       0.010972\n",
       "7   floor_category       0.007437\n",
       "2      transaction       0.005407\n",
       "4       furnishing       0.005264\n",
       "3           status       0.004187"
      ]
     },
     "execution_count": 24,
     "metadata": {},
     "output_type": "execute_result"
    }
   ],
   "source": [
    "from sklearn.ensemble import RandomForestRegressor\n",
    "\n",
    "# Train a Random Forest regressor on label encoded data\n",
    "rf_label = RandomForestRegressor(n_estimators=100, random_state=42)\n",
    "rf_label.fit(X_label, y_label)\n",
    "\n",
    "# Extract feature importance scores for label encoded data\n",
    "fi_df2 = pd.DataFrame({\n",
    "    'feature': X_label.columns,\n",
    "    'rf_importance': rf_label.feature_importances_\n",
    "}).sort_values(by='rf_importance', ascending=False)\n",
    "\n",
    "fi_df2"
   ]
  },
  {
   "cell_type": "markdown",
   "id": "2204896b-27ea-4fac-87ca-a016c878b69b",
   "metadata": {},
   "source": [
    "# Technique 3 - Gradient Boosting Feature importances"
   ]
  },
  {
   "cell_type": "code",
   "execution_count": 25,
   "id": "ecf01fc8-bac5-4347-99df-dec43b0656cf",
   "metadata": {},
   "outputs": [
    {
     "data": {
      "text/html": [
       "<div>\n",
       "<style scoped>\n",
       "    .dataframe tbody tr th:only-of-type {\n",
       "        vertical-align: middle;\n",
       "    }\n",
       "\n",
       "    .dataframe tbody tr th {\n",
       "        vertical-align: top;\n",
       "    }\n",
       "\n",
       "    .dataframe thead th {\n",
       "        text-align: right;\n",
       "    }\n",
       "</style>\n",
       "<table border=\"1\" class=\"dataframe\">\n",
       "  <thead>\n",
       "    <tr style=\"text-align: right;\">\n",
       "      <th></th>\n",
       "      <th>feature</th>\n",
       "      <th>gb_importance</th>\n",
       "    </tr>\n",
       "  </thead>\n",
       "  <tbody>\n",
       "    <tr>\n",
       "      <th>6</th>\n",
       "      <td>built_up_area</td>\n",
       "      <td>0.691979</td>\n",
       "    </tr>\n",
       "    <tr>\n",
       "      <th>1</th>\n",
       "      <td>bhk</td>\n",
       "      <td>0.155503</td>\n",
       "    </tr>\n",
       "    <tr>\n",
       "      <th>8</th>\n",
       "      <td>bathroom</td>\n",
       "      <td>0.098020</td>\n",
       "    </tr>\n",
       "    <tr>\n",
       "      <th>0</th>\n",
       "      <td>location</td>\n",
       "      <td>0.044669</td>\n",
       "    </tr>\n",
       "    <tr>\n",
       "      <th>5</th>\n",
       "      <td>facing</td>\n",
       "      <td>0.003133</td>\n",
       "    </tr>\n",
       "    <tr>\n",
       "      <th>9</th>\n",
       "      <td>luxury_category</td>\n",
       "      <td>0.002848</td>\n",
       "    </tr>\n",
       "    <tr>\n",
       "      <th>2</th>\n",
       "      <td>transaction</td>\n",
       "      <td>0.001382</td>\n",
       "    </tr>\n",
       "    <tr>\n",
       "      <th>3</th>\n",
       "      <td>status</td>\n",
       "      <td>0.001089</td>\n",
       "    </tr>\n",
       "    <tr>\n",
       "      <th>7</th>\n",
       "      <td>floor_category</td>\n",
       "      <td>0.000981</td>\n",
       "    </tr>\n",
       "    <tr>\n",
       "      <th>4</th>\n",
       "      <td>furnishing</td>\n",
       "      <td>0.000396</td>\n",
       "    </tr>\n",
       "  </tbody>\n",
       "</table>\n",
       "</div>"
      ],
      "text/plain": [
       "           feature  gb_importance\n",
       "6    built_up_area       0.691979\n",
       "1              bhk       0.155503\n",
       "8         bathroom       0.098020\n",
       "0         location       0.044669\n",
       "5           facing       0.003133\n",
       "9  luxury_category       0.002848\n",
       "2      transaction       0.001382\n",
       "3           status       0.001089\n",
       "7   floor_category       0.000981\n",
       "4       furnishing       0.000396"
      ]
     },
     "execution_count": 25,
     "metadata": {},
     "output_type": "execute_result"
    }
   ],
   "source": [
    "from sklearn.ensemble import GradientBoostingRegressor\n",
    "\n",
    "# Train a Random Forest regressor on label encoded data\n",
    "gb_label = GradientBoostingRegressor()\n",
    "gb_label.fit(X_label, y_label)\n",
    "\n",
    "# Extract feature importance scores for label encoded data\n",
    "fi_df3 = pd.DataFrame({\n",
    "    'feature': X_label.columns,\n",
    "    'gb_importance': gb_label.feature_importances_\n",
    "}).sort_values(by='gb_importance', ascending=False)\n",
    "\n",
    "fi_df3"
   ]
  },
  {
   "cell_type": "markdown",
   "id": "cb72e087-9586-40d2-b027-22aef665a3be",
   "metadata": {},
   "source": [
    "# Technique 4 - Permutation Importance"
   ]
  },
  {
   "cell_type": "code",
   "execution_count": 26,
   "id": "bd570b13-69df-4671-841e-114c491ebab7",
   "metadata": {},
   "outputs": [
    {
     "data": {
      "text/html": [
       "<div>\n",
       "<style scoped>\n",
       "    .dataframe tbody tr th:only-of-type {\n",
       "        vertical-align: middle;\n",
       "    }\n",
       "\n",
       "    .dataframe tbody tr th {\n",
       "        vertical-align: top;\n",
       "    }\n",
       "\n",
       "    .dataframe thead th {\n",
       "        text-align: right;\n",
       "    }\n",
       "</style>\n",
       "<table border=\"1\" class=\"dataframe\">\n",
       "  <thead>\n",
       "    <tr style=\"text-align: right;\">\n",
       "      <th></th>\n",
       "      <th>feature</th>\n",
       "      <th>permutation_importance</th>\n",
       "    </tr>\n",
       "  </thead>\n",
       "  <tbody>\n",
       "    <tr>\n",
       "      <th>6</th>\n",
       "      <td>built_up_area</td>\n",
       "      <td>0.817949</td>\n",
       "    </tr>\n",
       "    <tr>\n",
       "      <th>0</th>\n",
       "      <td>location</td>\n",
       "      <td>0.064379</td>\n",
       "    </tr>\n",
       "    <tr>\n",
       "      <th>8</th>\n",
       "      <td>bathroom</td>\n",
       "      <td>0.059715</td>\n",
       "    </tr>\n",
       "    <tr>\n",
       "      <th>1</th>\n",
       "      <td>bhk</td>\n",
       "      <td>0.050525</td>\n",
       "    </tr>\n",
       "    <tr>\n",
       "      <th>9</th>\n",
       "      <td>luxury_category</td>\n",
       "      <td>0.005992</td>\n",
       "    </tr>\n",
       "    <tr>\n",
       "      <th>7</th>\n",
       "      <td>floor_category</td>\n",
       "      <td>0.004750</td>\n",
       "    </tr>\n",
       "    <tr>\n",
       "      <th>3</th>\n",
       "      <td>status</td>\n",
       "      <td>0.002260</td>\n",
       "    </tr>\n",
       "    <tr>\n",
       "      <th>5</th>\n",
       "      <td>facing</td>\n",
       "      <td>0.001926</td>\n",
       "    </tr>\n",
       "    <tr>\n",
       "      <th>4</th>\n",
       "      <td>furnishing</td>\n",
       "      <td>0.000960</td>\n",
       "    </tr>\n",
       "    <tr>\n",
       "      <th>2</th>\n",
       "      <td>transaction</td>\n",
       "      <td>-0.003138</td>\n",
       "    </tr>\n",
       "  </tbody>\n",
       "</table>\n",
       "</div>"
      ],
      "text/plain": [
       "           feature  permutation_importance\n",
       "6    built_up_area                0.817949\n",
       "0         location                0.064379\n",
       "8         bathroom                0.059715\n",
       "1              bhk                0.050525\n",
       "9  luxury_category                0.005992\n",
       "7   floor_category                0.004750\n",
       "3           status                0.002260\n",
       "5           facing                0.001926\n",
       "4       furnishing                0.000960\n",
       "2      transaction               -0.003138"
      ]
     },
     "execution_count": 26,
     "metadata": {},
     "output_type": "execute_result"
    }
   ],
   "source": [
    "from sklearn.inspection import permutation_importance\n",
    "from sklearn.model_selection import train_test_split\n",
    "\n",
    "X_train_label, X_test_label, y_train_label, y_test_label = train_test_split(X_label, y_label, test_size=0.2, random_state=42)\n",
    "\n",
    "rf_label = RandomForestRegressor(n_estimators=100, random_state=42)\n",
    "rf_label.fit(X_train_label, y_train_label)\n",
    "\n",
    "# Calculate Permutation Importance\n",
    "perm_importance = permutation_importance(rf_label, X_test_label, y_test_label, n_repeats=30, random_state=42)\n",
    "\n",
    "# Organize results into a DataFrame\n",
    "fi_df4 = pd.DataFrame({\n",
    "    'feature': X_label.columns,\n",
    "    'permutation_importance': perm_importance.importances_mean\n",
    "}).sort_values(by='permutation_importance', ascending=False)\n",
    "\n",
    "fi_df4"
   ]
  },
  {
   "cell_type": "markdown",
   "id": "50dc0fb3-6bec-4f3e-98ad-b8d366d5d660",
   "metadata": {},
   "source": [
    "# Technique 5 - LASSO\n",
    "\n",
    "- Not Reliable(because we used ordinal encoding)"
   ]
  },
  {
   "cell_type": "code",
   "execution_count": 27,
   "id": "4fd485fe-52c1-491a-86f7-b65ba0f2e38a",
   "metadata": {},
   "outputs": [
    {
     "data": {
      "text/html": [
       "<div>\n",
       "<style scoped>\n",
       "    .dataframe tbody tr th:only-of-type {\n",
       "        vertical-align: middle;\n",
       "    }\n",
       "\n",
       "    .dataframe tbody tr th {\n",
       "        vertical-align: top;\n",
       "    }\n",
       "\n",
       "    .dataframe thead th {\n",
       "        text-align: right;\n",
       "    }\n",
       "</style>\n",
       "<table border=\"1\" class=\"dataframe\">\n",
       "  <thead>\n",
       "    <tr style=\"text-align: right;\">\n",
       "      <th></th>\n",
       "      <th>feature</th>\n",
       "      <th>lasso_coeff</th>\n",
       "    </tr>\n",
       "  </thead>\n",
       "  <tbody>\n",
       "    <tr>\n",
       "      <th>6</th>\n",
       "      <td>built_up_area</td>\n",
       "      <td>0.757345</td>\n",
       "    </tr>\n",
       "    <tr>\n",
       "      <th>8</th>\n",
       "      <td>bathroom</td>\n",
       "      <td>0.219320</td>\n",
       "    </tr>\n",
       "    <tr>\n",
       "      <th>0</th>\n",
       "      <td>location</td>\n",
       "      <td>0.032693</td>\n",
       "    </tr>\n",
       "    <tr>\n",
       "      <th>1</th>\n",
       "      <td>bhk</td>\n",
       "      <td>0.031082</td>\n",
       "    </tr>\n",
       "    <tr>\n",
       "      <th>7</th>\n",
       "      <td>floor_category</td>\n",
       "      <td>-0.000000</td>\n",
       "    </tr>\n",
       "    <tr>\n",
       "      <th>4</th>\n",
       "      <td>furnishing</td>\n",
       "      <td>-0.001504</td>\n",
       "    </tr>\n",
       "    <tr>\n",
       "      <th>3</th>\n",
       "      <td>status</td>\n",
       "      <td>-0.005641</td>\n",
       "    </tr>\n",
       "    <tr>\n",
       "      <th>5</th>\n",
       "      <td>facing</td>\n",
       "      <td>-0.010017</td>\n",
       "    </tr>\n",
       "    <tr>\n",
       "      <th>2</th>\n",
       "      <td>transaction</td>\n",
       "      <td>-0.013422</td>\n",
       "    </tr>\n",
       "    <tr>\n",
       "      <th>9</th>\n",
       "      <td>luxury_category</td>\n",
       "      <td>-0.128781</td>\n",
       "    </tr>\n",
       "  </tbody>\n",
       "</table>\n",
       "</div>"
      ],
      "text/plain": [
       "           feature  lasso_coeff\n",
       "6    built_up_area     0.757345\n",
       "8         bathroom     0.219320\n",
       "0         location     0.032693\n",
       "1              bhk     0.031082\n",
       "7   floor_category    -0.000000\n",
       "4       furnishing    -0.001504\n",
       "3           status    -0.005641\n",
       "5           facing    -0.010017\n",
       "2      transaction    -0.013422\n",
       "9  luxury_category    -0.128781"
      ]
     },
     "execution_count": 27,
     "metadata": {},
     "output_type": "execute_result"
    }
   ],
   "source": [
    "from sklearn.linear_model import Lasso\n",
    "from sklearn.preprocessing import StandardScaler\n",
    "\n",
    "# Standardize the features\n",
    "scaler = StandardScaler()\n",
    "X_scaled = scaler.fit_transform(X_label)\n",
    "\n",
    "# Train a LASSO regression model\n",
    "# We'll use a relatively small value for alpha (the regularization strength) for demonstration purposes\n",
    "lasso = Lasso(alpha=0.01, random_state=42)\n",
    "lasso.fit(X_scaled, y_label)\n",
    "\n",
    "# Extract coefficients\n",
    "fi_df5 = pd.DataFrame({\n",
    "    'feature': X_label.columns,\n",
    "    'lasso_coeff': lasso.coef_\n",
    "}).sort_values(by='lasso_coeff', ascending=False)\n",
    "\n",
    "fi_df5"
   ]
  },
  {
   "cell_type": "markdown",
   "id": "12a257d6-8618-426f-8501-d469f873437a",
   "metadata": {},
   "source": [
    "# Technique 6 - Recursive Feature Elimination"
   ]
  },
  {
   "cell_type": "code",
   "execution_count": 28,
   "id": "0517ed3f-8e08-4ad3-bfaa-564647482b0b",
   "metadata": {},
   "outputs": [
    {
     "data": {
      "text/html": [
       "<div>\n",
       "<style scoped>\n",
       "    .dataframe tbody tr th:only-of-type {\n",
       "        vertical-align: middle;\n",
       "    }\n",
       "\n",
       "    .dataframe tbody tr th {\n",
       "        vertical-align: top;\n",
       "    }\n",
       "\n",
       "    .dataframe thead th {\n",
       "        text-align: right;\n",
       "    }\n",
       "</style>\n",
       "<table border=\"1\" class=\"dataframe\">\n",
       "  <thead>\n",
       "    <tr style=\"text-align: right;\">\n",
       "      <th></th>\n",
       "      <th>feature</th>\n",
       "      <th>rfe_score</th>\n",
       "    </tr>\n",
       "  </thead>\n",
       "  <tbody>\n",
       "    <tr>\n",
       "      <th>6</th>\n",
       "      <td>built_up_area</td>\n",
       "      <td>0.597352</td>\n",
       "    </tr>\n",
       "    <tr>\n",
       "      <th>8</th>\n",
       "      <td>bathroom</td>\n",
       "      <td>0.162607</td>\n",
       "    </tr>\n",
       "    <tr>\n",
       "      <th>1</th>\n",
       "      <td>bhk</td>\n",
       "      <td>0.150266</td>\n",
       "    </tr>\n",
       "    <tr>\n",
       "      <th>0</th>\n",
       "      <td>location</td>\n",
       "      <td>0.037598</td>\n",
       "    </tr>\n",
       "    <tr>\n",
       "      <th>9</th>\n",
       "      <td>luxury_category</td>\n",
       "      <td>0.018434</td>\n",
       "    </tr>\n",
       "    <tr>\n",
       "      <th>5</th>\n",
       "      <td>facing</td>\n",
       "      <td>0.011417</td>\n",
       "    </tr>\n",
       "    <tr>\n",
       "      <th>7</th>\n",
       "      <td>floor_category</td>\n",
       "      <td>0.008026</td>\n",
       "    </tr>\n",
       "    <tr>\n",
       "      <th>4</th>\n",
       "      <td>furnishing</td>\n",
       "      <td>0.005066</td>\n",
       "    </tr>\n",
       "    <tr>\n",
       "      <th>2</th>\n",
       "      <td>transaction</td>\n",
       "      <td>0.004812</td>\n",
       "    </tr>\n",
       "    <tr>\n",
       "      <th>3</th>\n",
       "      <td>status</td>\n",
       "      <td>0.004422</td>\n",
       "    </tr>\n",
       "  </tbody>\n",
       "</table>\n",
       "</div>"
      ],
      "text/plain": [
       "           feature  rfe_score\n",
       "6    built_up_area   0.597352\n",
       "8         bathroom   0.162607\n",
       "1              bhk   0.150266\n",
       "0         location   0.037598\n",
       "9  luxury_category   0.018434\n",
       "5           facing   0.011417\n",
       "7   floor_category   0.008026\n",
       "4       furnishing   0.005066\n",
       "2      transaction   0.004812\n",
       "3           status   0.004422"
      ]
     },
     "execution_count": 28,
     "metadata": {},
     "output_type": "execute_result"
    }
   ],
   "source": [
    "from sklearn.feature_selection import RFE\n",
    "\n",
    "estimator = RandomForestRegressor()\n",
    "\n",
    "# Apply RFE on the label-encoded and standardized training data\n",
    "selector_label = RFE(estimator, n_features_to_select=X_label.shape[1], step=1)\n",
    "selector_label = selector_label.fit(X_label, y_label)\n",
    "\n",
    "# Get the selected features based on RFE\n",
    "selected_features = X_label.columns[selector_label.support_]\n",
    "\n",
    "# Extract the coefficients for the selected features from the underlying linear regression model\n",
    "selected_coefficients = selector_label.estimator_.feature_importances_\n",
    "\n",
    "fi_df6 = pd.DataFrame({\n",
    "    'feature': selected_features,\n",
    "    'rfe_score': selected_coefficients\n",
    "}).sort_values(by='rfe_score', ascending=False)\n",
    "\n",
    "fi_df6"
   ]
  },
  {
   "cell_type": "markdown",
   "id": "bfb50825-9274-4a5b-b509-e045088c7966",
   "metadata": {},
   "source": [
    "# Technique 7 - Linear Regression Weights\n",
    "\n",
    "- Not Reliable\n",
    "  "
   ]
  },
  {
   "cell_type": "code",
   "execution_count": 29,
   "id": "76b79481-37ee-4f7e-9ce9-fa5f581fe152",
   "metadata": {},
   "outputs": [
    {
     "data": {
      "text/html": [
       "<div>\n",
       "<style scoped>\n",
       "    .dataframe tbody tr th:only-of-type {\n",
       "        vertical-align: middle;\n",
       "    }\n",
       "\n",
       "    .dataframe tbody tr th {\n",
       "        vertical-align: top;\n",
       "    }\n",
       "\n",
       "    .dataframe thead th {\n",
       "        text-align: right;\n",
       "    }\n",
       "</style>\n",
       "<table border=\"1\" class=\"dataframe\">\n",
       "  <thead>\n",
       "    <tr style=\"text-align: right;\">\n",
       "      <th></th>\n",
       "      <th>feature</th>\n",
       "      <th>reg_coeffs</th>\n",
       "    </tr>\n",
       "  </thead>\n",
       "  <tbody>\n",
       "    <tr>\n",
       "      <th>6</th>\n",
       "      <td>built_up_area</td>\n",
       "      <td>0.755449</td>\n",
       "    </tr>\n",
       "    <tr>\n",
       "      <th>8</th>\n",
       "      <td>bathroom</td>\n",
       "      <td>0.208004</td>\n",
       "    </tr>\n",
       "    <tr>\n",
       "      <th>1</th>\n",
       "      <td>bhk</td>\n",
       "      <td>0.059694</td>\n",
       "    </tr>\n",
       "    <tr>\n",
       "      <th>0</th>\n",
       "      <td>location</td>\n",
       "      <td>0.043593</td>\n",
       "    </tr>\n",
       "    <tr>\n",
       "      <th>7</th>\n",
       "      <td>floor_category</td>\n",
       "      <td>-0.007438</td>\n",
       "    </tr>\n",
       "    <tr>\n",
       "      <th>5</th>\n",
       "      <td>facing</td>\n",
       "      <td>-0.019599</td>\n",
       "    </tr>\n",
       "    <tr>\n",
       "      <th>4</th>\n",
       "      <td>furnishing</td>\n",
       "      <td>-0.022228</td>\n",
       "    </tr>\n",
       "    <tr>\n",
       "      <th>3</th>\n",
       "      <td>status</td>\n",
       "      <td>-0.028331</td>\n",
       "    </tr>\n",
       "    <tr>\n",
       "      <th>2</th>\n",
       "      <td>transaction</td>\n",
       "      <td>-0.041093</td>\n",
       "    </tr>\n",
       "    <tr>\n",
       "      <th>9</th>\n",
       "      <td>luxury_category</td>\n",
       "      <td>-0.149193</td>\n",
       "    </tr>\n",
       "  </tbody>\n",
       "</table>\n",
       "</div>"
      ],
      "text/plain": [
       "           feature  reg_coeffs\n",
       "6    built_up_area    0.755449\n",
       "8         bathroom    0.208004\n",
       "1              bhk    0.059694\n",
       "0         location    0.043593\n",
       "7   floor_category   -0.007438\n",
       "5           facing   -0.019599\n",
       "4       furnishing   -0.022228\n",
       "3           status   -0.028331\n",
       "2      transaction   -0.041093\n",
       "9  luxury_category   -0.149193"
      ]
     },
     "execution_count": 29,
     "metadata": {},
     "output_type": "execute_result"
    }
   ],
   "source": [
    "from sklearn.linear_model import LinearRegression\n",
    "\n",
    "lin_reg = LinearRegression()\n",
    "lin_reg.fit(X_scaled, y_label)\n",
    "\n",
    "# Extract coefficients\n",
    "fi_df7 = pd.DataFrame({\n",
    "    'feature': X_label.columns,\n",
    "    'reg_coeffs': lin_reg.coef_\n",
    "}).sort_values(by='reg_coeffs', ascending=False)\n",
    "\n",
    "fi_df7"
   ]
  },
  {
   "cell_type": "code",
   "execution_count": null,
   "id": "05339c29-8e88-41f7-88e6-3a81877a5212",
   "metadata": {},
   "outputs": [],
   "source": []
  },
  {
   "cell_type": "code",
   "execution_count": null,
   "id": "b4e84ff5-01a7-4db4-87bd-6b94a2353974",
   "metadata": {},
   "outputs": [],
   "source": []
  },
  {
   "cell_type": "code",
   "execution_count": 30,
   "id": "7bff3371-de0f-4400-821a-73f7bb8c7f41",
   "metadata": {},
   "outputs": [
    {
     "data": {
      "text/html": [
       "<div>\n",
       "<style scoped>\n",
       "    .dataframe tbody tr th:only-of-type {\n",
       "        vertical-align: middle;\n",
       "    }\n",
       "\n",
       "    .dataframe tbody tr th {\n",
       "        vertical-align: top;\n",
       "    }\n",
       "\n",
       "    .dataframe thead th {\n",
       "        text-align: right;\n",
       "    }\n",
       "</style>\n",
       "<table border=\"1\" class=\"dataframe\">\n",
       "  <thead>\n",
       "    <tr style=\"text-align: right;\">\n",
       "      <th></th>\n",
       "      <th>corr_coeff</th>\n",
       "      <th>rf_importance</th>\n",
       "      <th>gb_importance</th>\n",
       "      <th>permutation_importance</th>\n",
       "      <th>lasso_coeff</th>\n",
       "      <th>rfe_score</th>\n",
       "      <th>reg_coeffs</th>\n",
       "    </tr>\n",
       "    <tr>\n",
       "      <th>feature</th>\n",
       "      <th></th>\n",
       "      <th></th>\n",
       "      <th></th>\n",
       "      <th></th>\n",
       "      <th></th>\n",
       "      <th></th>\n",
       "      <th></th>\n",
       "    </tr>\n",
       "  </thead>\n",
       "  <tbody>\n",
       "    <tr>\n",
       "      <th>bhk</th>\n",
       "      <td>0.758309</td>\n",
       "      <td>0.149726</td>\n",
       "      <td>0.155503</td>\n",
       "      <td>0.050525</td>\n",
       "      <td>0.031082</td>\n",
       "      <td>0.150266</td>\n",
       "      <td>0.059694</td>\n",
       "    </tr>\n",
       "    <tr>\n",
       "      <th>transaction</th>\n",
       "      <td>-0.332182</td>\n",
       "      <td>0.005407</td>\n",
       "      <td>0.001382</td>\n",
       "      <td>-0.003138</td>\n",
       "      <td>-0.013422</td>\n",
       "      <td>0.004812</td>\n",
       "      <td>-0.041093</td>\n",
       "    </tr>\n",
       "    <tr>\n",
       "      <th>status</th>\n",
       "      <td>0.320258</td>\n",
       "      <td>0.004187</td>\n",
       "      <td>0.001089</td>\n",
       "      <td>0.002260</td>\n",
       "      <td>-0.005641</td>\n",
       "      <td>0.004422</td>\n",
       "      <td>-0.028331</td>\n",
       "    </tr>\n",
       "    <tr>\n",
       "      <th>furnishing</th>\n",
       "      <td>0.187341</td>\n",
       "      <td>0.005264</td>\n",
       "      <td>0.000396</td>\n",
       "      <td>0.000960</td>\n",
       "      <td>-0.001504</td>\n",
       "      <td>0.005066</td>\n",
       "      <td>-0.022228</td>\n",
       "    </tr>\n",
       "    <tr>\n",
       "      <th>facing</th>\n",
       "      <td>-0.064526</td>\n",
       "      <td>0.010972</td>\n",
       "      <td>0.003133</td>\n",
       "      <td>0.001926</td>\n",
       "      <td>-0.010017</td>\n",
       "      <td>0.011417</td>\n",
       "      <td>-0.019599</td>\n",
       "    </tr>\n",
       "    <tr>\n",
       "      <th>built_up_area</th>\n",
       "      <td>0.892522</td>\n",
       "      <td>0.616001</td>\n",
       "      <td>0.691979</td>\n",
       "      <td>0.817949</td>\n",
       "      <td>0.757345</td>\n",
       "      <td>0.597352</td>\n",
       "      <td>0.755449</td>\n",
       "    </tr>\n",
       "    <tr>\n",
       "      <th>floor_category</th>\n",
       "      <td>-0.003711</td>\n",
       "      <td>0.007437</td>\n",
       "      <td>0.000981</td>\n",
       "      <td>0.004750</td>\n",
       "      <td>-0.000000</td>\n",
       "      <td>0.008026</td>\n",
       "      <td>-0.007438</td>\n",
       "    </tr>\n",
       "    <tr>\n",
       "      <th>bathroom</th>\n",
       "      <td>0.791298</td>\n",
       "      <td>0.145065</td>\n",
       "      <td>0.098020</td>\n",
       "      <td>0.059715</td>\n",
       "      <td>0.219320</td>\n",
       "      <td>0.162607</td>\n",
       "      <td>0.208004</td>\n",
       "    </tr>\n",
       "    <tr>\n",
       "      <th>luxury_category</th>\n",
       "      <td>0.020831</td>\n",
       "      <td>0.020361</td>\n",
       "      <td>0.002848</td>\n",
       "      <td>0.005992</td>\n",
       "      <td>-0.128781</td>\n",
       "      <td>0.018434</td>\n",
       "      <td>-0.149193</td>\n",
       "    </tr>\n",
       "  </tbody>\n",
       "</table>\n",
       "</div>"
      ],
      "text/plain": [
       "                 corr_coeff  rf_importance  gb_importance  \\\n",
       "feature                                                     \n",
       "bhk                0.758309       0.149726       0.155503   \n",
       "transaction       -0.332182       0.005407       0.001382   \n",
       "status             0.320258       0.004187       0.001089   \n",
       "furnishing         0.187341       0.005264       0.000396   \n",
       "facing            -0.064526       0.010972       0.003133   \n",
       "built_up_area      0.892522       0.616001       0.691979   \n",
       "floor_category    -0.003711       0.007437       0.000981   \n",
       "bathroom           0.791298       0.145065       0.098020   \n",
       "luxury_category    0.020831       0.020361       0.002848   \n",
       "\n",
       "                 permutation_importance  lasso_coeff  rfe_score  reg_coeffs  \n",
       "feature                                                                      \n",
       "bhk                            0.050525     0.031082   0.150266    0.059694  \n",
       "transaction                   -0.003138    -0.013422   0.004812   -0.041093  \n",
       "status                         0.002260    -0.005641   0.004422   -0.028331  \n",
       "furnishing                     0.000960    -0.001504   0.005066   -0.022228  \n",
       "facing                         0.001926    -0.010017   0.011417   -0.019599  \n",
       "built_up_area                  0.817949     0.757345   0.597352    0.755449  \n",
       "floor_category                 0.004750    -0.000000   0.008026   -0.007438  \n",
       "bathroom                       0.059715     0.219320   0.162607    0.208004  \n",
       "luxury_category                0.005992    -0.128781   0.018434   -0.149193  "
      ]
     },
     "execution_count": 30,
     "metadata": {},
     "output_type": "execute_result"
    }
   ],
   "source": [
    "final_fi_df = fi_df1.merge(fi_df2,on='feature').merge(fi_df3,on='feature').merge(fi_df4,on='feature').merge(fi_df5,on='feature').merge(fi_df6,on='feature').merge(fi_df7,on='feature').set_index('feature')\n",
    "\n",
    "final_fi_df"
   ]
  },
  {
   "cell_type": "code",
   "execution_count": 31,
   "id": "f800695f-00cb-49e6-8e9e-b31f2be5e1ab",
   "metadata": {},
   "outputs": [
    {
     "data": {
      "text/plain": [
       "feature\n",
       "built_up_area      0.713260\n",
       "bhk                0.131964\n",
       "bathroom           0.121361\n",
       "luxury_category    0.012404\n",
       "facing             0.007141\n",
       "floor_category     0.005532\n",
       "status             0.003120\n",
       "furnishing         0.003039\n",
       "transaction        0.002180\n",
       "dtype: float64"
      ]
     },
     "execution_count": 31,
     "metadata": {},
     "output_type": "execute_result"
    }
   ],
   "source": [
    "final_fi_df = final_fi_df.divide(final_fi_df.sum(axis=0), axis=1)\n",
    "\n",
    "final_fi_df[['rf_importance','gb_importance','permutation_importance','rfe_score']].mean(axis=1).sort_values(ascending=False)"
   ]
  },
  {
   "cell_type": "code",
   "execution_count": null,
   "id": "e5c2cfda-c0b0-41c3-9cdd-44ec6b75a3a2",
   "metadata": {},
   "outputs": [],
   "source": []
  },
  {
   "cell_type": "code",
   "execution_count": null,
   "id": "541bd16d-7506-4b45-9a8f-23c153825de2",
   "metadata": {},
   "outputs": [],
   "source": []
  },
  {
   "cell_type": "code",
   "execution_count": 32,
   "id": "bbf23238-3db2-43ef-8c23-947772572f2b",
   "metadata": {},
   "outputs": [
    {
     "data": {
      "text/plain": [
       "0.8718852511189581"
      ]
     },
     "execution_count": 32,
     "metadata": {},
     "output_type": "execute_result"
    }
   ],
   "source": [
    "from sklearn.model_selection import cross_val_score, KFold\n",
    "\n",
    "random_state = np.random.randint(1,100)\n",
    "rf = RandomForestRegressor(n_estimators=100, random_state=random_state)\n",
    "\n",
    "scores = cross_val_score(rf, X_label, y_label, cv=KFold(n_splits=5,shuffle=True,random_state=random_state), scoring='r2')\n",
    "scores.mean()"
   ]
  },
  {
   "cell_type": "code",
   "execution_count": 33,
   "id": "ab9b4e1f-7993-4494-9f62-0e10941aabf1",
   "metadata": {},
   "outputs": [
    {
     "data": {
      "text/plain": [
       "84"
      ]
     },
     "execution_count": 33,
     "metadata": {},
     "output_type": "execute_result"
    }
   ],
   "source": [
    "train_df.duplicated().sum()"
   ]
  },
  {
   "cell_type": "code",
   "execution_count": 34,
   "id": "814571ae-215d-4f99-9c68-85609f8cc087",
   "metadata": {},
   "outputs": [
    {
     "data": {
      "text/plain": [
       "(3005, 11)"
      ]
     },
     "execution_count": 34,
     "metadata": {},
     "output_type": "execute_result"
    }
   ],
   "source": [
    "train_df.drop_duplicates(inplace=True)\n",
    "\n",
    "train_df.shape"
   ]
  },
  {
   "cell_type": "code",
   "execution_count": 35,
   "id": "59dfc7fe-2e96-4da0-8078-b63a636a371f",
   "metadata": {},
   "outputs": [
    {
     "data": {
      "text/plain": [
       "location           0\n",
       "bhk                0\n",
       "transaction        0\n",
       "status             0\n",
       "furnishing         0\n",
       "facing             0\n",
       "price              0\n",
       "built_up_area      0\n",
       "floor_category     0\n",
       "bathroom           0\n",
       "luxury_category    1\n",
       "dtype: int64"
      ]
     },
     "execution_count": 35,
     "metadata": {},
     "output_type": "execute_result"
    }
   ],
   "source": [
    "train_df.isna().sum()"
   ]
  },
  {
   "cell_type": "code",
   "execution_count": 36,
   "id": "b6e472c5-d2d5-416b-85d0-5b9dd0a8c9e2",
   "metadata": {},
   "outputs": [],
   "source": [
    "train_df.dropna(inplace=True)"
   ]
  },
  {
   "cell_type": "code",
   "execution_count": 39,
   "id": "6dd09067-fcfb-49c3-979c-1aa1b03acdd7",
   "metadata": {},
   "outputs": [],
   "source": [
    "train_df = train_df[['location', 'bhk', 'built_up_area', 'transaction', 'status', 'furnishing', 'facing', 'bathroom', 'floor_category','luxury_category','price']]"
   ]
  },
  {
   "cell_type": "code",
   "execution_count": 40,
   "id": "81d56dd7-abe0-495e-8914-8ca5387123f8",
   "metadata": {},
   "outputs": [],
   "source": [
    "train_df.reset_index(drop=True, inplace=True)"
   ]
  },
  {
   "cell_type": "code",
   "execution_count": 41,
   "id": "4bcd3f77-c7f7-4d65-80d4-90203c8963da",
   "metadata": {},
   "outputs": [],
   "source": [
    "train_df.to_csv('surat_fs.csv', index=False)"
   ]
  },
  {
   "cell_type": "code",
   "execution_count": null,
   "id": "ddcdd735-c9c9-4afd-8502-f3f6b8c60927",
   "metadata": {},
   "outputs": [],
   "source": []
  }
 ],
 "metadata": {
  "kernelspec": {
   "display_name": "Python 3 (ipykernel)",
   "language": "python",
   "name": "python3"
  },
  "language_info": {
   "codemirror_mode": {
    "name": "ipython",
    "version": 3
   },
   "file_extension": ".py",
   "mimetype": "text/x-python",
   "name": "python",
   "nbconvert_exporter": "python",
   "pygments_lexer": "ipython3",
   "version": "3.11.7"
  }
 },
 "nbformat": 4,
 "nbformat_minor": 5
}
