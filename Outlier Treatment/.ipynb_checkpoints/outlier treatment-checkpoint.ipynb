{
 "cells": [
  {
   "cell_type": "code",
   "execution_count": null,
   "id": "4ce991a7-0200-4441-9b4a-4ec2ddf8217f",
   "metadata": {},
   "outputs": [],
   "source": [
    "import numpy as np\n",
    "import pandas as pd\n",
    "import matplotlib.pyplot as plt\n",
    "import seaborn as sns"
   ]
  },
  {
   "cell_type": "code",
   "execution_count": null,
   "id": "e8f499ff-3343-44a9-95b3-31c1567774cb",
   "metadata": {},
   "outputs": [],
   "source": [
    "pd.set_option('display.max_columns', None)"
   ]
  },
  {
   "cell_type": "code",
   "execution_count": null,
   "id": "4c541d3e-9dec-436b-b910-56a139f0c195",
   "metadata": {},
   "outputs": [],
   "source": [
    "df = pd.read_csv('surat_edaUni.csv')\n",
    "df.shape"
   ]
  },
  {
   "cell_type": "code",
   "execution_count": null,
   "id": "cf6a75de-8a76-4f70-92f1-12ffcbce5630",
   "metadata": {},
   "outputs": [],
   "source": [
    "df.duplicated().sum()"
   ]
  },
  {
   "cell_type": "code",
   "execution_count": null,
   "id": "b2cd09ec-9b4a-4ddc-b6d7-ac09507c1ff4",
   "metadata": {},
   "outputs": [],
   "source": [
    "df.bhk = df.bhk.astype('int16')"
   ]
  },
  {
   "cell_type": "code",
   "execution_count": null,
   "id": "05dc428d-76f8-4568-bd22-7ffaf3230b7c",
   "metadata": {},
   "outputs": [],
   "source": [
    "df.info()"
   ]
  },
  {
   "cell_type": "code",
   "execution_count": null,
   "id": "2eded82f-3d54-4791-840f-8f62a29aa0bd",
   "metadata": {},
   "outputs": [],
   "source": [
    "df.head()"
   ]
  },
  {
   "cell_type": "code",
   "execution_count": null,
   "id": "16edf4fb-d81e-4c47-a1cc-42222aeae8c5",
   "metadata": {},
   "outputs": [],
   "source": [
    "df.columns"
   ]
  },
  {
   "cell_type": "markdown",
   "id": "fbb29475-9b52-424f-b6f1-332728283d3a",
   "metadata": {},
   "source": [
    "# square_feet"
   ]
  },
  {
   "cell_type": "code",
   "execution_count": null,
   "id": "6741c24e-b9cb-4f52-b8e0-3003f651ee17",
   "metadata": {},
   "outputs": [],
   "source": [
    "sns.distplot(df['square_feet'])\n",
    "plt.show()"
   ]
  },
  {
   "cell_type": "code",
   "execution_count": null,
   "id": "46dcdab9-b982-4857-8b29-235497750d23",
   "metadata": {},
   "outputs": [],
   "source": [
    "sns.boxplot(df['square_feet'])\n",
    "plt.show()"
   ]
  },
  {
   "cell_type": "code",
   "execution_count": null,
   "id": "a0c9ef32-e968-428a-a860-b4bdb6971e2b",
   "metadata": {},
   "outputs": [],
   "source": [
    "Q1 = df['square_feet'].quantile(0.25)\n",
    "Q3 = df['square_feet'].quantile(0.75)\n",
    "IQR = Q3 - Q1\n",
    "\n",
    "# Define bounds for outliers\n",
    "lower_bound = Q1 - 1.5 * IQR\n",
    "upper_bound = Q3 + 1.5 * IQR\n",
    "\n",
    "# Identify outliers\n",
    "outliers = df[(df['square_feet'] < lower_bound) | (df['square_feet'] > upper_bound)]\n",
    "\n",
    "# Displaying the number of outliers and some statistics\n",
    "num_outliers = outliers.shape[0]\n",
    "outliers_sqft_stats = outliers['square_feet'].describe()\n",
    "\n",
    "num_outliers, outliers_sqft_stats"
   ]
  },
  {
   "cell_type": "code",
   "execution_count": null,
   "id": "d6de08ac-8d1e-45e5-a6fe-bad85e6ea53d",
   "metadata": {},
   "outputs": [],
   "source": [
    "outliers[outliers['bhk'] == 4].sort_values('square_feet',ascending=False).head(20)"
   ]
  },
  {
   "cell_type": "code",
   "execution_count": null,
   "id": "9ad90036-cb36-4889-8201-d45c2d90142e",
   "metadata": {},
   "outputs": [],
   "source": [
    "# on the basis of square_feet col we can say that there are genuine outliers"
   ]
  },
  {
   "cell_type": "markdown",
   "id": "7792568f-6a34-46f3-9cf6-c497435f189d",
   "metadata": {},
   "source": [
    "# price_per_sqft"
   ]
  },
  {
   "cell_type": "code",
   "execution_count": null,
   "id": "24602e79-2055-43be-b479-0351216346da",
   "metadata": {},
   "outputs": [],
   "source": [
    "sns.distplot(df['price_per_sqft'])\n",
    "plt.show()"
   ]
  },
  {
   "cell_type": "code",
   "execution_count": null,
   "id": "1a6c7d2e-3c5b-4e5c-a8ff-584d873d0bd0",
   "metadata": {},
   "outputs": [],
   "source": [
    "sns.boxplot(df['price_per_sqft'])\n",
    "plt.show()"
   ]
  },
  {
   "cell_type": "code",
   "execution_count": null,
   "id": "3e0e916d-92fe-49b0-86b7-b192abf5f3d1",
   "metadata": {},
   "outputs": [],
   "source": [
    "# Calculate the IQR for the 'price_per_sqft' column\n",
    "Q1 = df['price_per_sqft'].quantile(0.25)\n",
    "Q3 = df['price_per_sqft'].quantile(0.75)\n",
    "IQR = Q3 - Q1\n",
    "\n",
    "# Define bounds for outliers\n",
    "lower_bound = Q1 - 1.5 * IQR\n",
    "upper_bound = Q3 + 1.5 * IQR\n",
    "\n",
    "# Identify outliers\n",
    "outliers = df[(df['price_per_sqft'] < lower_bound) | (df['price_per_sqft'] > upper_bound)]\n",
    "\n",
    "# Displaying the number of outliers and some statistics\n",
    "num_outliers = outliers.shape[0]\n",
    "outliers_price_per_sqft_stats = outliers['price_per_sqft'].describe()\n",
    "\n",
    "num_outliers, outliers_price_per_sqft_stats"
   ]
  },
  {
   "cell_type": "code",
   "execution_count": null,
   "id": "9e2d2744-232f-469f-a1b3-a199a1d79000",
   "metadata": {},
   "outputs": [],
   "source": [
    "df.shape"
   ]
  },
  {
   "cell_type": "code",
   "execution_count": null,
   "id": "12b7d874-8d1e-4ac2-bf87-7f2f8e3626fb",
   "metadata": {},
   "outputs": [],
   "source": [
    "outliers.sort_values('price_per_sqft',ascending=False)"
   ]
  },
  {
   "cell_type": "code",
   "execution_count": null,
   "id": "ef74e797-d991-48ed-93f9-ba4f01a3acb8",
   "metadata": {},
   "outputs": [],
   "source": [
    "df = df[~(df['price_per_sqft']>=30000)]"
   ]
  },
  {
   "cell_type": "code",
   "execution_count": null,
   "id": "4d8273c9-102e-4ce1-aa54-bd8f3f105bfb",
   "metadata": {},
   "outputs": [],
   "source": [
    "df.shape"
   ]
  },
  {
   "cell_type": "code",
   "execution_count": null,
   "id": "aa79dcb4-f225-4704-a8d0-ee6743ba5e4b",
   "metadata": {},
   "outputs": [],
   "source": [
    "sns.distplot(df['price_per_sqft'])\n",
    "plt.show()"
   ]
  },
  {
   "cell_type": "code",
   "execution_count": null,
   "id": "ec56f6f8-28f2-48e3-9300-0a05a607a4db",
   "metadata": {},
   "outputs": [],
   "source": [
    "sns.boxplot(df['price_per_sqft'])\n",
    "plt.show()"
   ]
  },
  {
   "cell_type": "markdown",
   "id": "64aa278f-8614-482e-b281-738c1bc82ac9",
   "metadata": {},
   "source": [
    "# price"
   ]
  },
  {
   "cell_type": "code",
   "execution_count": null,
   "id": "c8095f44-bec8-4e9f-b90c-cf2bf432a737",
   "metadata": {},
   "outputs": [],
   "source": [
    "sns.distplot(df['price'])\n",
    "plt.show()"
   ]
  },
  {
   "cell_type": "code",
   "execution_count": null,
   "id": "3331b9eb-12a3-471c-8ee5-7c7957fa94b5",
   "metadata": {},
   "outputs": [],
   "source": [
    "sns.boxplot(df['price'])\n",
    "plt.show()"
   ]
  },
  {
   "cell_type": "code",
   "execution_count": null,
   "id": "825a0c2a-4082-46f7-9abc-037474ac51b9",
   "metadata": {},
   "outputs": [],
   "source": [
    "# Calculate the IQR for the 'price' column\n",
    "Q1 = df['price'].quantile(0.25)\n",
    "Q3 = df['price'].quantile(0.75)\n",
    "IQR = Q3 - Q1\n",
    "\n",
    "# Define bounds for outliers\n",
    "lower_bound = Q1 - 1.5 * IQR\n",
    "upper_bound = Q3 + 1.5 * IQR\n",
    "\n",
    "# Identify outliers\n",
    "outliers = df[(df['price'] < lower_bound) | (df['price'] > upper_bound)]\n",
    "\n",
    "# Displaying the number of outliers and some statistics\n",
    "num_outliers = outliers.shape[0]\n",
    "outliers_price_stats = outliers['price'].describe()\n",
    "\n",
    "num_outliers, outliers_price_stats"
   ]
  },
  {
   "cell_type": "code",
   "execution_count": null,
   "id": "538feac3-b2d6-4057-8816-a25d8ff6437b",
   "metadata": {},
   "outputs": [],
   "source": [
    "outliers[outliers['bhk'] == 4].sort_values('price',ascending=False)"
   ]
  },
  {
   "cell_type": "code",
   "execution_count": null,
   "id": "1e569c35-1c68-43a6-87fa-d49ec0283875",
   "metadata": {},
   "outputs": [],
   "source": [
    "x = df[df['price_per_sqft'] < 2000]\n",
    "\n",
    "(x['square_feet']/x['bhk']).quantile(0.05)"
   ]
  },
  {
   "cell_type": "code",
   "execution_count": null,
   "id": "e56a7b66-73a8-43d9-8f11-6e23eba700d2",
   "metadata": {},
   "outputs": [],
   "source": [
    "df[df['square_feet']/df['bhk'] < 355]"
   ]
  },
  {
   "cell_type": "code",
   "execution_count": null,
   "id": "111bea58-b41d-4d83-9863-e85c4d91d0b2",
   "metadata": {},
   "outputs": [],
   "source": [
    "df[df['bhk'] > 6]"
   ]
  },
  {
   "cell_type": "code",
   "execution_count": null,
   "id": "7f8a859c-ac43-40d0-849d-96afbffe4c97",
   "metadata": {},
   "outputs": [],
   "source": [
    "df.shape"
   ]
  },
  {
   "cell_type": "code",
   "execution_count": null,
   "id": "90cfe02a-628d-483b-a2d8-367b94b40064",
   "metadata": {},
   "outputs": [],
   "source": [
    " "
   ]
  },
  {
   "cell_type": "markdown",
   "id": "8b868c6e-1ab4-43a9-b0e7-80d1f619ecac",
   "metadata": {},
   "source": [
    "# Built-up Area"
   ]
  },
  {
   "cell_type": "code",
   "execution_count": null,
   "id": "7eccb2c3-1b95-4f53-ba7f-3f83a88223de",
   "metadata": {},
   "outputs": [],
   "source": [
    "def calculate_built_up_area(row):\n",
    "    if row['areatype'] == 'Carpet Area':\n",
    "        # Increase the carpet area by 10-20% to estimate the built-up area\n",
    "        return round(row['area'] * 1.1 ) # or use 1.2 for 20% increase\n",
    "    elif row['areatype'] == 'Super Area':\n",
    "        # Use the Super Area as it is for built-up area\n",
    "        return row['area']  # Super Area is usually close to Built-up Area\n",
    "    else:\n",
    "        return row['area']  # Fallback to area if type is unknown\n",
    "\n",
    "# Apply the function to create a new column\n",
    "df['built_up_area'] = df.apply(calculate_built_up_area, axis=1)"
   ]
  }
 ],
 "metadata": {
  "kernelspec": {
   "display_name": "Python 3 (ipykernel)",
   "language": "python",
   "name": "python3"
  },
  "language_info": {
   "codemirror_mode": {
    "name": "ipython",
    "version": 3
   },
   "file_extension": ".py",
   "mimetype": "text/x-python",
   "name": "python",
   "nbconvert_exporter": "python",
   "pygments_lexer": "ipython3",
   "version": "3.11.7"
  }
 },
 "nbformat": 4,
 "nbformat_minor": 5
}
